{
  "nbformat": 4,
  "nbformat_minor": 0,
  "metadata": {
    "accelerator": "GPU",
    "colab": {
      "name": "YOLOv5 Training.ipynb",
      "provenance": [],
      "collapsed_sections": [
        "3Si8WMHyG-PN",
        "ShKsc2g2DxKL"
      ],
      "toc_visible": true,
      "authorship_tag": "ABX9TyNyhIhvavcq+6uF5x6/F/M6",
      "include_colab_link": true
    },
    "kernelspec": {
      "display_name": "Python 3",
      "name": "python3"
    }
  },
  "cells": [
    {
      "cell_type": "markdown",
      "metadata": {
        "id": "view-in-github",
        "colab_type": "text"
      },
      "source": [
        "<a href=\"https://colab.research.google.com/github/MaleNurse/YOLOv5_Trainer/blob/main/YOLOv5_Training.ipynb\" target=\"_parent\"><img src=\"https://colab.research.google.com/assets/colab-badge.svg\" alt=\"Open In Colab\"/></a>"
      ]
    },
    {
      "cell_type": "markdown",
      "metadata": {
        "id": "8GEZSbEoEiZ6"
      },
      "source": [
        "# Setup environment"
      ]
    },
    {
      "cell_type": "markdown",
      "metadata": {
        "id": "ju4WizM829oI"
      },
      "source": [
        "Connect Google Drive"
      ]
    },
    {
      "cell_type": "code",
      "metadata": {
        "colab": {
          "base_uri": "https://localhost:8080/"
        },
        "id": "Ce8PGyZj286w",
        "outputId": "5b12e7d3-4a03-496e-a6ab-586407cfb8f7"
      },
      "source": [
        "from google.colab import drive\r\n",
        "drive.mount('/content/drive')"
      ],
      "execution_count": 1,
      "outputs": [
        {
          "output_type": "stream",
          "text": [
            "Mounted at /content/drive\n"
          ],
          "name": "stdout"
        }
      ]
    },
    {
      "cell_type": "markdown",
      "metadata": {
        "id": "yL1hZIdnC7Ey"
      },
      "source": [
        "Update environment"
      ]
    },
    {
      "cell_type": "code",
      "metadata": {
        "id": "KuVh0_N7-T5z"
      },
      "source": [
        "! apt update\r\n",
        "! apt upgrade\r\n",
        "! apt install libcudnn7 libcublas-dev libcublas10 libcudnn7 libcudnn7-dev libnccl-dev libnccl2 --allow-change-held-packages\r\n",
        "! echo \"Segment complete\""
      ],
      "execution_count": null,
      "outputs": []
    },
    {
      "cell_type": "markdown",
      "metadata": {
        "id": "u3w02tPW3L-E"
      },
      "source": [
        "Check GPU and Driver Version (req >=460)"
      ]
    },
    {
      "cell_type": "code",
      "metadata": {
        "id": "JtMJ8Ooh3NvG"
      },
      "source": [
        "gpu_info = !nvidia-smi\r\n",
        "gpu_info = '\\n'.join(gpu_info)\r\n",
        "if gpu_info.find('failed') >= 0:\r\n",
        "  print('Select the Runtime > \"Change runtime type\" menu to enable a GPU accelerator, ')\r\n",
        "  print('and then re-execute this cell.')\r\n",
        "else:\r\n",
        "  print(gpu_info)"
      ],
      "execution_count": null,
      "outputs": []
    },
    {
      "cell_type": "markdown",
      "metadata": {
        "id": "NjHc-JA22jwt"
      },
      "source": [
        "Install YOLOv5 and depends"
      ]
    },
    {
      "cell_type": "code",
      "metadata": {
        "id": "oSE4BClo1hjj"
      },
      "source": [
        "!git clone https://github.com/ultralytics/yolov5  # clone repo\r\n",
        "!pip install imgaug==0.2.5  # deal w/ dependency issue\r\n",
        "!pip install -U -r yolov5/requirements.txt  # install dependencies\r\n",
        "!pip install torch==1.7.1+cu101 torchvision==0.8.2+cu101 -f https://download.pytorch.org/whl/torch_stable.html # update torch to work with newer drivers\r\n",
        "!pip install wandb\r\n",
        "!echo \"Segment complete RESTART\""
      ],
      "execution_count": null,
      "outputs": []
    },
    {
      "cell_type": "markdown",
      "metadata": {
        "id": "Upjb_W286Dk4"
      },
      "source": [
        "Update YOLOv5 if, for some reason, it's already cloned"
      ]
    },
    {
      "cell_type": "code",
      "metadata": {
        "id": "vyMobjlO537P"
      },
      "source": [
        "%cd /content/yolov5\r\n",
        "!git pull"
      ],
      "execution_count": null,
      "outputs": []
    },
    {
      "cell_type": "markdown",
      "metadata": {
        "id": "dTwubH1i2es0"
      },
      "source": [
        "Check Torch environment (ensure no errors thrown)"
      ]
    },
    {
      "cell_type": "code",
      "metadata": {
        "colab": {
          "base_uri": "https://localhost:8080/"
        },
        "id": "BwlF4OXt1t_M",
        "outputId": "e48867d5-e5c6-49d9-d73b-a3c5c795408a"
      },
      "source": [
        "%cd /content/yolov5\r\n",
        "import torch\r\n",
        "from IPython.display import Image  # for displaying images\r\n",
        "from utils.google_utils import gdrive_download  # for downloading models/datasets\r\n",
        "\r\n",
        "print('torch %s %s' % (torch.__version__, torch.cuda.get_device_properties(0) if torch.cuda.is_available() else 'CPU'))"
      ],
      "execution_count": 1,
      "outputs": [
        {
          "output_type": "stream",
          "text": [
            "/content/yolov5\n",
            "torch 1.7.1+cu101 _CudaDeviceProperties(name='Tesla P100-PCIE-16GB', major=6, minor=0, total_memory=16280MB, multi_processor_count=56)\n"
          ],
          "name": "stdout"
        }
      ]
    },
    {
      "cell_type": "markdown",
      "metadata": {
        "id": "EhXTjwObBUjz"
      },
      "source": [
        "Customize iPython writefile so we can write variables"
      ]
    },
    {
      "cell_type": "code",
      "metadata": {
        "colab": {
          "base_uri": "https://localhost:8080/"
        },
        "id": "CAzD_ZQNBKlF",
        "outputId": "d7453d81-7e67-4af5-90fd-a88474e46164"
      },
      "source": [
        "from IPython.core.magic import register_line_cell_magic\r\n",
        "\r\n",
        "@register_line_cell_magic\r\n",
        "def writetemplate(line, cell):\r\n",
        "    with open(line, 'w') as f:\r\n",
        "        f.write(cell.format(**globals()))\r\n",
        "!echo \"Segment complete\""
      ],
      "execution_count": 2,
      "outputs": [
        {
          "output_type": "stream",
          "text": [
            "Segment complete\n"
          ],
          "name": "stdout"
        }
      ]
    },
    {
      "cell_type": "markdown",
      "metadata": {
        "id": "N5SXLdJXEntT"
      },
      "source": [
        "# Setup training model"
      ]
    },
    {
      "cell_type": "markdown",
      "metadata": {
        "id": "GBkC2LMXeSsE"
      },
      "source": [
        "Define training parameters and make dependant paths/strings\r\n",
        "\r\n",
        "**Known good configs**\r\n",
        "\r\n",
        "yolov5x batch 18 img 640 epoch 250 w/ deepstack mod\r\n",
        "\r\n",
        "yolov5l batch 20 img 736 epoch ??? w/ deepstack mod"
      ]
    },
    {
      "cell_type": "code",
      "metadata": {
        "colab": {
          "base_uri": "https://localhost:8080/"
        },
        "id": "jvESB6SWQGa8",
        "outputId": "121b8c68-17a8-4c92-807b-659c38261372"
      },
      "source": [
        "# Set variables above separator. Don't delete the quote marks!\r\n",
        "\r\n",
        "# Known good configs\r\n",
        "# yolov5x batch 18 img 640 epoch 250 w/ deepstack mod\r\n",
        "# yolov5l batch 20 img 736 epoch ??? w/ deepstack mod\r\n",
        "\r\n",
        "model_size = 'l'        # trailing end of the training model desired (s, m, l, or x)\r\n",
        "check = 'y'             # use a checkpoint in the training? ('y' if yes)\r\n",
        "deepstack = 'y'         # training for deepstack server? ('y' is yes)\r\n",
        "img_size = '736'        # to what resolution to scale training images (e.g. 640) must be mult of 32\r\n",
        "batch_size = '20'\r\n",
        "epochs = '300'\r\n",
        "comment = 'aug3'        # something to distringuish the run name, if needed (e.g. aug_dsx)\r\n",
        "test_img_size = '736'   # to what resolution to scale testing images (e.g. 960)  must be mult of 32\r\n",
        "test_conf = '0.5'       # confidence threshold for inference testing (e.g. 0.5)\r\n",
        "\r\n",
        "##########################################################################################\r\n",
        "\r\n",
        "import os.path, shutil, os\r\n",
        "from os import path\r\n",
        "\r\n",
        "i = 1\r\n",
        "j = 1\r\n",
        "\r\n",
        "#make base model path\r\n",
        "model_yaml = '/content/yolov5/models/yolov5' + model_size + '.yaml'\r\n",
        "\r\n",
        "if not comment: \r\n",
        "  #make run name if no comment entered\r\n",
        "  run_name = '5' + model_size + '_i' + img_size + '_b' + batch_size\r\n",
        "else:\r\n",
        "  #make run name if comment exists\r\n",
        "  run_name = '5' + model_size + '_i' + img_size + '_b' + batch_size + '_' + comment\r\n",
        "\r\n",
        "if deepstack == 'y':\r\n",
        "  run_name = run_name + '_ds'\r\n",
        "\r\n",
        "#if directory exists with current run name, start incrementing run name by 1 until unique\r\n",
        "if path.exists(path.join('/content/drive/MyDrive/colab_out/', run_name)):                 \r\n",
        "  while path.exists(path.join('/content/drive/MyDrive/colab_out/', run_name + str(i))):\r\n",
        "    i += 1\r\n",
        "  run_name = run_name + str(i)\r\n",
        "\r\n",
        "#set path to run\r\n",
        "run_path = '/content/drive/MyDrive/colab_out/' + run_name\r\n",
        "\r\n",
        "exp_dir = '/content/drive/MyDrive/colab_out/exp'\r\n",
        "\r\n",
        "#find next available exp directory if \"exp\" already exists\r\n",
        "if path.exists('/content/drive/MyDrive/colab_out/exp'):                 \r\n",
        "  while path.exists(path.join('/content/drive/MyDrive/colab_out/exp' + str(j))):\r\n",
        "    j += 1\r\n",
        "  exp_dir = exp_dir + str(j)\r\n",
        "\r\n",
        "#make string for inference testing output\r\n",
        "exp_img = path.join(exp_dir, '*.jpg')\r\n",
        "\r\n",
        "#set path to weights\r\n",
        "weights = run_path + '/weights/best.pt'\r\n",
        "\r\n",
        "#set checkpoint name\r\n",
        "if check == 'y':\r\n",
        "  chkpnt = 'yolov5' + model_size + '.pt'\r\n",
        "  #if training for deepstack, copy v3 weight file to correct path so v4 isn't downloaded\r\n",
        "  if deepstack == 'y'\r\n",
        "    chkpnt_tmp = path.join('/content/drive/MyDrive/v3_weights', chkpnt)\r\n",
        "    shutil.copy(chkpnt_tmp, '/content/yolov5/')\r\n",
        "else:\r\n",
        "  chkpnt = ''\r\n",
        "\r\n",
        "!echo \"This run is called $run_name and the exp folder will be $exp_dir\""
      ],
      "execution_count": 31,
      "outputs": [
        {
          "output_type": "stream",
          "text": [
            "This run is called 5l_i736_b20_aug3_ds and the exp folder will be /content/drive/MyDrive/colab_out/exp\n"
          ],
          "name": "stdout"
        }
      ]
    },
    {
      "cell_type": "code",
      "metadata": {
        "colab": {
          "base_uri": "https://localhost:8080/",
          "height": 35
        },
        "id": "ALP9BrRiC0VS",
        "outputId": "03821a8a-d7d9-4c70-d501-943339dbcfff"
      },
      "source": [
        "import os.path, shutil, os\r\n",
        "from os import path\r\n",
        "\r\n",
        "shutil.copy(chkpnt_tmp, '/content/yolov5/')"
      ],
      "execution_count": 26,
      "outputs": [
        {
          "output_type": "execute_result",
          "data": {
            "application/vnd.google.colaboratory.intrinsic+json": {
              "type": "string"
            },
            "text/plain": [
              "'/content/yolov5/yolov5l.pt'"
            ]
          },
          "metadata": {
            "tags": []
          },
          "execution_count": 26
        }
      ]
    },
    {
      "cell_type": "markdown",
      "metadata": {
        "id": "wkyZbsSYBNED"
      },
      "source": [
        "Define number of classes based on YAML from Roboflow"
      ]
    },
    {
      "cell_type": "code",
      "metadata": {
        "colab": {
          "base_uri": "https://localhost:8080/"
        },
        "id": "-K6CjIyo7KzA",
        "outputId": "12e67b79-4db7-4688-dd73-dbbeb4b19415"
      },
      "source": [
        "%cd /content/drive/MyDrive/my-dataset\r\n",
        "import yaml\r\n",
        "with open(\"data.yaml\", 'r') as stream:\r\n",
        "    num_classes = str(yaml.safe_load(stream)['nc'])\r\n",
        "!echo \"Segment complete\""
      ],
      "execution_count": 4,
      "outputs": [
        {
          "output_type": "stream",
          "text": [
            "/content/drive/MyDrive/my-dataset\n",
            "Segment complete\n"
          ],
          "name": "stdout"
        }
      ]
    },
    {
      "cell_type": "markdown",
      "metadata": {
        "id": "wPrj-wxwoSE7"
      },
      "source": [
        "Modify Roboflow YAML with correct directories"
      ]
    },
    {
      "cell_type": "code",
      "metadata": {
        "colab": {
          "base_uri": "https://localhost:8080/"
        },
        "id": "sNJOamLhrJV3",
        "outputId": "98cdaa41-4e77-4334-ff1e-ece6e52719f6"
      },
      "source": [
        "%cd /content/drive/MyDrive/my-dataset\r\n",
        "!sed 's/\\.\\./\\/content\\/drive\\/MyDrive\\/my-dataset/' data.yaml >temp.yaml\r\n",
        "!mv temp.yaml data.yaml\r\n",
        "!echo \"Segment complete\""
      ],
      "execution_count": 5,
      "outputs": [
        {
          "output_type": "stream",
          "text": [
            "/content/drive/MyDrive/my-dataset\n",
            "Segment complete\n"
          ],
          "name": "stdout"
        }
      ]
    },
    {
      "cell_type": "markdown",
      "metadata": {
        "id": "R9DYYFMsBmIm"
      },
      "source": [
        "Output desired model size (adjust as necessary)"
      ]
    },
    {
      "cell_type": "code",
      "metadata": {
        "id": "Qc9s-rnbBt3x"
      },
      "source": [
        "%cat $model_yaml"
      ],
      "execution_count": null,
      "outputs": []
    },
    {
      "cell_type": "markdown",
      "metadata": {
        "id": "mBZ6JdOGB3Ko"
      },
      "source": [
        "Create custom model using exact class size.\r\n",
        "\r\n",
        "Copy the cat output above starting at depth_multiple and replace the same below"
      ]
    },
    {
      "cell_type": "code",
      "metadata": {
        "id": "ffA7EbTCCDvX"
      },
      "source": [
        "%%writetemplate /content/yolov5/models/custom_yolov5.yaml\r\n",
        "\r\n",
        "# parameters\r\n",
        "nc: {num_classes}  # number of classes\r\n",
        "depth_multiple: 1.0  # model depth multiple\r\n",
        "width_multiple: 1.0  # layer channel multiple\r\n",
        "\r\n",
        "# anchors\r\n",
        "anchors:\r\n",
        "  - [10,13, 16,30, 33,23]  # P3/8\r\n",
        "  - [30,61, 62,45, 59,119]  # P4/16\r\n",
        "  - [116,90, 156,198, 373,326]  # P5/32\r\n",
        "\r\n",
        "# YOLOv5 backbone\r\n",
        "backbone:\r\n",
        "  # [from, number, module, args]\r\n",
        "  [[-1, 1, Focus, [64, 3]],  # 0-P1/2\r\n",
        "   [-1, 1, Conv, [128, 3, 2]],  # 1-P2/4\r\n",
        "   [-1, 3, C3, [128]],\r\n",
        "   [-1, 1, Conv, [256, 3, 2]],  # 3-P3/8\r\n",
        "   [-1, 9, C3, [256]],\r\n",
        "   [-1, 1, Conv, [512, 3, 2]],  # 5-P4/16\r\n",
        "   [-1, 9, C3, [512]],\r\n",
        "   [-1, 1, Conv, [1024, 3, 2]],  # 7-P5/32\r\n",
        "   [-1, 1, SPP, [1024, [5, 9, 13]]],\r\n",
        "   [-1, 3, C3, [1024, False]],  # 9\r\n",
        "  ]\r\n",
        "\r\n",
        "# YOLOv5 head\r\n",
        "head:\r\n",
        "  [[-1, 1, Conv, [512, 1, 1]],\r\n",
        "   [-1, 1, nn.Upsample, [None, 2, 'nearest']],\r\n",
        "   [[-1, 6], 1, Concat, [1]],  # cat backbone P4\r\n",
        "   [-1, 3, C3, [512, False]],  # 13\r\n",
        "\r\n",
        "   [-1, 1, Conv, [256, 1, 1]],\r\n",
        "   [-1, 1, nn.Upsample, [None, 2, 'nearest']],\r\n",
        "   [[-1, 4], 1, Concat, [1]],  # cat backbone P3\r\n",
        "   [-1, 3, C3, [256, False]],  # 17 (P3/8-small)\r\n",
        "\r\n",
        "   [-1, 1, Conv, [256, 3, 2]],\r\n",
        "   [[-1, 14], 1, Concat, [1]],  # cat head P4\r\n",
        "   [-1, 3, C3, [512, False]],  # 20 (P4/16-medium)\r\n",
        "\r\n",
        "   [-1, 1, Conv, [512, 3, 2]],\r\n",
        "   [[-1, 10], 1, Concat, [1]],  # cat head P5\r\n",
        "   [-1, 3, C3, [1024, False]],  # 23 (P5/32-large)\r\n",
        "\r\n",
        "   [[17, 20, 23], 1, Detect, [nc, anchors]],  # Detect(P3, P4, P5)\r\n",
        "  ]"
      ],
      "execution_count": 7,
      "outputs": []
    },
    {
      "cell_type": "markdown",
      "metadata": {
        "id": "pbrOUV1E-_9Z"
      },
      "source": [
        "Adjust model if training for DeepStack"
      ]
    },
    {
      "cell_type": "code",
      "metadata": {
        "colab": {
          "base_uri": "https://localhost:8080/"
        },
        "id": "f0UFly1Z-Sro",
        "outputId": "9aad34f4-96cb-44c4-b406-83ab2041712c"
      },
      "source": [
        "%cd /content/yolov5/models/\r\n",
        "!sed 's/C3/BottleneckCSP/' custom_yolov5.yaml >temp.yaml\r\n",
        "!mv temp.yaml custom_yolov5.yaml\r\n",
        "!echo \"Segment complete\""
      ],
      "execution_count": 8,
      "outputs": [
        {
          "output_type": "stream",
          "text": [
            "/content/yolov5/models\n",
            "Segment complete\n"
          ],
          "name": "stdout"
        }
      ]
    },
    {
      "cell_type": "markdown",
      "metadata": {
        "id": "u1U3o5Y-g5JF"
      },
      "source": [
        "Make sure the custom model looks OK (and exists)"
      ]
    },
    {
      "cell_type": "code",
      "metadata": {
        "id": "wnW-FsbCg2k2"
      },
      "source": [
        "!cat /content/yolov5/models/custom_yolov5.yaml"
      ],
      "execution_count": null,
      "outputs": []
    },
    {
      "cell_type": "markdown",
      "metadata": {
        "id": "KmKAILtNFC0E"
      },
      "source": [
        "# Train!"
      ]
    },
    {
      "cell_type": "code",
      "metadata": {
        "colab": {
          "base_uri": "https://localhost:8080/"
        },
        "id": "8ECBD4mxFF1U",
        "outputId": "618a856d-8c71-40c1-fb39-0d773467bd4a"
      },
      "source": [
        "%%time\r\n",
        "%cd /content/yolov5/\r\n",
        "!python train.py --batch $batch_size --img-size $img_size --epochs $epochs --data '/content/drive/MyDrive/my-dataset/data.yaml' --cfg ./models/custom_yolov5.yaml --weights '$chkpnt' --name $run_name  --project /content/drive/MyDrive/colab_out/ --cache-images"
      ],
      "execution_count": null,
      "outputs": [
        {
          "output_type": "stream",
          "text": [
            "/content/yolov5\n",
            "\u001b[34m\u001b[1mgithub: \u001b[0mup to date with https://github.com/ultralytics/yolov5 ✅\n",
            "YOLOv5 v4.0-69-ga5359f6 torch 1.7.1+cu101 CUDA:0 (Tesla P100-PCIE-16GB, 16280.875MB)\n",
            "\n",
            "Namespace(adam=False, batch_size=20, bucket='', cache_images=True, cfg='./models/custom_yolov5.yaml', data='/content/drive/MyDrive/my-dataset/data.yaml', device='', epochs=300, evolve=False, exist_ok=False, global_rank=-1, hyp='data/hyp.scratch.yaml', image_weights=False, img_size=[736, 736], linear_lr=False, local_rank=-1, log_artifacts=False, log_imgs=16, multi_scale=False, name='5l_i736_b20_aug3_ds', noautoanchor=False, nosave=False, notest=False, project='/content/drive/MyDrive/colab_out/', quad=False, rect=False, resume=False, save_dir='/content/drive/MyDrive/colab_out/5l_i736_b20_aug3_ds', single_cls=False, sync_bn=False, total_batch_size=20, weights='yolov5l.pt', workers=8, world_size=1)\n",
            "Start Tensorboard with \"tensorboard --logdir /content/drive/MyDrive/colab_out/\", view at http://localhost:6006/\n",
            "2021-02-08 19:17:11.316324: I tensorflow/stream_executor/platform/default/dso_loader.cc:49] Successfully opened dynamic library libcudart.so.10.1\n",
            "\u001b[34m\u001b[1mhyperparameters: \u001b[0mlr0=0.01, lrf=0.2, momentum=0.937, weight_decay=0.0005, warmup_epochs=3.0, warmup_momentum=0.8, warmup_bias_lr=0.1, box=0.05, cls=0.5, cls_pw=1.0, obj=1.0, obj_pw=1.0, iou_t=0.2, anchor_t=4.0, fl_gamma=0.0, hsv_h=0.015, hsv_s=0.7, hsv_v=0.4, degrees=0.0, translate=0.1, scale=0.5, shear=0.0, perspective=0.0, flipud=0.0, fliplr=0.5, mosaic=1.0, mixup=0.0\n",
            "\n",
            "                 from  n    params  module                                  arguments                     \n",
            "  0                -1  1      7040  models.common.Focus                     [3, 64, 3]                    \n",
            "  1                -1  1     73984  models.common.Conv                      [64, 128, 3, 2]               \n",
            "  2                -1  1    161152  models.common.BottleneckCSP             [128, 128, 3]                 \n",
            "  3                -1  1    295424  models.common.Conv                      [128, 256, 3, 2]              \n",
            "  4                -1  1   1627904  models.common.BottleneckCSP             [256, 256, 9]                 \n",
            "  5                -1  1   1180672  models.common.Conv                      [256, 512, 3, 2]              \n",
            "  6                -1  1   6499840  models.common.BottleneckCSP             [512, 512, 9]                 \n",
            "  7                -1  1   4720640  models.common.Conv                      [512, 1024, 3, 2]             \n",
            "  8                -1  1   2624512  models.common.SPP                       [1024, 1024, [5, 9, 13]]      \n",
            "  9                -1  1  10234880  models.common.BottleneckCSP             [1024, 1024, 3, False]        \n",
            " 10                -1  1    525312  models.common.Conv                      [1024, 512, 1, 1]             \n",
            " 11                -1  1         0  torch.nn.modules.upsampling.Upsample    [None, 2, 'nearest']          \n",
            " 12           [-1, 6]  1         0  models.common.Concat                    [1]                           \n",
            " 13                -1  1   2823680  models.common.BottleneckCSP             [1024, 512, 3, False]         \n",
            " 14                -1  1    131584  models.common.Conv                      [512, 256, 1, 1]              \n",
            " 15                -1  1         0  torch.nn.modules.upsampling.Upsample    [None, 2, 'nearest']          \n",
            " 16           [-1, 4]  1         0  models.common.Concat                    [1]                           \n",
            " 17                -1  1    707328  models.common.BottleneckCSP             [512, 256, 3, False]          \n",
            " 18                -1  1    590336  models.common.Conv                      [256, 256, 3, 2]              \n",
            " 19          [-1, 14]  1         0  models.common.Concat                    [1]                           \n",
            " 20                -1  1   2561536  models.common.BottleneckCSP             [512, 512, 3, False]          \n",
            " 21                -1  1   2360320  models.common.Conv                      [512, 512, 3, 2]              \n",
            " 22          [-1, 10]  1         0  models.common.Concat                    [1]                           \n",
            " 23                -1  1  10234880  models.common.BottleneckCSP             [1024, 1024, 3, False]        \n",
            " 24      [17, 20, 23]  1     86160  models.yolo.Detect                      [11, [[10, 13, 16, 30, 33, 23], [30, 61, 62, 45, 59, 119], [116, 90, 156, 198, 373, 326]], [256, 512, 1024]]\n",
            "Model Summary: 499 layers, 47447184 parameters, 47447184 gradients, 116.1 GFLOPS\n",
            "\n",
            "Transferred 650/658 items from yolov5l.pt\n",
            "Scaled weight_decay = 0.00046875\n",
            "Optimizer groups: 110 .bias, 118 conv.weight, 107 other\n",
            "\u001b[34m\u001b[1mwandb\u001b[0m: Currently logged in as: \u001b[33mmalenurse\u001b[0m (use `wandb login --relogin` to force relogin)\n",
            "2021-02-08 19:17:20.908408: I tensorflow/stream_executor/platform/default/dso_loader.cc:49] Successfully opened dynamic library libcudart.so.10.1\n",
            "\u001b[34m\u001b[1mwandb\u001b[0m: Tracking run with wandb version 0.10.17\n",
            "\u001b[34m\u001b[1mwandb\u001b[0m: Syncing run \u001b[33m5l_i736_b20_aug3_ds\u001b[0m\n",
            "\u001b[34m\u001b[1mwandb\u001b[0m: ⭐️ View project at \u001b[34m\u001b[4mhttps://wandb.ai/malenurse/colab_out\u001b[0m\n",
            "\u001b[34m\u001b[1mwandb\u001b[0m: 🚀 View run at \u001b[34m\u001b[4mhttps://wandb.ai/malenurse/colab_out/runs/11hvbuv5\u001b[0m\n",
            "\u001b[34m\u001b[1mwandb\u001b[0m: Run data is saved locally in /content/yolov5/wandb/run-20210208_191719-11hvbuv5\n",
            "\u001b[34m\u001b[1mwandb\u001b[0m: Run `wandb offline` to turn off syncing.\n",
            "\n",
            "\u001b[34m\u001b[1mtrain: \u001b[0mScanning '/content/drive/MyDrive/my-dataset/train/labels.cache' for images and labels... 861 found, 0 missing, 0 empty, 0 corrupted: 100%|██████████| 861/861 [00:00<?, ?it/s]\n",
            "\u001b[34m\u001b[1mtrain: \u001b[0mCaching images (0.9GB): 100%|██████████| 861/861 [00:06<00:00, 132.40it/s]\n",
            "\u001b[34m\u001b[1mval: \u001b[0mScanning '/content/drive/MyDrive/my-dataset/valid/labels.cache' for images and labels... 123 found, 0 missing, 0 empty, 0 corrupted: 100%|██████████| 123/123 [00:00<?, ?it/s]\n",
            "\u001b[34m\u001b[1mval: \u001b[0mCaching images (0.1GB): 100%|██████████| 123/123 [00:01<00:00, 92.13it/s]\n",
            "Plotting labels... \n",
            "\n",
            "\u001b[34m\u001b[1mautoanchor: \u001b[0mAnalyzing anchors... anchors/target = 4.69, Best Possible Recall (BPR) = 1.0000\n",
            "Image sizes 736 train, 736 test\n",
            "Using 2 dataloader workers\n",
            "Logging results to /content/drive/MyDrive/colab_out/5l_i736_b20_aug3_ds\n",
            "Starting training for 300 epochs...\n",
            "\n",
            "     Epoch   gpu_mem       box       obj       cls     total   targets  img_size\n",
            "     0/299     8.49G    0.1011   0.06083   0.06654    0.2285         5       736: 100%|██████████| 44/44 [01:04<00:00,  1.47s/it]\n",
            "               Class      Images     Targets           P           R      mAP@.5  mAP@.5:.95: 100%|██████████| 4/4 [00:05<00:00,  1.40s/it]\n",
            "                 all         123         517      0.0122       0.037      0.0112     0.00288\n",
            "Images sizes do not match. This will causes images to be display incorrectly in the UI.\n",
            "\n",
            "     Epoch   gpu_mem       box       obj       cls     total   targets  img_size\n",
            "     1/299     15.4G   0.08114   0.07035   0.06074    0.2122        12       736: 100%|██████████| 44/44 [00:58<00:00,  1.34s/it]\n",
            "               Class      Images     Targets           P           R      mAP@.5  mAP@.5:.95: 100%|██████████| 4/4 [00:02<00:00,  1.42it/s]\n",
            "                 all         123         517       0.235       0.234       0.214       0.119\n",
            "\n",
            "     Epoch   gpu_mem       box       obj       cls     total   targets  img_size\n",
            "     2/299     15.4G   0.06375   0.06078   0.05088    0.1754         5       736: 100%|██████████| 44/44 [00:59<00:00,  1.34s/it]\n",
            "               Class      Images     Targets           P           R      mAP@.5  mAP@.5:.95: 100%|██████████| 4/4 [00:02<00:00,  1.38it/s]\n",
            "                 all         123         517       0.587       0.368       0.376       0.182\n",
            "\n",
            "     Epoch   gpu_mem       box       obj       cls     total   targets  img_size\n",
            "     3/299     15.4G    0.0531   0.04645   0.03985    0.1394         5       736: 100%|██████████| 44/44 [00:59<00:00,  1.34s/it]\n",
            "               Class      Images     Targets           P           R      mAP@.5  mAP@.5:.95: 100%|██████████| 4/4 [00:02<00:00,  1.38it/s]\n",
            "                 all         123         517       0.225       0.621       0.447       0.177\n",
            "\n",
            "     Epoch   gpu_mem       box       obj       cls     total   targets  img_size\n",
            "     4/299     15.4G   0.04904   0.03841   0.03243    0.1199         2       736: 100%|██████████| 44/44 [00:58<00:00,  1.34s/it]\n",
            "               Class      Images     Targets           P           R      mAP@.5  mAP@.5:.95: 100%|██████████| 4/4 [00:02<00:00,  1.40it/s]\n",
            "                 all         123         517       0.461       0.666       0.555       0.267\n",
            "\n",
            "     Epoch   gpu_mem       box       obj       cls     total   targets  img_size\n",
            "     5/299     15.4G   0.05719   0.03601   0.02801    0.1212        13       736: 100%|██████████| 44/44 [00:57<00:00,  1.30s/it]\n",
            "               Class      Images     Targets           P           R      mAP@.5  mAP@.5:.95: 100%|██████████| 4/4 [00:02<00:00,  1.43it/s]\n",
            "                 all         123         517       0.459       0.811       0.688       0.358\n",
            "\n",
            "     Epoch   gpu_mem       box       obj       cls     total   targets  img_size\n",
            "     6/299     15.4G   0.05451   0.03174   0.02434    0.1106         3       736: 100%|██████████| 44/44 [00:56<00:00,  1.29s/it]\n",
            "               Class      Images     Targets           P           R      mAP@.5  mAP@.5:.95: 100%|██████████| 4/4 [00:02<00:00,  1.43it/s]\n",
            "                 all         123         517       0.619       0.739       0.726       0.396\n",
            "\n",
            "     Epoch   gpu_mem       box       obj       cls     total   targets  img_size\n",
            "     7/299     15.4G   0.05222   0.03242   0.01982    0.1045        11       736: 100%|██████████| 44/44 [00:56<00:00,  1.29s/it]\n",
            "               Class      Images     Targets           P           R      mAP@.5  mAP@.5:.95: 100%|██████████| 4/4 [00:02<00:00,  1.44it/s]\n",
            "                 all         123         517       0.599       0.752       0.753       0.413\n",
            "\n",
            "     Epoch   gpu_mem       box       obj       cls     total   targets  img_size\n",
            "     8/299     15.4G   0.04933   0.03127   0.01671   0.09731        11       736: 100%|██████████| 44/44 [00:56<00:00,  1.29s/it]\n",
            "               Class      Images     Targets           P           R      mAP@.5  mAP@.5:.95: 100%|██████████| 4/4 [00:02<00:00,  1.46it/s]\n",
            "                 all         123         517       0.688       0.804       0.832       0.457\n",
            "\n",
            "     Epoch   gpu_mem       box       obj       cls     total   targets  img_size\n",
            "     9/299     15.4G   0.04705   0.02876   0.01383   0.08964        10       736: 100%|██████████| 44/44 [00:56<00:00,  1.29s/it]\n",
            "               Class      Images     Targets           P           R      mAP@.5  mAP@.5:.95: 100%|██████████| 4/4 [00:02<00:00,  1.45it/s]\n",
            "                 all         123         517       0.702       0.806       0.845        0.54\n",
            "\n",
            "     Epoch   gpu_mem       box       obj       cls     total   targets  img_size\n",
            "    10/299     15.4G   0.04606   0.02893   0.01215   0.08714         5       736: 100%|██████████| 44/44 [00:56<00:00,  1.29s/it]\n",
            "               Class      Images     Targets           P           R      mAP@.5  mAP@.5:.95: 100%|██████████| 4/4 [00:02<00:00,  1.45it/s]\n",
            "                 all         123         517       0.785       0.868       0.896       0.582\n",
            "\n",
            "     Epoch   gpu_mem       box       obj       cls     total   targets  img_size\n",
            "    11/299     15.4G    0.0438   0.02767    0.0105   0.08198         9       736: 100%|██████████| 44/44 [00:56<00:00,  1.29s/it]\n",
            "               Class      Images     Targets           P           R      mAP@.5  mAP@.5:.95: 100%|██████████| 4/4 [00:02<00:00,  1.46it/s]\n",
            "                 all         123         517       0.741       0.813       0.827       0.478\n",
            "\n",
            "     Epoch   gpu_mem       box       obj       cls     total   targets  img_size\n",
            "    12/299     15.4G   0.04103   0.02716  0.009303   0.07749         9       736: 100%|██████████| 44/44 [00:56<00:00,  1.29s/it]\n",
            "               Class      Images     Targets           P           R      mAP@.5  mAP@.5:.95: 100%|██████████| 4/4 [00:02<00:00,  1.46it/s]\n",
            "                 all         123         517       0.787       0.826       0.839        0.51\n",
            "\n",
            "     Epoch   gpu_mem       box       obj       cls     total   targets  img_size\n",
            "    13/299     15.4G   0.04004   0.02591   0.00913   0.07508        11       736: 100%|██████████| 44/44 [00:56<00:00,  1.29s/it]\n",
            "               Class      Images     Targets           P           R      mAP@.5  mAP@.5:.95: 100%|██████████| 4/4 [00:02<00:00,  1.45it/s]\n",
            "                 all         123         517       0.805       0.895       0.914        0.59\n",
            "\n",
            "     Epoch   gpu_mem       box       obj       cls     total   targets  img_size\n",
            "    14/299     15.4G   0.03808   0.02648   0.00827   0.07283         6       736: 100%|██████████| 44/44 [00:57<00:00,  1.30s/it]\n",
            "               Class      Images     Targets           P           R      mAP@.5  mAP@.5:.95: 100%|██████████| 4/4 [00:02<00:00,  1.46it/s]\n",
            "                 all         123         517       0.861       0.891         0.9       0.569\n",
            "\n",
            "     Epoch   gpu_mem       box       obj       cls     total   targets  img_size\n",
            "    15/299     15.4G   0.04219   0.02522  0.008013   0.07542         4       736: 100%|██████████| 44/44 [00:56<00:00,  1.28s/it]\n",
            "               Class      Images     Targets           P           R      mAP@.5  mAP@.5:.95: 100%|██████████| 4/4 [00:02<00:00,  1.45it/s]\n",
            "                 all         123         517        0.76        0.87       0.881       0.532\n",
            "\n",
            "     Epoch   gpu_mem       box       obj       cls     total   targets  img_size\n",
            "    16/299     15.4G   0.04179   0.02591  0.008593   0.07629         8       736: 100%|██████████| 44/44 [00:56<00:00,  1.28s/it]\n",
            "               Class      Images     Targets           P           R      mAP@.5  mAP@.5:.95: 100%|██████████| 4/4 [00:02<00:00,  1.45it/s]\n",
            "                 all         123         517       0.818       0.904       0.892       0.548\n",
            "\n",
            "     Epoch   gpu_mem       box       obj       cls     total   targets  img_size\n",
            "    17/299     15.4G   0.04124   0.02652  0.008082   0.07584        15       736: 100%|██████████| 44/44 [00:56<00:00,  1.27s/it]\n",
            "               Class      Images     Targets           P           R      mAP@.5  mAP@.5:.95: 100%|██████████| 4/4 [00:02<00:00,  1.46it/s]\n",
            "                 all         123         517       0.826       0.839        0.86       0.484\n",
            "\n",
            "     Epoch   gpu_mem       box       obj       cls     total   targets  img_size\n",
            "    18/299     15.4G   0.04137    0.0249   0.00808   0.07435         1       736: 100%|██████████| 44/44 [00:56<00:00,  1.28s/it]\n",
            "               Class      Images     Targets           P           R      mAP@.5  mAP@.5:.95: 100%|██████████| 4/4 [00:02<00:00,  1.46it/s]\n",
            "                 all         123         517       0.873       0.889       0.908       0.559\n",
            "\n",
            "     Epoch   gpu_mem       box       obj       cls     total   targets  img_size\n",
            "    19/299     15.4G   0.03712   0.02464  0.007444    0.0692       166       736:  75%|███████▌  | 33/44 [00:43<00:14,  1.29s/it]"
          ],
          "name": "stdout"
        }
      ]
    },
    {
      "cell_type": "markdown",
      "metadata": {
        "id": "0v693HyaeVJ2"
      },
      "source": [
        "# Set variables if environment lost in a runtime disconnection"
      ]
    },
    {
      "cell_type": "markdown",
      "metadata": {
        "id": "BTVVcjgcelOU"
      },
      "source": [
        "Make sure to rerun environment setup, too"
      ]
    },
    {
      "cell_type": "code",
      "metadata": {
        "id": "z_ZSWG29cEfb"
      },
      "source": [
        "run_name = '5x_i640_b18_nopre_ds' # look for first two in /content/drive/MyDrive/colab_out/\r\n",
        "exp_num = ''                   # leave as '' if just exp\r\n",
        "test_img_size = '1280'           # to what resolution to scale testing images (e.g. 960) must be mult of 32\r\n",
        "test_conf = '0.5'               # confidence threshold for inference testing (e.g. 0.5)\r\n",
        "\r\n",
        "#############################################################################\r\n",
        "\r\n",
        "import os.path\r\n",
        "from os import path\r\n",
        "\r\n",
        "run_path = '/content/drive/MyDrive/colab_out/' + run_name\r\n",
        "weights = run_path + '/weights/best.pt'\r\n",
        "exp_img = path.join('/content/drive/MyDrive/colab_out/exp' + exp_num, '*.jpg')"
      ],
      "execution_count": null,
      "outputs": []
    },
    {
      "cell_type": "markdown",
      "metadata": {
        "id": "3Si8WMHyG-PN"
      },
      "source": [
        "# Evaluate training"
      ]
    },
    {
      "cell_type": "markdown",
      "metadata": {
        "id": "LIC8gQ8uHLhv"
      },
      "source": [
        "Start tensorboard"
      ]
    },
    {
      "cell_type": "code",
      "metadata": {
        "id": "8hFM2Mv3AOYf"
      },
      "source": [
        "%load_ext tensorboard\r\n",
        "%tensorboard --logdir $run_path"
      ],
      "execution_count": null,
      "outputs": []
    },
    {
      "cell_type": "markdown",
      "metadata": {
        "id": "H0HKDUjEIn5h"
      },
      "source": [
        "# Test completed weights"
      ]
    },
    {
      "cell_type": "markdown",
      "metadata": {
        "id": "K3yWg7kKJXPk"
      },
      "source": [
        "Inference speed test"
      ]
    },
    {
      "cell_type": "code",
      "metadata": {
        "id": "9nmZZnWOgJ2S"
      },
      "source": [
        "# when we ran this, we saw .007 second inference time. That is 140 FPS on a TESLA P100!\n",
        "%cd /content/yolov5/\n",
        "!python detect.py --weights $weights --img $test_img_size --conf $test_conf --source /content/drive/MyDrive/my-dataset/test/images --project /content/drive/MyDrive/colab_out/"
      ],
      "execution_count": null,
      "outputs": []
    },
    {
      "cell_type": "markdown",
      "metadata": {
        "id": "MH9udI2cJp3N"
      },
      "source": [
        "Display inference on all test images"
      ]
    },
    {
      "cell_type": "code",
      "metadata": {
        "colab": {
          "background_save": true
        },
        "id": "odKEqYtTgbRc"
      },
      "source": [
        "import glob\n",
        "import os.path\n",
        "from os import path\n",
        "from IPython.display import Image, display\n",
        "\n",
        "for imageName in glob.glob(exp_img): #assuming JPG\n",
        "    display(Image(filename=imageName))\n",
        "    print(\"\\n\")"
      ],
      "execution_count": null,
      "outputs": []
    },
    {
      "cell_type": "markdown",
      "metadata": {
        "id": "ShKsc2g2DxKL"
      },
      "source": [
        "# Issue fixes\r\n",
        "Use only if actually have training issues"
      ]
    },
    {
      "cell_type": "code",
      "metadata": {
        "id": "Rcbww6E9D3FV"
      },
      "source": [
        "# temp fix for image_weights=opt.image_weights error, see: https://github.com/ultralytics/yolov5/issues/1550\r\n",
        "%%writefile /content/yolov5/utils/train.py\r\n",
        "import argparse\r\n",
        "import logging\r\n",
        "import math\r\n",
        "import os\r\n",
        "import random\r\n",
        "import time\r\n",
        "from pathlib import Path\r\n",
        "from warnings import warn\r\n",
        "\r\n",
        "import numpy as np\r\n",
        "import torch.distributed as dist\r\n",
        "import torch.nn as nn\r\n",
        "import torch.nn.functional as F\r\n",
        "import torch.optim as optim\r\n",
        "import torch.optim.lr_scheduler as lr_scheduler\r\n",
        "import torch.utils.data\r\n",
        "import yaml\r\n",
        "from torch.cuda import amp\r\n",
        "from torch.nn.parallel import DistributedDataParallel as DDP\r\n",
        "from torch.utils.tensorboard import SummaryWriter\r\n",
        "from tqdm import tqdm\r\n",
        "\r\n",
        "import test  # import test.py to get mAP after each epoch\r\n",
        "from models.yolo import Model\r\n",
        "from utils.autoanchor import check_anchors\r\n",
        "from utils.datasets import create_dataloader\r\n",
        "from utils.general import labels_to_class_weights, increment_path, labels_to_image_weights, init_seeds, \\\r\n",
        "    fitness, strip_optimizer, get_latest_run, check_dataset, check_file, check_git_status, check_img_size, \\\r\n",
        "    print_mutation, set_logging\r\n",
        "from utils.google_utils import attempt_download\r\n",
        "from utils.loss import compute_loss\r\n",
        "from utils.plots import plot_images, plot_labels, plot_results, plot_evolution\r\n",
        "from utils.torch_utils import ModelEMA, select_device, intersect_dicts, torch_distributed_zero_first\r\n",
        "\r\n",
        "logger = logging.getLogger(__name__)\r\n",
        "\r\n",
        "try:\r\n",
        "    import wandb\r\n",
        "except ImportError:\r\n",
        "    wandb = None\r\n",
        "    logger.info(\"Install Weights & Biases for experiment logging via 'pip install wandb' (recommended)\")\r\n",
        "\r\n",
        "\r\n",
        "def train(hyp, opt, device, tb_writer=None, wandb=None):\r\n",
        "    logger.info(f'Hyperparameters {hyp}')\r\n",
        "    save_dir, epochs, batch_size, total_batch_size, weights, rank = \\\r\n",
        "        Path(opt.save_dir), opt.epochs, opt.batch_size, opt.total_batch_size, opt.weights, opt.global_rank\r\n",
        "\r\n",
        "    # Directories\r\n",
        "    wdir = save_dir / 'weights'\r\n",
        "    wdir.mkdir(parents=True, exist_ok=True)  # make dir\r\n",
        "    last = wdir / 'last.pt'\r\n",
        "    best = wdir / 'best.pt'\r\n",
        "    results_file = save_dir / 'results.txt'\r\n",
        "\r\n",
        "    # Save run settings\r\n",
        "    with open(save_dir / 'hyp.yaml', 'w') as f:\r\n",
        "        yaml.dump(hyp, f, sort_keys=False)\r\n",
        "    with open(save_dir / 'opt.yaml', 'w') as f:\r\n",
        "        yaml.dump(vars(opt), f, sort_keys=False)\r\n",
        "\r\n",
        "    # Configure\r\n",
        "    plots = not opt.evolve  # create plots\r\n",
        "    cuda = device.type != 'cpu'\r\n",
        "    init_seeds(2 + rank)\r\n",
        "    with open(opt.data) as f:\r\n",
        "        data_dict = yaml.load(f, Loader=yaml.FullLoader)  # data dict\r\n",
        "    with torch_distributed_zero_first(rank):\r\n",
        "        check_dataset(data_dict)  # check\r\n",
        "    train_path = data_dict['train']\r\n",
        "    test_path = data_dict['val']\r\n",
        "    nc, names = (1, ['item']) if opt.single_cls else (int(data_dict['nc']), data_dict['names'])  # number classes, names\r\n",
        "    assert len(names) == nc, '%g names found for nc=%g dataset in %s' % (len(names), nc, opt.data)  # check\r\n",
        "\r\n",
        "    # Model\r\n",
        "    pretrained = weights.endswith('.pt')\r\n",
        "    if pretrained:\r\n",
        "        with torch_distributed_zero_first(rank):\r\n",
        "            attempt_download(weights)  # download if not found locally\r\n",
        "        ckpt = torch.load(weights, map_location=device)  # load checkpoint\r\n",
        "        if hyp.get('anchors'):\r\n",
        "            ckpt['model'].yaml['anchors'] = round(hyp['anchors'])  # force autoanchor\r\n",
        "        model = Model(opt.cfg or ckpt['model'].yaml, ch=3, nc=nc).to(device)  # create\r\n",
        "        exclude = ['anchor'] if opt.cfg or hyp.get('anchors') else []  # exclude keys\r\n",
        "        state_dict = ckpt['model'].float().state_dict()  # to FP32\r\n",
        "        state_dict = intersect_dicts(state_dict, model.state_dict(), exclude=exclude)  # intersect\r\n",
        "        model.load_state_dict(state_dict, strict=False)  # load\r\n",
        "        logger.info('Transferred %g/%g items from %s' % (len(state_dict), len(model.state_dict()), weights))  # report\r\n",
        "    else:\r\n",
        "        model = Model(opt.cfg, ch=3, nc=nc).to(device)  # create\r\n",
        "\r\n",
        "    # Freeze\r\n",
        "    freeze = []  # parameter names to freeze (full or partial)\r\n",
        "    for k, v in model.named_parameters():\r\n",
        "        v.requires_grad = True  # train all layers\r\n",
        "        if any(x in k for x in freeze):\r\n",
        "            print('freezing %s' % k)\r\n",
        "            v.requires_grad = False\r\n",
        "\r\n",
        "    # Optimizer\r\n",
        "    nbs = 64  # nominal batch size\r\n",
        "    accumulate = max(round(nbs / total_batch_size), 1)  # accumulate loss before optimizing\r\n",
        "    hyp['weight_decay'] *= total_batch_size * accumulate / nbs  # scale weight_decay\r\n",
        "\r\n",
        "    pg0, pg1, pg2 = [], [], []  # optimizer parameter groups\r\n",
        "    for k, v in model.named_modules():\r\n",
        "        if hasattr(v, 'bias') and isinstance(v.bias, nn.Parameter):\r\n",
        "            pg2.append(v.bias)  # biases\r\n",
        "        if isinstance(v, nn.BatchNorm2d):\r\n",
        "            pg0.append(v.weight)  # no decay\r\n",
        "        elif hasattr(v, 'weight') and isinstance(v.weight, nn.Parameter):\r\n",
        "            pg1.append(v.weight)  # apply decay\r\n",
        "\r\n",
        "    if opt.adam:\r\n",
        "        optimizer = optim.Adam(pg0, lr=hyp['lr0'], betas=(hyp['momentum'], 0.999))  # adjust beta1 to momentum\r\n",
        "    else:\r\n",
        "        optimizer = optim.SGD(pg0, lr=hyp['lr0'], momentum=hyp['momentum'], nesterov=True)\r\n",
        "\r\n",
        "    optimizer.add_param_group({'params': pg1, 'weight_decay': hyp['weight_decay']})  # add pg1 with weight_decay\r\n",
        "    optimizer.add_param_group({'params': pg2})  # add pg2 (biases)\r\n",
        "    logger.info('Optimizer groups: %g .bias, %g conv.weight, %g other' % (len(pg2), len(pg1), len(pg0)))\r\n",
        "    del pg0, pg1, pg2\r\n",
        "\r\n",
        "    # Scheduler https://arxiv.org/pdf/1812.01187.pdf\r\n",
        "    # https://pytorch.org/docs/stable/_modules/torch/optim/lr_scheduler.html#OneCycleLR\r\n",
        "    lf = lambda x: ((1 + math.cos(x * math.pi / epochs)) / 2) * (1 - hyp['lrf']) + hyp['lrf']  # cosine\r\n",
        "    scheduler = lr_scheduler.LambdaLR(optimizer, lr_lambda=lf)\r\n",
        "    # plot_lr_scheduler(optimizer, scheduler, epochs)\r\n",
        "\r\n",
        "    # Logging\r\n",
        "    if wandb and wandb.run is None:\r\n",
        "        opt.hyp = hyp  # add hyperparameters\r\n",
        "        wandb_run = wandb.init(config=opt, resume=\"allow\",\r\n",
        "                               project='YOLOv5' if opt.project == 'runs/train' else Path(opt.project).stem,\r\n",
        "                               name=save_dir.stem,\r\n",
        "                               id=ckpt.get('wandb_id') if 'ckpt' in locals() else None)\r\n",
        "\r\n",
        "    # Resume\r\n",
        "    start_epoch, best_fitness = 0, 0.0\r\n",
        "    if pretrained:\r\n",
        "        # Optimizer\r\n",
        "        if ckpt['optimizer'] is not None:\r\n",
        "            optimizer.load_state_dict(ckpt['optimizer'])\r\n",
        "            best_fitness = ckpt['best_fitness']\r\n",
        "\r\n",
        "        # Results\r\n",
        "        if ckpt.get('training_results') is not None:\r\n",
        "            with open(results_file, 'w') as file:\r\n",
        "                file.write(ckpt['training_results'])  # write results.txt\r\n",
        "\r\n",
        "        # Epochs\r\n",
        "        start_epoch = ckpt['epoch'] + 1\r\n",
        "        if opt.resume:\r\n",
        "            assert start_epoch > 0, '%s training to %g epochs is finished, nothing to resume.' % (weights, epochs)\r\n",
        "        if epochs < start_epoch:\r\n",
        "            logger.info('%s has been trained for %g epochs. Fine-tuning for %g additional epochs.' %\r\n",
        "                        (weights, ckpt['epoch'], epochs))\r\n",
        "            epochs += ckpt['epoch']  # finetune additional epochs\r\n",
        "\r\n",
        "        del ckpt, state_dict\r\n",
        "\r\n",
        "    # Image sizes\r\n",
        "    gs = int(max(model.stride))  # grid size (max stride)\r\n",
        "    imgsz, imgsz_test = [check_img_size(x, gs) for x in opt.img_size]  # verify imgsz are gs-multiples\r\n",
        "\r\n",
        "    # DP mode\r\n",
        "    if cuda and rank == -1 and torch.cuda.device_count() > 1:\r\n",
        "        model = torch.nn.DataParallel(model)\r\n",
        "\r\n",
        "    # SyncBatchNorm\r\n",
        "    if opt.sync_bn and cuda and rank != -1:\r\n",
        "        model = torch.nn.SyncBatchNorm.convert_sync_batchnorm(model).to(device)\r\n",
        "        logger.info('Using SyncBatchNorm()')\r\n",
        "\r\n",
        "    # EMA\r\n",
        "    ema = ModelEMA(model) if rank in [-1, 0] else None\r\n",
        "\r\n",
        "    # DDP mode\r\n",
        "    if cuda and rank != -1:\r\n",
        "        model = DDP(model, device_ids=[opt.local_rank], output_device=opt.local_rank)\r\n",
        "\r\n",
        "    # Trainloader\r\n",
        "    dataloader, dataset = create_dataloader(train_path, imgsz, batch_size, gs, opt,\r\n",
        "                                            hyp=hyp, augment=True, cache=opt.cache_images, rect=opt.rect, rank=rank,\r\n",
        "                                            world_size=opt.world_size, workers=opt.workers)\r\n",
        "    mlc = np.concatenate(dataset.labels, 0)[:, 0].max()  # max label class\r\n",
        "    nb = len(dataloader)  # number of batches\r\n",
        "    assert mlc < nc, 'Label class %g exceeds nc=%g in %s. Possible class labels are 0-%g' % (mlc, nc, opt.data, nc - 1)\r\n",
        "\r\n",
        "    # Process 0\r\n",
        "    if rank in [-1, 0]:\r\n",
        "        ema.updates = start_epoch * nb // accumulate  # set EMA updates\r\n",
        "        testloader = create_dataloader(test_path, imgsz_test, total_batch_size, gs, opt,\r\n",
        "                                       hyp=hyp, cache=opt.cache_images and not opt.notest, rect=True,\r\n",
        "                                       rank=-1, world_size=opt.world_size, workers=opt.workers)[0]  # testloader\r\n",
        "\r\n",
        "        if not opt.resume:\r\n",
        "            labels = np.concatenate(dataset.labels, 0)\r\n",
        "            c = torch.tensor(labels[:, 0])  # classes\r\n",
        "            # cf = torch.bincount(c.long(), minlength=nc) + 1.  # frequency\r\n",
        "            # model._initialize_biases(cf.to(device))\r\n",
        "            if plots:\r\n",
        "                plot_labels(labels, save_dir=save_dir)\r\n",
        "                if tb_writer:\r\n",
        "                    tb_writer.add_histogram('classes', c, 0)\r\n",
        "                if wandb:\r\n",
        "                    wandb.log({\"Labels\": [wandb.Image(str(x), caption=x.name) for x in save_dir.glob('*labels*.png')]})\r\n",
        "\r\n",
        "            # Anchors\r\n",
        "            if not opt.noautoanchor:\r\n",
        "                check_anchors(dataset, model=model, thr=hyp['anchor_t'], imgsz=imgsz)\r\n",
        "\r\n",
        "    # Model parameters\r\n",
        "    hyp['cls'] *= nc / 80.  # scale coco-tuned hyp['cls'] to current dataset\r\n",
        "    model.nc = nc  # attach number of classes to model\r\n",
        "    model.hyp = hyp  # attach hyperparameters to model\r\n",
        "    model.gr = 1.0  # iou loss ratio (obj_loss = 1.0 or iou)\r\n",
        "    model.class_weights = labels_to_class_weights(dataset.labels, nc).to(device)  # attach class weights\r\n",
        "    model.names = names\r\n",
        "\r\n",
        "    # Start training\r\n",
        "    t0 = time.time()\r\n",
        "    nw = max(round(hyp['warmup_epochs'] * nb), 1000)  # number of warmup iterations, max(3 epochs, 1k iterations)\r\n",
        "    # nw = min(nw, (epochs - start_epoch) / 2 * nb)  # limit warmup to < 1/2 of training\r\n",
        "    maps = np.zeros(nc)  # mAP per class\r\n",
        "    results = (0, 0, 0, 0, 0, 0, 0)  # P, R, mAP@.5, mAP@.5-.95, val_loss(box, obj, cls)\r\n",
        "    scheduler.last_epoch = start_epoch - 1  # do not move\r\n",
        "    scaler = amp.GradScaler(enabled=cuda)\r\n",
        "    logger.info('Image sizes %g train, %g test\\n'\r\n",
        "                'Using %g dataloader workers\\nLogging results to %s\\n'\r\n",
        "                'Starting training for %g epochs...' % (imgsz, imgsz_test, dataloader.num_workers, save_dir, epochs))\r\n",
        "    for epoch in range(start_epoch, epochs):  # epoch ------------------------------------------------------------------\r\n",
        "        model.train()\r\n",
        "\r\n",
        "        # Update image weights (optional)\r\n",
        "        if opt.image_weights:\r\n",
        "            # Generate indices\r\n",
        "            if rank in [-1, 0]:\r\n",
        "                cw = model.class_weights.cpu().numpy() * (1 - maps) ** 2  # class weights\r\n",
        "                iw = labels_to_image_weights(dataset.labels, nc=nc, class_weights=cw)  # image weights\r\n",
        "                dataset.indices = random.choices(range(dataset.n), weights=iw, k=dataset.n)  # rand weighted idx\r\n",
        "            # Broadcast if DDP\r\n",
        "            if rank != -1:\r\n",
        "                indices = (torch.tensor(dataset.indices) if rank == 0 else torch.zeros(dataset.n)).int()\r\n",
        "                dist.broadcast(indices, 0)\r\n",
        "                if rank != 0:\r\n",
        "                    dataset.indices = indices.cpu().numpy()\r\n",
        "\r\n",
        "        # Update mosaic border\r\n",
        "        # b = int(random.uniform(0.25 * imgsz, 0.75 * imgsz + gs) // gs * gs)\r\n",
        "        # dataset.mosaic_border = [b - imgsz, -b]  # height, width borders\r\n",
        "\r\n",
        "        mloss = torch.zeros(4, device=device)  # mean losses\r\n",
        "        if rank != -1:\r\n",
        "            dataloader.sampler.set_epoch(epoch)\r\n",
        "        pbar = enumerate(dataloader)\r\n",
        "        logger.info(('\\n' + '%10s' * 8) % ('Epoch', 'gpu_mem', 'box', 'obj', 'cls', 'total', 'targets', 'img_size'))\r\n",
        "        if rank in [-1, 0]:\r\n",
        "            pbar = tqdm(pbar, total=nb)  # progress bar\r\n",
        "        optimizer.zero_grad()\r\n",
        "        for i, (imgs, targets, paths, _) in pbar:  # batch -------------------------------------------------------------\r\n",
        "            ni = i + nb * epoch  # number integrated batches (since train start)\r\n",
        "            imgs = imgs.to(device, non_blocking=True).float() / 255.0  # uint8 to float32, 0-255 to 0.0-1.0\r\n",
        "\r\n",
        "            # Warmup\r\n",
        "            if ni <= nw:\r\n",
        "                xi = [0, nw]  # x interp\r\n",
        "                # model.gr = np.interp(ni, xi, [0.0, 1.0])  # iou loss ratio (obj_loss = 1.0 or iou)\r\n",
        "                accumulate = max(1, np.interp(ni, xi, [1, nbs / total_batch_size]).round())\r\n",
        "                for j, x in enumerate(optimizer.param_groups):\r\n",
        "                    # bias lr falls from 0.1 to lr0, all other lrs rise from 0.0 to lr0\r\n",
        "                    x['lr'] = np.interp(ni, xi, [hyp['warmup_bias_lr'] if j == 2 else 0.0, x['initial_lr'] * lf(epoch)])\r\n",
        "                    if 'momentum' in x:\r\n",
        "                        x['momentum'] = np.interp(ni, xi, [hyp['warmup_momentum'], hyp['momentum']])\r\n",
        "\r\n",
        "            # Multi-scale\r\n",
        "            if opt.multi_scale:\r\n",
        "                sz = random.randrange(imgsz * 0.5, imgsz * 1.5 + gs) // gs * gs  # size\r\n",
        "                sf = sz / max(imgs.shape[2:])  # scale factor\r\n",
        "                if sf != 1:\r\n",
        "                    ns = [math.ceil(x * sf / gs) * gs for x in imgs.shape[2:]]  # new shape (stretched to gs-multiple)\r\n",
        "                    imgs = F.interpolate(imgs, size=ns, mode='bilinear', align_corners=False)\r\n",
        "\r\n",
        "            # Forward\r\n",
        "            with amp.autocast(enabled=cuda):\r\n",
        "                pred = model(imgs)  # forward\r\n",
        "                loss, loss_items = compute_loss(pred, targets.to(device), model)  # loss scaled by batch_size\r\n",
        "                if rank != -1:\r\n",
        "                    loss *= opt.world_size  # gradient averaged between devices in DDP mode\r\n",
        "\r\n",
        "            # Backward\r\n",
        "            scaler.scale(loss).backward()\r\n",
        "\r\n",
        "            # Optimize\r\n",
        "            if ni % accumulate == 0:\r\n",
        "                scaler.step(optimizer)  # optimizer.step\r\n",
        "                scaler.update()\r\n",
        "                optimizer.zero_grad()\r\n",
        "                if ema:\r\n",
        "                    ema.update(model)\r\n",
        "\r\n",
        "            # Print\r\n",
        "            if rank in [-1, 0]:\r\n",
        "                mloss = (mloss * i + loss_items) / (i + 1)  # update mean losses\r\n",
        "                mem = '%.3gG' % (torch.cuda.memory_reserved() / 1E9 if torch.cuda.is_available() else 0)  # (GB)\r\n",
        "                s = ('%10s' * 2 + '%10.4g' * 6) % (\r\n",
        "                    '%g/%g' % (epoch, epochs - 1), mem, *mloss, targets.shape[0], imgs.shape[-1])\r\n",
        "                pbar.set_description(s)\r\n",
        "\r\n",
        "                # Plot\r\n",
        "                if plots and ni < 3:\r\n",
        "                    f = save_dir / f'train_batch{ni}.jpg'  # filename\r\n",
        "                    plot_images(images=imgs, targets=targets, paths=paths, fname=f)\r\n",
        "                    # if tb_writer:\r\n",
        "                    #     tb_writer.add_image(f, result, dataformats='HWC', global_step=epoch)\r\n",
        "                    #     tb_writer.add_graph(model, imgs)  # add model to tensorboard\r\n",
        "                elif plots and ni == 3 and wandb:\r\n",
        "                    wandb.log({\"Mosaics\": [wandb.Image(str(x), caption=x.name) for x in save_dir.glob('train*.jpg')]})\r\n",
        "\r\n",
        "            # end batch ------------------------------------------------------------------------------------------------\r\n",
        "        # end epoch ----------------------------------------------------------------------------------------------------\r\n",
        "\r\n",
        "        # Scheduler\r\n",
        "        lr = [x['lr'] for x in optimizer.param_groups]  # for tensorboard\r\n",
        "        scheduler.step()\r\n",
        "\r\n",
        "        # DDP process 0 or single-GPU\r\n",
        "        if rank in [-1, 0]:\r\n",
        "            # mAP\r\n",
        "            if ema:\r\n",
        "                ema.update_attr(model, include=['yaml', 'nc', 'hyp', 'gr', 'names', 'stride'])\r\n",
        "            final_epoch = epoch + 1 == epochs\r\n",
        "            if not opt.notest or final_epoch:  # Calculate mAP\r\n",
        "                results, maps, times = test.test(opt.data,\r\n",
        "                                                 batch_size=total_batch_size,\r\n",
        "                                                 imgsz=imgsz_test,\r\n",
        "                                                 model=ema.ema,\r\n",
        "                                                 single_cls=opt.single_cls,\r\n",
        "                                                 dataloader=testloader,\r\n",
        "                                                 save_dir=save_dir,\r\n",
        "                                                 plots=plots and final_epoch,\r\n",
        "                                                 log_imgs=opt.log_imgs if wandb else 0)\r\n",
        "\r\n",
        "            # Write\r\n",
        "            with open(results_file, 'a') as f:\r\n",
        "                f.write(s + '%10.4g' * 7 % results + '\\n')  # P, R, mAP@.5, mAP@.5-.95, val_loss(box, obj, cls)\r\n",
        "            if len(opt.name) and opt.bucket:\r\n",
        "                os.system('gsutil cp %s gs://%s/results/results%s.txt' % (results_file, opt.bucket, opt.name))\r\n",
        "\r\n",
        "            # Log\r\n",
        "            tags = ['train/box_loss', 'train/obj_loss', 'train/cls_loss',  # train loss\r\n",
        "                    'metrics/precision', 'metrics/recall', 'metrics/mAP_0.5', 'metrics/mAP_0.5:0.95',\r\n",
        "                    'val/box_loss', 'val/obj_loss', 'val/cls_loss',  # val loss\r\n",
        "                    'x/lr0', 'x/lr1', 'x/lr2']  # params\r\n",
        "            for x, tag in zip(list(mloss[:-1]) + list(results) + lr, tags):\r\n",
        "                if tb_writer:\r\n",
        "                    tb_writer.add_scalar(tag, x, epoch)  # tensorboard\r\n",
        "                if wandb:\r\n",
        "                    wandb.log({tag: x})  # W&B\r\n",
        "\r\n",
        "            # Update best mAP\r\n",
        "            fi = fitness(np.array(results).reshape(1, -1))  # weighted combination of [P, R, mAP@.5, mAP@.5-.95]\r\n",
        "            if fi > best_fitness:\r\n",
        "                best_fitness = fi\r\n",
        "\r\n",
        "            # Save model\r\n",
        "            save = (not opt.nosave) or (final_epoch and not opt.evolve)\r\n",
        "            if save:\r\n",
        "                with open(results_file, 'r') as f:  # create checkpoint\r\n",
        "                    ckpt = {'epoch': epoch,\r\n",
        "                            'best_fitness': best_fitness,\r\n",
        "                            'training_results': f.read(),\r\n",
        "                            'model': ema.ema,\r\n",
        "                            'optimizer': None if final_epoch else optimizer.state_dict(),\r\n",
        "                            'wandb_id': wandb_run.id if wandb else None}\r\n",
        "\r\n",
        "                # Save last, best and delete\r\n",
        "                torch.save(ckpt, last)\r\n",
        "                if best_fitness == fi:\r\n",
        "                    torch.save(ckpt, best)\r\n",
        "                del ckpt\r\n",
        "        # end epoch ----------------------------------------------------------------------------------------------------\r\n",
        "    # end training\r\n",
        "\r\n",
        "    if rank in [-1, 0]:\r\n",
        "        # Strip optimizers\r\n",
        "        n = opt.name if opt.name.isnumeric() else ''\r\n",
        "        fresults, flast, fbest = save_dir / f'results{n}.txt', wdir / f'last{n}.pt', wdir / f'best{n}.pt'\r\n",
        "        for f1, f2 in zip([wdir / 'last.pt', wdir / 'best.pt', results_file], [flast, fbest, fresults]):\r\n",
        "            if f1.exists():\r\n",
        "                os.rename(f1, f2)  # rename\r\n",
        "                if str(f2).endswith('.pt'):  # is *.pt\r\n",
        "                    strip_optimizer(f2)  # strip optimizer\r\n",
        "                    os.system('gsutil cp %s gs://%s/weights' % (f2, opt.bucket)) if opt.bucket else None  # upload\r\n",
        "        # Finish\r\n",
        "        if plots:\r\n",
        "            plot_results(save_dir=save_dir)  # save as results.png\r\n",
        "            if wandb:\r\n",
        "                files = ['results.png', 'precision_recall_curve.png', 'confusion_matrix.png']\r\n",
        "                wandb.log({\"Results\": [wandb.Image(str(save_dir / f), caption=f) for f in files\r\n",
        "                                       if (save_dir / f).exists()]})\r\n",
        "        logger.info('%g epochs completed in %.3f hours.\\n' % (epoch - start_epoch + 1, (time.time() - t0) / 3600))\r\n",
        "    else:\r\n",
        "        dist.destroy_process_group()\r\n",
        "\r\n",
        "    wandb.run.finish() if wandb and wandb.run else None\r\n",
        "    torch.cuda.empty_cache()\r\n",
        "    return results\r\n",
        "\r\n",
        "\r\n",
        "if __name__ == '__main__':\r\n",
        "    parser = argparse.ArgumentParser()\r\n",
        "    parser.add_argument('--weights', type=str, default='yolov5s.pt', help='initial weights path')\r\n",
        "    parser.add_argument('--cfg', type=str, default='', help='model.yaml path')\r\n",
        "    parser.add_argument('--data', type=str, default='data/coco128.yaml', help='data.yaml path')\r\n",
        "    parser.add_argument('--hyp', type=str, default='data/hyp.scratch.yaml', help='hyperparameters path')\r\n",
        "    parser.add_argument('--epochs', type=int, default=300)\r\n",
        "    parser.add_argument('--batch-size', type=int, default=16, help='total batch size for all GPUs')\r\n",
        "    parser.add_argument('--img-size', nargs='+', type=int, default=[640, 640], help='[train, test] image sizes')\r\n",
        "    parser.add_argument('--rect', action='store_true', help='rectangular training')\r\n",
        "    parser.add_argument('--resume', nargs='?', const=True, default=False, help='resume most recent training')\r\n",
        "    parser.add_argument('--nosave', action='store_true', help='only save final checkpoint')\r\n",
        "    parser.add_argument('--notest', action='store_true', help='only test final epoch')\r\n",
        "    parser.add_argument('--noautoanchor', action='store_true', help='disable autoanchor check')\r\n",
        "    parser.add_argument('--evolve', action='store_true', help='evolve hyperparameters')\r\n",
        "    parser.add_argument('--bucket', type=str, default='', help='gsutil bucket')\r\n",
        "    parser.add_argument('--cache-images', action='store_true', help='cache images for faster training')\r\n",
        "    parser.add_argument('--image-weights', action='store_true', help='use weighted image selection for training')\r\n",
        "    parser.add_argument('--device', default='', help='cuda device, i.e. 0 or 0,1,2,3 or cpu')\r\n",
        "    parser.add_argument('--multi-scale', action='store_true', help='vary img-size +/- 50%%')\r\n",
        "    parser.add_argument('--single-cls', action='store_true', help='train as single-class dataset')\r\n",
        "    parser.add_argument('--adam', action='store_true', help='use torch.optim.Adam() optimizer')\r\n",
        "    parser.add_argument('--sync-bn', action='store_true', help='use SyncBatchNorm, only available in DDP mode')\r\n",
        "    parser.add_argument('--local_rank', type=int, default=-1, help='DDP parameter, do not modify')\r\n",
        "    parser.add_argument('--log-imgs', type=int, default=16, help='number of images for W&B logging, max 100')\r\n",
        "    parser.add_argument('--workers', type=int, default=8, help='maximum number of dataloader workers')\r\n",
        "    parser.add_argument('--project', default='runs/train', help='save to project/name')\r\n",
        "    parser.add_argument('--name', default='exp', help='save to project/name')\r\n",
        "    parser.add_argument('--exist-ok', action='store_true', help='existing project/name ok, do not increment')\r\n",
        "    opt = parser.parse_args()\r\n",
        "\r\n",
        "    # Set DDP variables\r\n",
        "    opt.total_batch_size = opt.batch_size\r\n",
        "    opt.world_size = int(os.environ['WORLD_SIZE']) if 'WORLD_SIZE' in os.environ else 1\r\n",
        "    opt.global_rank = int(os.environ['RANK']) if 'RANK' in os.environ else -1\r\n",
        "    set_logging(opt.global_rank)\r\n",
        "    if opt.global_rank in [-1, 0]:\r\n",
        "        check_git_status()\r\n",
        "\r\n",
        "    # Resume\r\n",
        "    if opt.resume:  # resume an interrupted run\r\n",
        "        ckpt = opt.resume if isinstance(opt.resume, str) else get_latest_run()  # specified or most recent path\r\n",
        "        assert os.path.isfile(ckpt), 'ERROR: --resume checkpoint does not exist'\r\n",
        "        with open(Path(ckpt).parent.parent / 'opt.yaml') as f:\r\n",
        "            opt = argparse.Namespace(**yaml.load(f, Loader=yaml.FullLoader))  # replace\r\n",
        "        opt.cfg, opt.weights, opt.resume = '', ckpt, True\r\n",
        "        logger.info('Resuming training from %s' % ckpt)\r\n",
        "    else:\r\n",
        "        # opt.hyp = opt.hyp or ('hyp.finetune.yaml' if opt.weights else 'hyp.scratch.yaml')\r\n",
        "        opt.data, opt.cfg, opt.hyp = check_file(opt.data), check_file(opt.cfg), check_file(opt.hyp)  # check files\r\n",
        "        assert len(opt.cfg) or len(opt.weights), 'either --cfg or --weights must be specified'\r\n",
        "        opt.img_size.extend([opt.img_size[-1]] * (2 - len(opt.img_size)))  # extend to 2 sizes (train, test)\r\n",
        "        opt.name = 'evolve' if opt.evolve else opt.name\r\n",
        "        opt.save_dir = increment_path(Path(opt.project) / opt.name, exist_ok=opt.exist_ok | opt.evolve)  # increment run\r\n",
        "\r\n",
        "    # DDP mode\r\n",
        "    device = select_device(opt.device, batch_size=opt.batch_size)\r\n",
        "    if opt.local_rank != -1:\r\n",
        "        assert torch.cuda.device_count() > opt.local_rank\r\n",
        "        torch.cuda.set_device(opt.local_rank)\r\n",
        "        device = torch.device('cuda', opt.local_rank)\r\n",
        "        dist.init_process_group(backend='nccl', init_method='env://')  # distributed backend\r\n",
        "        assert opt.batch_size % opt.world_size == 0, '--batch-size must be multiple of CUDA device count'\r\n",
        "        opt.batch_size = opt.total_batch_size // opt.world_size\r\n",
        "\r\n",
        "    # Hyperparameters\r\n",
        "    with open(opt.hyp) as f:\r\n",
        "        hyp = yaml.load(f, Loader=yaml.FullLoader)  # load hyps\r\n",
        "        if 'box' not in hyp:\r\n",
        "            warn('Compatibility: %s missing \"box\" which was renamed from \"giou\" in %s' %\r\n",
        "                 (opt.hyp, 'https://github.com/ultralytics/yolov5/pull/1120'))\r\n",
        "            hyp['box'] = hyp.pop('giou')\r\n",
        "\r\n",
        "    # Train\r\n",
        "    logger.info(opt)\r\n",
        "    if not opt.evolve:\r\n",
        "        tb_writer = None  # init loggers\r\n",
        "        if opt.global_rank in [-1, 0]:\r\n",
        "            logger.info(f'Start Tensorboard with \"tensorboard --logdir {opt.project}\", view at http://localhost:6006/')\r\n",
        "            tb_writer = SummaryWriter(opt.save_dir)  # Tensorboard\r\n",
        "        train(hyp, opt, device, tb_writer, wandb)\r\n",
        "\r\n",
        "    # Evolve hyperparameters (optional)\r\n",
        "    else:\r\n",
        "        # Hyperparameter evolution metadata (mutation scale 0-1, lower_limit, upper_limit)\r\n",
        "        meta = {'lr0': (1, 1e-5, 1e-1),  # initial learning rate (SGD=1E-2, Adam=1E-3)\r\n",
        "                'lrf': (1, 0.01, 1.0),  # final OneCycleLR learning rate (lr0 * lrf)\r\n",
        "                'momentum': (0.3, 0.6, 0.98),  # SGD momentum/Adam beta1\r\n",
        "                'weight_decay': (1, 0.0, 0.001),  # optimizer weight decay\r\n",
        "                'warmup_epochs': (1, 0.0, 5.0),  # warmup epochs (fractions ok)\r\n",
        "                'warmup_momentum': (1, 0.0, 0.95),  # warmup initial momentum\r\n",
        "                'warmup_bias_lr': (1, 0.0, 0.2),  # warmup initial bias lr\r\n",
        "                'box': (1, 0.02, 0.2),  # box loss gain\r\n",
        "                'cls': (1, 0.2, 4.0),  # cls loss gain\r\n",
        "                'cls_pw': (1, 0.5, 2.0),  # cls BCELoss positive_weight\r\n",
        "                'obj': (1, 0.2, 4.0),  # obj loss gain (scale with pixels)\r\n",
        "                'obj_pw': (1, 0.5, 2.0),  # obj BCELoss positive_weight\r\n",
        "                'iou_t': (0, 0.1, 0.7),  # IoU training threshold\r\n",
        "                'anchor_t': (1, 2.0, 8.0),  # anchor-multiple threshold\r\n",
        "                'anchors': (2, 2.0, 10.0),  # anchors per output grid (0 to ignore)\r\n",
        "                'fl_gamma': (0, 0.0, 2.0),  # focal loss gamma (efficientDet default gamma=1.5)\r\n",
        "                'hsv_h': (1, 0.0, 0.1),  # image HSV-Hue augmentation (fraction)\r\n",
        "                'hsv_s': (1, 0.0, 0.9),  # image HSV-Saturation augmentation (fraction)\r\n",
        "                'hsv_v': (1, 0.0, 0.9),  # image HSV-Value augmentation (fraction)\r\n",
        "                'degrees': (1, 0.0, 45.0),  # image rotation (+/- deg)\r\n",
        "                'translate': (1, 0.0, 0.9),  # image translation (+/- fraction)\r\n",
        "                'scale': (1, 0.0, 0.9),  # image scale (+/- gain)\r\n",
        "                'shear': (1, 0.0, 10.0),  # image shear (+/- deg)\r\n",
        "                'perspective': (0, 0.0, 0.001),  # image perspective (+/- fraction), range 0-0.001\r\n",
        "                'flipud': (1, 0.0, 1.0),  # image flip up-down (probability)\r\n",
        "                'fliplr': (0, 0.0, 1.0),  # image flip left-right (probability)\r\n",
        "                'mosaic': (1, 0.0, 1.0),  # image mixup (probability)\r\n",
        "                'mixup': (1, 0.0, 1.0)}  # image mixup (probability)\r\n",
        "\r\n",
        "        assert opt.local_rank == -1, 'DDP mode not implemented for --evolve'\r\n",
        "        opt.notest, opt.nosave = True, True  # only test/save final epoch\r\n",
        "        # ei = [isinstance(x, (int, float)) for x in hyp.values()]  # evolvable indices\r\n",
        "        yaml_file = Path(opt.save_dir) / 'hyp_evolved.yaml'  # save best result here\r\n",
        "        if opt.bucket:\r\n",
        "            os.system('gsutil cp gs://%s/evolve.txt .' % opt.bucket)  # download evolve.txt if exists\r\n",
        "\r\n",
        "        for _ in range(300):  # generations to evolve\r\n",
        "            if Path('evolve.txt').exists():  # if evolve.txt exists: select best hyps and mutate\r\n",
        "                # Select parent(s)\r\n",
        "                parent = 'single'  # parent selection method: 'single' or 'weighted'\r\n",
        "                x = np.loadtxt('evolve.txt', ndmin=2)\r\n",
        "                n = min(5, len(x))  # number of previous results to consider\r\n",
        "                x = x[np.argsort(-fitness(x))][:n]  # top n mutations\r\n",
        "                w = fitness(x) - fitness(x).min()  # weights\r\n",
        "                if parent == 'single' or len(x) == 1:\r\n",
        "                    # x = x[random.randint(0, n - 1)]  # random selection\r\n",
        "                    x = x[random.choices(range(n), weights=w)[0]]  # weighted selection\r\n",
        "                elif parent == 'weighted':\r\n",
        "                    x = (x * w.reshape(n, 1)).sum(0) / w.sum()  # weighted combination\r\n",
        "\r\n",
        "                # Mutate\r\n",
        "                mp, s = 0.8, 0.2  # mutation probability, sigma\r\n",
        "                npr = np.random\r\n",
        "                npr.seed(int(time.time()))\r\n",
        "                g = np.array([x[0] for x in meta.values()])  # gains 0-1\r\n",
        "                ng = len(meta)\r\n",
        "                v = np.ones(ng)\r\n",
        "                while all(v == 1):  # mutate until a change occurs (prevent duplicates)\r\n",
        "                    v = (g * (npr.random(ng) < mp) * npr.randn(ng) * npr.random() * s + 1).clip(0.3, 3.0)\r\n",
        "                for i, k in enumerate(hyp.keys()):  # plt.hist(v.ravel(), 300)\r\n",
        "                    hyp[k] = float(x[i + 7] * v[i])  # mutate\r\n",
        "\r\n",
        "            # Constrain to limits\r\n",
        "            for k, v in meta.items():\r\n",
        "                hyp[k] = max(hyp[k], v[1])  # lower limit\r\n",
        "                hyp[k] = min(hyp[k], v[2])  # upper limit\r\n",
        "                hyp[k] = round(hyp[k], 5)  # significant digits\r\n",
        "\r\n",
        "            # Train mutation\r\n",
        "            results = train(hyp.copy(), opt, device, wandb=wandb)\r\n",
        "\r\n",
        "            # Write mutation results\r\n",
        "            print_mutation(hyp.copy(), results, yaml_file, opt.bucket)\r\n",
        "\r\n",
        "        # Plot results\r\n",
        "        plot_evolution(yaml_file)\r\n",
        "        print(f'Hyperparameter evolution complete. Best results saved as: {yaml_file}\\n'\r\n",
        "              f'Command to train a new model with these hyperparameters: $ python train.py --hyp {yaml_file}')"
      ],
      "execution_count": null,
      "outputs": []
    }
  ]
}