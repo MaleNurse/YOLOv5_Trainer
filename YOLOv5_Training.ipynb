{
  "nbformat": 4,
  "nbformat_minor": 0,
  "metadata": {
    "accelerator": "GPU",
    "colab": {
      "name": "YOLOv5 Training.ipynb",
      "provenance": [],
      "collapsed_sections": [
        "0v693HyaeVJ2"
      ],
      "toc_visible": true,
      "authorship_tag": "ABX9TyNC74WbPQdYgE3jog+Lt9H/",
      "include_colab_link": true
    },
    "kernelspec": {
      "display_name": "Python 3",
      "name": "python3"
    }
  },
  "cells": [
    {
      "cell_type": "markdown",
      "metadata": {
        "id": "view-in-github",
        "colab_type": "text"
      },
      "source": [
        "<a href=\"https://colab.research.google.com/github/MaleNurse/YOLOv5_Trainer/blob/main/YOLOv5_Training.ipynb\" target=\"_parent\"><img src=\"https://colab.research.google.com/assets/colab-badge.svg\" alt=\"Open In Colab\"/></a>"
      ]
    },
    {
      "cell_type": "markdown",
      "metadata": {
        "id": "8GEZSbEoEiZ6"
      },
      "source": [
        "# Setup environment"
      ]
    },
    {
      "cell_type": "markdown",
      "metadata": {
        "id": "ju4WizM829oI"
      },
      "source": [
        "Connect Google Drive"
      ]
    },
    {
      "cell_type": "code",
      "metadata": {
        "id": "Ce8PGyZj286w",
        "colab": {
          "base_uri": "https://localhost:8080/"
        },
        "outputId": "9aa5a97e-2a6c-48fe-ddf2-bf8b972b3800"
      },
      "source": [
        "from google.colab import drive\n",
        "drive.mount('/content/drive')"
      ],
      "execution_count": 1,
      "outputs": [
        {
          "output_type": "stream",
          "text": [
            "Mounted at /content/drive\n"
          ],
          "name": "stdout"
        }
      ]
    },
    {
      "cell_type": "markdown",
      "metadata": {
        "id": "yL1hZIdnC7Ey"
      },
      "source": [
        "Update environment"
      ]
    },
    {
      "cell_type": "code",
      "metadata": {
        "id": "KuVh0_N7-T5z",
        "colab": {
          "base_uri": "https://localhost:8080/"
        },
        "outputId": "b814600f-dd44-4adf-e3a1-9b5e42e86709"
      },
      "source": [
        "#! wget https://developer.download.nvidia.com/compute/cuda/repos/ubuntu1804/x86_64/cuda-ubuntu1804.pin\n",
        "#! mv cuda-ubuntu1804.pin /etc/apt/preferences.d/cuda-repository-pin-600\n",
        "#! apt-key adv --fetch-keys https://developer.download.nvidia.com/compute/cuda/repos/ubuntu1804/x86_64/7fa2af80.pub\n",
        "#! add-apt-repository \"deb https://developer.download.nvidia.com/compute/cuda/repos/ubuntu1804/x86_64/ /\"\n",
        "#! rm /etc/apt/sources.list.d/cuda.list\n",
        "! apt update\n",
        "! apt upgrade \n",
        "#! apt install libcudnn8 libcudnn8-dev libnccl-dev libnccl2 --allow-change-held-packages\n",
        "! echo \"Segment complete\""
      ],
      "execution_count": 2,
      "outputs": [
        {
          "output_type": "stream",
          "text": [
            "Get:1 https://cloud.r-project.org/bin/linux/ubuntu bionic-cran40/ InRelease [3,626 B]\n",
            "Ign:2 https://developer.download.nvidia.com/compute/cuda/repos/ubuntu1804/x86_64  InRelease\n",
            "Get:3 https://cloud.r-project.org/bin/linux/ubuntu bionic-cran40/ Packages [49.8 kB]\n",
            "Ign:4 https://developer.download.nvidia.com/compute/machine-learning/repos/ubuntu1804/x86_64  InRelease\n",
            "Hit:5 https://developer.download.nvidia.com/compute/cuda/repos/ubuntu1804/x86_64  Release\n",
            "Hit:6 http://archive.ubuntu.com/ubuntu bionic InRelease\n",
            "Get:7 http://ppa.launchpad.net/c2d4u.team/c2d4u4.0+/ubuntu bionic InRelease [15.9 kB]\n",
            "Get:8 http://security.ubuntu.com/ubuntu bionic-security InRelease [88.7 kB]\n",
            "Hit:9 https://developer.download.nvidia.com/compute/machine-learning/repos/ubuntu1804/x86_64  Release\n",
            "Get:11 http://archive.ubuntu.com/ubuntu bionic-updates InRelease [88.7 kB]\n",
            "Hit:13 http://ppa.launchpad.net/cran/libgit2/ubuntu bionic InRelease\n",
            "Get:14 http://archive.ubuntu.com/ubuntu bionic-backports InRelease [74.6 kB]\n",
            "Get:15 http://security.ubuntu.com/ubuntu bionic-security/restricted amd64 Packages [348 kB]\n",
            "Hit:16 http://ppa.launchpad.net/deadsnakes/ppa/ubuntu bionic InRelease\n",
            "Get:17 http://archive.ubuntu.com/ubuntu bionic-updates/universe amd64 Packages [2,170 kB]\n",
            "Get:18 http://ppa.launchpad.net/graphics-drivers/ppa/ubuntu bionic InRelease [21.3 kB]\n",
            "Get:19 http://security.ubuntu.com/ubuntu bionic-security/main amd64 Packages [2,045 kB]\n",
            "Get:20 http://ppa.launchpad.net/c2d4u.team/c2d4u4.0+/ubuntu bionic/main Sources [1,749 kB]\n",
            "Get:21 http://security.ubuntu.com/ubuntu bionic-security/universe amd64 Packages [1,402 kB]\n",
            "Get:22 http://archive.ubuntu.com/ubuntu bionic-updates/main amd64 Packages [2,475 kB]\n",
            "Get:23 http://archive.ubuntu.com/ubuntu bionic-updates/restricted amd64 Packages [378 kB]\n",
            "Get:24 http://ppa.launchpad.net/c2d4u.team/c2d4u4.0+/ubuntu bionic/main amd64 Packages [895 kB]\n",
            "Get:25 http://ppa.launchpad.net/graphics-drivers/ppa/ubuntu bionic/main amd64 Packages [49.4 kB]\n",
            "Fetched 11.9 MB in 7s (1,637 kB/s)\n",
            "Reading package lists... Done\n",
            "Building dependency tree       \n",
            "Reading state information... Done\n",
            "60 packages can be upgraded. Run 'apt list --upgradable' to see them.\n",
            "Reading package lists... Done\n",
            "Building dependency tree       \n",
            "Reading state information... Done\n",
            "Calculating upgrade... Done\n",
            "The following packages were automatically installed and are no longer required:\n",
            "  linux-headers-4.15.0-137 linux-headers-4.15.0-137-generic\n",
            "Use 'apt autoremove' to remove them.\n",
            "The following NEW packages will be installed:\n",
            "  linux-headers-4.15.0-140 linux-headers-4.15.0-140-generic\n",
            "The following packages have been kept back:\n",
            "  libcudnn8 libcudnn8-dev libnccl-dev libnccl2\n",
            "The following packages will be upgraded:\n",
            "  binutils binutils-common binutils-x86-64-linux-gnu cuda-compat-11-0 gnupg2\n",
            "  libaudit-common libaudit1 libbinutils libc-bin libcublas-dev libcublas10\n",
            "  libcudnn7 libcudnn7-dev libldap-2.4-2 libldap-common libnvidia-cfg1-460\n",
            "  libnvidia-common-460 libnvidia-compute-460 libnvidia-decode-460\n",
            "  libnvidia-encode-460 libnvidia-extra-460 libnvidia-fbc1-460 libnvidia-gl-460\n",
            "  libnvidia-ifr1-460 libp11-kit0 libpam-systemd libperl5.26 libsasl2-2\n",
            "  libsasl2-modules-db libssl-dev libssl1.1 libsystemd0 libudev1 libxnvctrl0\n",
            "  libzstd1 linux-headers-generic linux-libc-dev nvidia-compute-utils-460\n",
            "  nvidia-dkms-460 nvidia-driver-460 nvidia-kernel-common-460\n",
            "  nvidia-kernel-source-460 nvidia-settings nvidia-utils-460 openssl perl\n",
            "  perl-base perl-modules-5.26 r-cran-callr r-cran-diffobj r-cran-processx\n",
            "  systemd systemd-sysv tar udev xserver-xorg-video-nvidia-460\n",
            "56 upgraded, 2 newly installed, 0 to remove and 4 not upgraded.\n",
            "Need to get 613 MB of archives.\n",
            "After this operation, 159 MB of additional disk space will be used.\n",
            "Get:1 https://developer.download.nvidia.com/compute/cuda/repos/ubuntu1804/x86_64  cuda-compat-11-0 450.102.04-1 [6,712 kB]\n",
            "Get:2 https://developer.download.nvidia.com/compute/cuda/repos/ubuntu1804/x86_64  libcublas10 10.2.3.254-1 [43.1 MB]\n",
            "Get:3 http://ppa.launchpad.net/graphics-drivers/ppa/ubuntu bionic/main amd64 nvidia-driver-460 amd64 460.67-0ubuntu0~0.18.04.1 [433 kB]\n",
            "Get:4 http://archive.ubuntu.com/ubuntu bionic-updates/main amd64 libperl5.26 amd64 5.26.1-6ubuntu0.5 [3,534 kB]\n",
            "Get:5 https://developer.download.nvidia.com/compute/cuda/repos/ubuntu1804/x86_64  libcublas-dev 10.2.3.254-1 [42.4 MB]\n",
            "Get:6 https://developer.download.nvidia.com/compute/machine-learning/repos/ubuntu1804/x86_64  libcudnn7-dev 7.6.5.32-1+cuda10.2 [165 MB]\n",
            "Get:7 http://ppa.launchpad.net/graphics-drivers/ppa/ubuntu bionic/main amd64 libnvidia-extra-460 amd64 460.67-0ubuntu0~0.18.04.1 [40.9 kB]\n",
            "Get:8 http://archive.ubuntu.com/ubuntu bionic-updates/main amd64 perl amd64 5.26.1-6ubuntu0.5 [201 kB]\n",
            "Get:9 http://archive.ubuntu.com/ubuntu bionic-updates/main amd64 perl-base amd64 5.26.1-6ubuntu0.5 [1,391 kB]\n",
            "Get:10 http://ppa.launchpad.net/graphics-drivers/ppa/ubuntu bionic/main amd64 libnvidia-common-460 all 460.67-0ubuntu0~0.18.04.1 [10.3 kB]\n",
            "Get:11 http://archive.ubuntu.com/ubuntu bionic-updates/main amd64 perl-modules-5.26 all 5.26.1-6ubuntu0.5 [2,762 kB]\n",
            "Get:12 http://archive.ubuntu.com/ubuntu bionic-updates/main amd64 tar amd64 1.29b-2ubuntu0.2 [234 kB]\n",
            "Get:13 http://archive.ubuntu.com/ubuntu bionic-updates/main amd64 libc-bin amd64 2.27-3ubuntu1.4 [643 kB]\n",
            "Get:14 http://archive.ubuntu.com/ubuntu bionic-updates/main amd64 systemd-sysv amd64 237-3ubuntu10.45 [16.7 kB]\n",
            "Get:15 http://archive.ubuntu.com/ubuntu bionic-updates/main amd64 libpam-systemd amd64 237-3ubuntu10.45 [107 kB]\n",
            "Get:16 http://archive.ubuntu.com/ubuntu bionic-updates/main amd64 libsystemd0 amd64 237-3ubuntu10.45 [210 kB]\n",
            "Get:17 http://archive.ubuntu.com/ubuntu bionic-updates/main amd64 systemd amd64 237-3ubuntu10.45 [2,913 kB]\n",
            "Get:18 http://ppa.launchpad.net/graphics-drivers/ppa/ubuntu bionic/main amd64 libnvidia-gl-460 amd64 460.67-0ubuntu0~0.18.04.1 [80.6 MB]\n",
            "Get:19 http://archive.ubuntu.com/ubuntu bionic-updates/main amd64 udev amd64 237-3ubuntu10.45 [1,101 kB]\n",
            "Get:20 http://archive.ubuntu.com/ubuntu bionic-updates/main amd64 libudev1 amd64 237-3ubuntu10.45 [59.0 kB]\n",
            "Get:21 http://archive.ubuntu.com/ubuntu bionic-updates/main amd64 libaudit-common all 1:2.8.2-1ubuntu1.1 [4,068 B]\n",
            "Get:22 http://archive.ubuntu.com/ubuntu bionic-updates/main amd64 libaudit1 amd64 1:2.8.2-1ubuntu1.1 [38.7 kB]\n",
            "Get:23 http://archive.ubuntu.com/ubuntu bionic-updates/main amd64 libzstd1 amd64 1.3.3+dfsg-2ubuntu1.2 [189 kB]\n",
            "Get:24 http://archive.ubuntu.com/ubuntu bionic-updates/main amd64 libp11-kit0 amd64 0.23.9-2ubuntu0.1 [187 kB]\n",
            "Get:25 http://archive.ubuntu.com/ubuntu bionic-updates/main amd64 libssl-dev amd64 1.1.1-1ubuntu2.1~18.04.9 [1,566 kB]\n",
            "Get:26 http://archive.ubuntu.com/ubuntu bionic-updates/main amd64 libssl1.1 amd64 1.1.1-1ubuntu2.1~18.04.9 [1,301 kB]\n",
            "Get:27 http://archive.ubuntu.com/ubuntu bionic-updates/main amd64 openssl amd64 1.1.1-1ubuntu2.1~18.04.9 [614 kB]\n",
            "Get:28 http://archive.ubuntu.com/ubuntu bionic-updates/main amd64 binutils-x86-64-linux-gnu amd64 2.30-21ubuntu1~18.04.5 [1,839 kB]\n",
            "Get:29 http://archive.ubuntu.com/ubuntu bionic-updates/main amd64 binutils-common amd64 2.30-21ubuntu1~18.04.5 [197 kB]\n",
            "Get:30 http://archive.ubuntu.com/ubuntu bionic-updates/main amd64 binutils amd64 2.30-21ubuntu1~18.04.5 [3,388 B]\n",
            "Get:31 http://archive.ubuntu.com/ubuntu bionic-updates/main amd64 libbinutils amd64 2.30-21ubuntu1~18.04.5 [489 kB]\n",
            "Get:32 http://archive.ubuntu.com/ubuntu bionic-updates/main amd64 libsasl2-modules-db amd64 2.1.27~101-g0780600+dfsg-3ubuntu2.3 [15.0 kB]\n",
            "Get:33 http://archive.ubuntu.com/ubuntu bionic-updates/main amd64 libsasl2-2 amd64 2.1.27~101-g0780600+dfsg-3ubuntu2.3 [49.2 kB]\n",
            "Get:34 http://archive.ubuntu.com/ubuntu bionic-updates/main amd64 libldap-common all 2.4.45+dfsg-1ubuntu1.10 [15.8 kB]\n",
            "Get:35 http://archive.ubuntu.com/ubuntu bionic-updates/main amd64 libldap-2.4-2 amd64 2.4.45+dfsg-1ubuntu1.10 [154 kB]\n",
            "Get:36 http://archive.ubuntu.com/ubuntu bionic-updates/main amd64 libxnvctrl0 amd64 460.39-0ubuntu0.18.04.2 [11.0 kB]\n",
            "Get:37 http://archive.ubuntu.com/ubuntu bionic-updates/main amd64 linux-headers-4.15.0-140 all 4.15.0-140.144 [10.9 MB]\n",
            "Get:38 http://archive.ubuntu.com/ubuntu bionic-updates/main amd64 linux-headers-4.15.0-140-generic amd64 4.15.0-140.144 [1,101 kB]\n",
            "Get:39 http://archive.ubuntu.com/ubuntu bionic-updates/main amd64 linux-headers-generic amd64 4.15.0.140.127 [2,484 B]\n",
            "Get:40 http://archive.ubuntu.com/ubuntu bionic-updates/main amd64 linux-libc-dev amd64 4.15.0-140.144 [993 kB]\n",
            "Get:41 http://archive.ubuntu.com/ubuntu bionic-updates/main amd64 nvidia-settings amd64 460.39-0ubuntu0.18.04.2 [882 kB]\n",
            "Get:42 http://archive.ubuntu.com/ubuntu bionic-updates/universe amd64 gnupg2 all 2.2.4-1ubuntu1.4 [5,292 B]\n",
            "Get:43 https://developer.download.nvidia.com/compute/machine-learning/repos/ubuntu1804/x86_64  libcudnn7 7.6.5.32-1+cuda10.2 [189 MB]\n",
            "Get:44 http://ppa.launchpad.net/graphics-drivers/ppa/ubuntu bionic/main amd64 nvidia-dkms-460 amd64 460.67-0ubuntu0~0.18.04.1 [29.4 kB]\n",
            "Get:45 http://ppa.launchpad.net/graphics-drivers/ppa/ubuntu bionic/main amd64 nvidia-kernel-source-460 amd64 460.67-0ubuntu0~0.18.04.1 [24.5 MB]\n",
            "Get:46 http://ppa.launchpad.net/graphics-drivers/ppa/ubuntu bionic/main amd64 nvidia-kernel-common-460 amd64 460.67-0ubuntu0~0.18.04.1 [19.7 kB]\n",
            "Get:47 http://ppa.launchpad.net/graphics-drivers/ppa/ubuntu bionic/main amd64 libnvidia-decode-460 amd64 460.67-0ubuntu0~0.18.04.1 [1,310 kB]\n",
            "Get:48 http://ppa.launchpad.net/graphics-drivers/ppa/ubuntu bionic/main amd64 libnvidia-compute-460 amd64 460.67-0ubuntu0~0.18.04.1 [21.8 MB]\n",
            "Get:49 http://ppa.launchpad.net/graphics-drivers/ppa/ubuntu bionic/main amd64 nvidia-compute-utils-460 amd64 460.67-0ubuntu0~0.18.04.1 [106 kB]\n",
            "Get:50 http://ppa.launchpad.net/graphics-drivers/ppa/ubuntu bionic/main amd64 libnvidia-encode-460 amd64 460.67-0ubuntu0~0.18.04.1 [40.8 kB]\n",
            "Get:51 http://ppa.launchpad.net/graphics-drivers/ppa/ubuntu bionic/main amd64 nvidia-utils-460 amd64 460.67-0ubuntu0~0.18.04.1 [364 kB]\n",
            "Get:52 http://ppa.launchpad.net/graphics-drivers/ppa/ubuntu bionic/main amd64 libnvidia-ifr1-460 amd64 460.67-0ubuntu0~0.18.04.1 [68.8 kB]\n",
            "Get:53 http://ppa.launchpad.net/graphics-drivers/ppa/ubuntu bionic/main amd64 libnvidia-fbc1-460 amd64 460.67-0ubuntu0~0.18.04.1 [46.5 kB]\n",
            "Get:54 http://ppa.launchpad.net/graphics-drivers/ppa/ubuntu bionic/main amd64 xserver-xorg-video-nvidia-460 amd64 460.67-0ubuntu0~0.18.04.1 [1,558 kB]\n",
            "Get:55 http://ppa.launchpad.net/graphics-drivers/ppa/ubuntu bionic/main amd64 libnvidia-cfg1-460 amd64 460.67-0ubuntu0~0.18.04.1 [78.5 kB]\n",
            "Get:56 http://ppa.launchpad.net/c2d4u.team/c2d4u4.0+/ubuntu bionic/main amd64 r-cran-processx amd64 3.5.0-1cran1.1804.0 [297 kB]\n",
            "Get:57 http://ppa.launchpad.net/c2d4u.team/c2d4u4.0+/ubuntu bionic/main amd64 r-cran-callr all 3.6.0-1cran1.1804.0 [414 kB]\n",
            "Get:58 http://ppa.launchpad.net/c2d4u.team/c2d4u4.0+/ubuntu bionic/main amd64 r-cran-diffobj amd64 0.3.4-1cran1.1804.0 [946 kB]\n",
            "Fetched 613 MB in 37s (16.8 MB/s)\n",
            "Extracting templates from packages: 100%\n",
            "Preconfiguring packages ...\n",
            "(Reading database ... 160980 files and directories currently installed.)\n",
            "Preparing to unpack .../libperl5.26_5.26.1-6ubuntu0.5_amd64.deb ...\n",
            "Unpacking libperl5.26:amd64 (5.26.1-6ubuntu0.5) over (5.26.1-6ubuntu0.3) ...\n",
            "Preparing to unpack .../perl_5.26.1-6ubuntu0.5_amd64.deb ...\n",
            "Unpacking perl (5.26.1-6ubuntu0.5) over (5.26.1-6ubuntu0.3) ...\n",
            "Preparing to unpack .../perl-base_5.26.1-6ubuntu0.5_amd64.deb ...\n",
            "Unpacking perl-base (5.26.1-6ubuntu0.5) over (5.26.1-6ubuntu0.3) ...\n",
            "Setting up perl-base (5.26.1-6ubuntu0.5) ...\n",
            "(Reading database ... 160980 files and directories currently installed.)\n",
            "Preparing to unpack .../perl-modules-5.26_5.26.1-6ubuntu0.5_all.deb ...\n",
            "Unpacking perl-modules-5.26 (5.26.1-6ubuntu0.5) over (5.26.1-6ubuntu0.3) ...\n",
            "Preparing to unpack .../tar_1.29b-2ubuntu0.2_amd64.deb ...\n",
            "Unpacking tar (1.29b-2ubuntu0.2) over (1.29b-2ubuntu0.1) ...\n",
            "Setting up tar (1.29b-2ubuntu0.2) ...\n",
            "update-alternatives: warning: forcing reinstallation of alternative /usr/sbin/rmt-tar because link group rmt is broken\n",
            "(Reading database ... 160980 files and directories currently installed.)\n",
            "Preparing to unpack .../libc-bin_2.27-3ubuntu1.4_amd64.deb ...\n",
            "Unpacking libc-bin (2.27-3ubuntu1.4) over (2.27-3ubuntu1.2) ...\n",
            "Setting up libc-bin (2.27-3ubuntu1.4) ...\n",
            "/sbin/ldconfig.real: /usr/local/lib/python3.7/dist-packages/ideep4py/lib/libmkldnn.so.0 is not a symbolic link\n",
            "\n",
            "(Reading database ... 160980 files and directories currently installed.)\n",
            "Preparing to unpack .../systemd-sysv_237-3ubuntu10.45_amd64.deb ...\n",
            "Unpacking systemd-sysv (237-3ubuntu10.45) over (237-3ubuntu10.44) ...\n",
            "Preparing to unpack .../libpam-systemd_237-3ubuntu10.45_amd64.deb ...\n",
            "Unpacking libpam-systemd:amd64 (237-3ubuntu10.45) over (237-3ubuntu10.44) ...\n",
            "Preparing to unpack .../libsystemd0_237-3ubuntu10.45_amd64.deb ...\n",
            "Unpacking libsystemd0:amd64 (237-3ubuntu10.45) over (237-3ubuntu10.44) ...\n",
            "Setting up libsystemd0:amd64 (237-3ubuntu10.45) ...\n",
            "(Reading database ... 160980 files and directories currently installed.)\n",
            "Preparing to unpack .../systemd_237-3ubuntu10.45_amd64.deb ...\n",
            "Unpacking systemd (237-3ubuntu10.45) over (237-3ubuntu10.44) ...\n",
            "Preparing to unpack .../udev_237-3ubuntu10.45_amd64.deb ...\n",
            "Unpacking udev (237-3ubuntu10.45) over (237-3ubuntu10.44) ...\n",
            "Preparing to unpack .../libudev1_237-3ubuntu10.45_amd64.deb ...\n",
            "Unpacking libudev1:amd64 (237-3ubuntu10.45) over (237-3ubuntu10.44) ...\n",
            "Setting up libudev1:amd64 (237-3ubuntu10.45) ...\n",
            "(Reading database ... 160980 files and directories currently installed.)\n",
            "Preparing to unpack .../libaudit-common_1%3a2.8.2-1ubuntu1.1_all.deb ...\n",
            "Unpacking libaudit-common (1:2.8.2-1ubuntu1.1) over (1:2.8.2-1ubuntu1) ...\n",
            "Setting up libaudit-common (1:2.8.2-1ubuntu1.1) ...\n",
            "(Reading database ... 160980 files and directories currently installed.)\n",
            "Preparing to unpack .../libaudit1_1%3a2.8.2-1ubuntu1.1_amd64.deb ...\n",
            "Unpacking libaudit1:amd64 (1:2.8.2-1ubuntu1.1) over (1:2.8.2-1ubuntu1) ...\n",
            "Setting up libaudit1:amd64 (1:2.8.2-1ubuntu1.1) ...\n",
            "(Reading database ... 160980 files and directories currently installed.)\n",
            "Preparing to unpack .../libzstd1_1.3.3+dfsg-2ubuntu1.2_amd64.deb ...\n",
            "Unpacking libzstd1:amd64 (1.3.3+dfsg-2ubuntu1.2) over (1.3.3+dfsg-2ubuntu1.1) ...\n",
            "Setting up libzstd1:amd64 (1.3.3+dfsg-2ubuntu1.2) ...\n",
            "(Reading database ... 160980 files and directories currently installed.)\n",
            "Preparing to unpack .../libp11-kit0_0.23.9-2ubuntu0.1_amd64.deb ...\n",
            "Unpacking libp11-kit0:amd64 (0.23.9-2ubuntu0.1) over (0.23.9-2) ...\n",
            "Setting up libp11-kit0:amd64 (0.23.9-2ubuntu0.1) ...\n",
            "(Reading database ... 160980 files and directories currently installed.)\n",
            "Preparing to unpack .../00-libssl-dev_1.1.1-1ubuntu2.1~18.04.9_amd64.deb ...\n",
            "Unpacking libssl-dev:amd64 (1.1.1-1ubuntu2.1~18.04.9) over (1.1.1-1ubuntu2.1~18.04.8) ...\n",
            "Preparing to unpack .../01-libssl1.1_1.1.1-1ubuntu2.1~18.04.9_amd64.deb ...\n",
            "Unpacking libssl1.1:amd64 (1.1.1-1ubuntu2.1~18.04.9) over (1.1.1-1ubuntu2.1~18.04.8) ...\n",
            "Preparing to unpack .../02-openssl_1.1.1-1ubuntu2.1~18.04.9_amd64.deb ...\n",
            "Unpacking openssl (1.1.1-1ubuntu2.1~18.04.9) over (1.1.1-1ubuntu2.1~18.04.6) ...\n",
            "Preparing to unpack .../03-binutils-x86-64-linux-gnu_2.30-21ubuntu1~18.04.5_amd64.deb ...\n",
            "Unpacking binutils-x86-64-linux-gnu (2.30-21ubuntu1~18.04.5) over (2.30-21ubuntu1~18.04.4) ...\n",
            "Preparing to unpack .../04-binutils-common_2.30-21ubuntu1~18.04.5_amd64.deb ...\n",
            "Unpacking binutils-common:amd64 (2.30-21ubuntu1~18.04.5) over (2.30-21ubuntu1~18.04.4) ...\n",
            "Preparing to unpack .../05-binutils_2.30-21ubuntu1~18.04.5_amd64.deb ...\n",
            "Unpacking binutils (2.30-21ubuntu1~18.04.5) over (2.30-21ubuntu1~18.04.4) ...\n",
            "Preparing to unpack .../06-libbinutils_2.30-21ubuntu1~18.04.5_amd64.deb ...\n",
            "Unpacking libbinutils:amd64 (2.30-21ubuntu1~18.04.5) over (2.30-21ubuntu1~18.04.4) ...\n",
            "Preparing to unpack .../07-cuda-compat-11-0_450.102.04-1_amd64.deb ...\n",
            "Unpacking cuda-compat-11-0 (450.102.04-1) over (450.80.02-1) ...\n",
            "Preparing to unpack .../08-libcublas10_10.2.3.254-1_amd64.deb ...\n",
            "Unpacking libcublas10 (10.2.3.254-1) over (10.2.1.243-1) ...\n",
            "Preparing to unpack .../09-libcublas-dev_10.2.3.254-1_amd64.deb ...\n",
            "Unpacking libcublas-dev (10.2.3.254-1) over (10.2.1.243-1) ...\n",
            "Preparing to unpack .../10-libcudnn7-dev_7.6.5.32-1+cuda10.2_amd64.deb ...\n",
            "update-alternatives: removing manually selected alternative - switching libcudnn to auto mode\n",
            "update-alternatives: using /usr/include/x86_64-linux-gnu/cudnn_v8.h to provide /usr/include/cudnn.h (libcudnn) in auto mode\n",
            "Unpacking libcudnn7-dev (7.6.5.32-1+cuda10.2) over (7.6.5.32-1+cuda10.1) ...\n",
            "Preparing to unpack .../11-libcudnn7_7.6.5.32-1+cuda10.2_amd64.deb ...\n",
            "Unpacking libcudnn7 (7.6.5.32-1+cuda10.2) over (7.6.5.32-1+cuda10.1) ...\n",
            "Preparing to unpack .../12-libsasl2-modules-db_2.1.27~101-g0780600+dfsg-3ubuntu2.3_amd64.deb ...\n",
            "Unpacking libsasl2-modules-db:amd64 (2.1.27~101-g0780600+dfsg-3ubuntu2.3) over (2.1.27~101-g0780600+dfsg-3ubuntu2.1) ...\n",
            "Preparing to unpack .../13-libsasl2-2_2.1.27~101-g0780600+dfsg-3ubuntu2.3_amd64.deb ...\n",
            "Unpacking libsasl2-2:amd64 (2.1.27~101-g0780600+dfsg-3ubuntu2.3) over (2.1.27~101-g0780600+dfsg-3ubuntu2.1) ...\n",
            "Preparing to unpack .../14-libldap-common_2.4.45+dfsg-1ubuntu1.10_all.deb ...\n",
            "Unpacking libldap-common (2.4.45+dfsg-1ubuntu1.10) over (2.4.45+dfsg-1ubuntu1.6) ...\n",
            "Preparing to unpack .../15-libldap-2.4-2_2.4.45+dfsg-1ubuntu1.10_amd64.deb ...\n",
            "Unpacking libldap-2.4-2:amd64 (2.4.45+dfsg-1ubuntu1.10) over (2.4.45+dfsg-1ubuntu1.6) ...\n",
            "Preparing to unpack .../16-nvidia-driver-460_460.67-0ubuntu0~0.18.04.1_amd64.deb ...\n",
            "Unpacking nvidia-driver-460 (460.67-0ubuntu0~0.18.04.1) over (460.56-0ubuntu0.18.04.1) ...\n",
            "Preparing to unpack .../17-libnvidia-extra-460_460.67-0ubuntu0~0.18.04.1_amd64.deb ...\n",
            "Unpacking libnvidia-extra-460:amd64 (460.67-0ubuntu0~0.18.04.1) over (460.56-0ubuntu0.18.04.1) ...\n",
            "Preparing to unpack .../18-libnvidia-common-460_460.67-0ubuntu0~0.18.04.1_all.deb ...\n",
            "Unpacking libnvidia-common-460 (460.67-0ubuntu0~0.18.04.1) over (460.56-0ubuntu0.18.04.1) ...\n",
            "Preparing to unpack .../19-libnvidia-gl-460_460.67-0ubuntu0~0.18.04.1_amd64.deb ...\n",
            "Unpacking libnvidia-gl-460:amd64 (460.67-0ubuntu0~0.18.04.1) over (460.56-0ubuntu0.18.04.1) ...\n",
            "Preparing to unpack .../20-nvidia-dkms-460_460.67-0ubuntu0~0.18.04.1_amd64.deb ...\n",
            "Removing all DKMS Modules\n",
            "Done.\n",
            "Unpacking nvidia-dkms-460 (460.67-0ubuntu0~0.18.04.1) over (460.56-0ubuntu0.18.04.1) ...\n",
            "Preparing to unpack .../21-nvidia-kernel-source-460_460.67-0ubuntu0~0.18.04.1_amd64.deb ...\n",
            "Unpacking nvidia-kernel-source-460 (460.67-0ubuntu0~0.18.04.1) over (460.56-0ubuntu0.18.04.1) ...\n",
            "Preparing to unpack .../22-nvidia-kernel-common-460_460.67-0ubuntu0~0.18.04.1_amd64.deb ...\n",
            "Unpacking nvidia-kernel-common-460 (460.67-0ubuntu0~0.18.04.1) over (460.56-0ubuntu0.18.04.1) ...\n",
            "Preparing to unpack .../23-libnvidia-decode-460_460.67-0ubuntu0~0.18.04.1_amd64.deb ...\n",
            "Unpacking libnvidia-decode-460:amd64 (460.67-0ubuntu0~0.18.04.1) over (460.56-0ubuntu0.18.04.1) ...\n",
            "Preparing to unpack .../24-libnvidia-compute-460_460.67-0ubuntu0~0.18.04.1_amd64.deb ...\n",
            "Unpacking libnvidia-compute-460:amd64 (460.67-0ubuntu0~0.18.04.1) over (460.56-0ubuntu0.18.04.1) ...\n",
            "Preparing to unpack .../25-nvidia-compute-utils-460_460.67-0ubuntu0~0.18.04.1_amd64.deb ...\n",
            "System has not been booted with systemd as init system (PID 1). Can't operate.\n",
            "System has not been booted with systemd as init system (PID 1). Can't operate.\n",
            "Unpacking nvidia-compute-utils-460 (460.67-0ubuntu0~0.18.04.1) over (460.56-0ubuntu0.18.04.1) ...\n",
            "Preparing to unpack .../26-libnvidia-encode-460_460.67-0ubuntu0~0.18.04.1_amd64.deb ...\n",
            "Unpacking libnvidia-encode-460:amd64 (460.67-0ubuntu0~0.18.04.1) over (460.56-0ubuntu0.18.04.1) ...\n",
            "Preparing to unpack .../27-nvidia-utils-460_460.67-0ubuntu0~0.18.04.1_amd64.deb ...\n",
            "Unpacking nvidia-utils-460 (460.67-0ubuntu0~0.18.04.1) over (460.56-0ubuntu0.18.04.1) ...\n",
            "Preparing to unpack .../28-libnvidia-ifr1-460_460.67-0ubuntu0~0.18.04.1_amd64.deb ...\n",
            "Unpacking libnvidia-ifr1-460:amd64 (460.67-0ubuntu0~0.18.04.1) over (460.56-0ubuntu0.18.04.1) ...\n",
            "Preparing to unpack .../29-libnvidia-fbc1-460_460.67-0ubuntu0~0.18.04.1_amd64.deb ...\n",
            "Unpacking libnvidia-fbc1-460:amd64 (460.67-0ubuntu0~0.18.04.1) over (460.56-0ubuntu0.18.04.1) ...\n",
            "Preparing to unpack .../30-xserver-xorg-video-nvidia-460_460.67-0ubuntu0~0.18.04.1_amd64.deb ...\n",
            "Unpacking xserver-xorg-video-nvidia-460 (460.67-0ubuntu0~0.18.04.1) over (460.56-0ubuntu0.18.04.1) ...\n",
            "Preparing to unpack .../31-libnvidia-cfg1-460_460.67-0ubuntu0~0.18.04.1_amd64.deb ...\n",
            "Unpacking libnvidia-cfg1-460:amd64 (460.67-0ubuntu0~0.18.04.1) over (460.56-0ubuntu0.18.04.1) ...\n",
            "Preparing to unpack .../32-libxnvctrl0_460.39-0ubuntu0.18.04.2_amd64.deb ...\n",
            "Unpacking libxnvctrl0:amd64 (460.39-0ubuntu0.18.04.2) over (460.32.03-0ubuntu1) ...\n",
            "Selecting previously unselected package linux-headers-4.15.0-140.\n",
            "Preparing to unpack .../33-linux-headers-4.15.0-140_4.15.0-140.144_all.deb ...\n",
            "Unpacking linux-headers-4.15.0-140 (4.15.0-140.144) ...\n",
            "Selecting previously unselected package linux-headers-4.15.0-140-generic.\n",
            "Preparing to unpack .../34-linux-headers-4.15.0-140-generic_4.15.0-140.144_amd64.deb ...\n",
            "Unpacking linux-headers-4.15.0-140-generic (4.15.0-140.144) ...\n",
            "Preparing to unpack .../35-linux-headers-generic_4.15.0.140.127_amd64.deb ...\n",
            "Unpacking linux-headers-generic (4.15.0.140.127) over (4.15.0.137.124) ...\n",
            "Preparing to unpack .../36-linux-libc-dev_4.15.0-140.144_amd64.deb ...\n",
            "Unpacking linux-libc-dev:amd64 (4.15.0-140.144) over (4.15.0-118.119) ...\n",
            "Preparing to unpack .../37-nvidia-settings_460.39-0ubuntu0.18.04.2_amd64.deb ...\n",
            "Unpacking nvidia-settings (460.39-0ubuntu0.18.04.2) over (460.32.03-0ubuntu1) ...\n",
            "Preparing to unpack .../38-r-cran-processx_3.5.0-1cran1.1804.0_amd64.deb ...\n",
            "Unpacking r-cran-processx (3.5.0-1cran1.1804.0) over (3.4.5-1cran1.1804.0) ...\n",
            "Preparing to unpack .../39-r-cran-callr_3.6.0-1cran1.1804.0_all.deb ...\n",
            "Unpacking r-cran-callr (3.6.0-1cran1.1804.0) over (3.5.1-1cran1.1804.0) ...\n",
            "Preparing to unpack .../40-r-cran-diffobj_0.3.4-1cran1.1804.0_amd64.deb ...\n",
            "Unpacking r-cran-diffobj (0.3.4-1cran1.1804.0) over (0.3.3-1cran1.1804.0) ...\n",
            "Preparing to unpack .../41-gnupg2_2.2.4-1ubuntu1.4_all.deb ...\n",
            "Unpacking gnupg2 (2.2.4-1ubuntu1.4) over (2.2.4-1ubuntu1.3) ...\n",
            "Setting up libcudnn7 (7.6.5.32-1+cuda10.2) ...\n",
            "Setting up r-cran-diffobj (0.3.4-1cran1.1804.0) ...\n",
            "Setting up r-cran-processx (3.5.0-1cran1.1804.0) ...\n",
            "Setting up libnvidia-extra-460:amd64 (460.67-0ubuntu0~0.18.04.1) ...\n",
            "Setting up libldap-common (2.4.45+dfsg-1ubuntu1.10) ...\n",
            "Setting up cuda-compat-11-0 (450.102.04-1) ...\n",
            "Setting up libnvidia-common-460 (460.67-0ubuntu0~0.18.04.1) ...\n",
            "Setting up libsasl2-modules-db:amd64 (2.1.27~101-g0780600+dfsg-3ubuntu2.3) ...\n",
            "Setting up linux-headers-4.15.0-140 (4.15.0-140.144) ...\n",
            "Setting up linux-libc-dev:amd64 (4.15.0-140.144) ...\n",
            "Setting up libsasl2-2:amd64 (2.1.27~101-g0780600+dfsg-3ubuntu2.3) ...\n",
            "Setting up libcudnn7-dev (7.6.5.32-1+cuda10.2) ...\n",
            "update-alternatives: using /usr/include/x86_64-linux-gnu/cudnn_v7.h to provide /usr/include/cudnn.h (libcudnn) in manual mode\n",
            "Setting up libnvidia-fbc1-460:amd64 (460.67-0ubuntu0~0.18.04.1) ...\n",
            "Setting up perl-modules-5.26 (5.26.1-6ubuntu0.5) ...\n",
            "Setting up libnvidia-gl-460:amd64 (460.67-0ubuntu0~0.18.04.1) ...\n",
            "Setting up binutils-common:amd64 (2.30-21ubuntu1~18.04.5) ...\n",
            "Setting up gnupg2 (2.2.4-1ubuntu1.4) ...\n",
            "Setting up libnvidia-ifr1-460:amd64 (460.67-0ubuntu0~0.18.04.1) ...\n",
            "Setting up libcublas10 (10.2.3.254-1) ...\n",
            "Setting up libcublas-dev (10.2.3.254-1) ...\n",
            "Setting up libnvidia-compute-460:amd64 (460.67-0ubuntu0~0.18.04.1) ...\n",
            "Setting up libperl5.26:amd64 (5.26.1-6ubuntu0.5) ...\n",
            "Setting up udev (237-3ubuntu10.45) ...\n",
            "invoke-rc.d: could not determine current runlevel\n",
            "invoke-rc.d: policy-rc.d denied execution of restart.\n",
            "Setting up libldap-2.4-2:amd64 (2.4.45+dfsg-1ubuntu1.10) ...\n",
            "Setting up libssl1.1:amd64 (1.1.1-1ubuntu2.1~18.04.9) ...\n",
            "Setting up nvidia-kernel-source-460 (460.67-0ubuntu0~0.18.04.1) ...\n",
            "Setting up systemd (237-3ubuntu10.45) ...\n",
            "Setting up openssl (1.1.1-1ubuntu2.1~18.04.9) ...\n",
            "Setting up nvidia-utils-460 (460.67-0ubuntu0~0.18.04.1) ...\n",
            "Setting up nvidia-kernel-common-460 (460.67-0ubuntu0~0.18.04.1) ...\n",
            "Setting up libnvidia-cfg1-460:amd64 (460.67-0ubuntu0~0.18.04.1) ...\n",
            "Setting up libxnvctrl0:amd64 (460.39-0ubuntu0.18.04.2) ...\n",
            "Setting up libnvidia-decode-460:amd64 (460.67-0ubuntu0~0.18.04.1) ...\n",
            "Setting up r-cran-callr (3.6.0-1cran1.1804.0) ...\n",
            "Setting up nvidia-compute-utils-460 (460.67-0ubuntu0~0.18.04.1) ...\n",
            "Setting up linux-headers-4.15.0-140-generic (4.15.0-140.144) ...\n",
            "/etc/kernel/header_postinst.d/dkms:\n",
            " * dkms: running auto installation service for kernel 4.15.0-140-generic\n",
            "   ...done.\n",
            "Setting up libbinutils:amd64 (2.30-21ubuntu1~18.04.5) ...\n",
            "Setting up systemd-sysv (237-3ubuntu10.45) ...\n",
            "Setting up libssl-dev:amd64 (1.1.1-1ubuntu2.1~18.04.9) ...\n",
            "Setting up nvidia-settings (460.39-0ubuntu0.18.04.2) ...\n",
            "Setting up perl (5.26.1-6ubuntu0.5) ...\n",
            "Setting up libnvidia-encode-460:amd64 (460.67-0ubuntu0~0.18.04.1) ...\n",
            "Setting up xserver-xorg-video-nvidia-460 (460.67-0ubuntu0~0.18.04.1) ...\n",
            "Setting up nvidia-dkms-460 (460.67-0ubuntu0~0.18.04.1) ...\n",
            "Loading new nvidia-460.67 DKMS files...\n",
            "It is likely that 4.19.112+ belongs to a chroot's host\n",
            "Building for 4.15.0-137-generic and 4.15.0-140-generic\n",
            "Building for architecture x86_64\n",
            "Building initial module for 4.15.0-137-generic\n",
            "Done.\n",
            "\n",
            "nvidia:\n",
            "Running module version sanity check.\n",
            " - Original module\n",
            "   - No original module exists within this kernel\n",
            " - Installation\n",
            "   - Installing to /lib/modules/4.15.0-137-generic/updates/dkms/\n",
            "\n",
            "nvidia-modeset.ko:\n",
            "Running module version sanity check.\n",
            " - Original module\n",
            "   - No original module exists within this kernel\n",
            " - Installation\n",
            "   - Installing to /lib/modules/4.15.0-137-generic/updates/dkms/\n",
            "\n",
            "nvidia-drm.ko:\n",
            "Running module version sanity check.\n",
            " - Original module\n",
            "   - No original module exists within this kernel\n",
            " - Installation\n",
            "   - Installing to /lib/modules/4.15.0-137-generic/updates/dkms/\n",
            "\n",
            "nvidia-uvm.ko:\n",
            "Running module version sanity check.\n",
            " - Original module\n",
            "   - No original module exists within this kernel\n",
            " - Installation\n",
            "   - Installing to /lib/modules/4.15.0-137-generic/updates/dkms/\n",
            "\n",
            "depmod...\n",
            "\n",
            "DKMS: install completed.\n",
            "Building initial module for 4.15.0-140-generic\n",
            "Done.\n",
            "\n",
            "nvidia:\n",
            "Running module version sanity check.\n",
            " - Original module\n",
            "   - No original module exists within this kernel\n",
            " - Installation\n",
            "   - Installing to /lib/modules/4.15.0-140-generic/updates/dkms/\n",
            "\n",
            "nvidia-modeset.ko:\n",
            "Running module version sanity check.\n",
            " - Original module\n",
            "   - No original module exists within this kernel\n",
            " - Installation\n",
            "   - Installing to /lib/modules/4.15.0-140-generic/updates/dkms/\n",
            "\n",
            "nvidia-drm.ko:\n",
            "Running module version sanity check.\n",
            " - Original module\n",
            "   - No original module exists within this kernel\n",
            " - Installation\n",
            "   - Installing to /lib/modules/4.15.0-140-generic/updates/dkms/\n",
            "\n",
            "nvidia-uvm.ko:\n",
            "Running module version sanity check.\n",
            " - Original module\n",
            "   - No original module exists within this kernel\n",
            " - Installation\n",
            "   - Installing to /lib/modules/4.15.0-140-generic/updates/dkms/\n",
            "\n",
            "depmod...\n",
            "\n",
            "DKMS: install completed.\n",
            "Setting up nvidia-driver-460 (460.67-0ubuntu0~0.18.04.1) ...\n",
            "Setting up linux-headers-generic (4.15.0.140.127) ...\n",
            "Setting up binutils-x86-64-linux-gnu (2.30-21ubuntu1~18.04.5) ...\n",
            "Setting up libpam-systemd:amd64 (237-3ubuntu10.45) ...\n",
            "Setting up binutils (2.30-21ubuntu1~18.04.5) ...\n",
            "Processing triggers for mime-support (3.60ubuntu1) ...\n",
            "Processing triggers for libc-bin (2.27-3ubuntu1.4) ...\n",
            "/sbin/ldconfig.real: /usr/local/lib/python3.7/dist-packages/ideep4py/lib/libmkldnn.so.0 is not a symbolic link\n",
            "\n",
            "Processing triggers for man-db (2.8.3-2ubuntu0.1) ...\n",
            "Processing triggers for dbus (1.12.2-1ubuntu1.2) ...\n",
            "Segment complete\n"
          ],
          "name": "stdout"
        }
      ]
    },
    {
      "cell_type": "markdown",
      "metadata": {
        "id": "u3w02tPW3L-E"
      },
      "source": [
        "Check GPU and Driver Version (req >=460)"
      ]
    },
    {
      "cell_type": "code",
      "metadata": {
        "id": "JtMJ8Ooh3NvG",
        "colab": {
          "base_uri": "https://localhost:8080/"
        },
        "outputId": "2177a844-f732-4741-d4cb-a6a3791f1edc"
      },
      "source": [
        "gpu_info = !nvidia-smi\n",
        "gpu_info = '\\n'.join(gpu_info)\n",
        "if gpu_info.find('failed') >= 0:\n",
        "  print('Select the Runtime > \"Change runtime type\" menu to enable a GPU accelerator, ')\n",
        "  print('and then re-execute this cell.')\n",
        "else:\n",
        "  print(gpu_info)"
      ],
      "execution_count": 3,
      "outputs": [
        {
          "output_type": "stream",
          "text": [
            "Mon Mar 29 14:54:25 2021       \n",
            "+-----------------------------------------------------------------------------+\n",
            "| NVIDIA-SMI 460.67       Driver Version: 460.32.03    CUDA Version: 11.2     |\n",
            "|-------------------------------+----------------------+----------------------+\n",
            "| GPU  Name        Persistence-M| Bus-Id        Disp.A | Volatile Uncorr. ECC |\n",
            "| Fan  Temp  Perf  Pwr:Usage/Cap|         Memory-Usage | GPU-Util  Compute M. |\n",
            "|                               |                      |               MIG M. |\n",
            "|===============================+======================+======================|\n",
            "|   0  Tesla K80           Off  | 00000000:00:04.0 Off |                    0 |\n",
            "| N/A   36C    P8    27W / 149W |      0MiB / 11441MiB |      0%      Default |\n",
            "|                               |                      |                  N/A |\n",
            "+-------------------------------+----------------------+----------------------+\n",
            "                                                                               \n",
            "+-----------------------------------------------------------------------------+\n",
            "| Processes:                                                                  |\n",
            "|  GPU   GI   CI        PID   Type   Process name                  GPU Memory |\n",
            "|        ID   ID                                                   Usage      |\n",
            "|=============================================================================|\n",
            "|  No running processes found                                                 |\n",
            "+-----------------------------------------------------------------------------+\n"
          ],
          "name": "stdout"
        }
      ]
    },
    {
      "cell_type": "markdown",
      "metadata": {
        "id": "NjHc-JA22jwt"
      },
      "source": [
        "Install YOLOv5 and depends"
      ]
    },
    {
      "cell_type": "code",
      "metadata": {
        "id": "oSE4BClo1hjj",
        "colab": {
          "base_uri": "https://localhost:8080/",
          "height": 1000
        },
        "outputId": "5066dd39-2601-4825-962b-5b803bdeef14"
      },
      "source": [
        "%cd /content\n",
        "!git clone https://github.com/ultralytics/yolov5  # clone repo\n",
        "#!pip install imgaug==0.2.5 torch==1.8.0 torchvision==0.8.1 numpy==1.19.2 pandas==1.1.0 # deal w/ dependency issues\n",
        "!pip install -U -r yolov5/requirements.txt  # install dependencies \n",
        "#!pip install torch==1.8.0+cu111 torchvision==0.9.0+cu111 -f https://download.pytorch.org/whl/torch_stable.html #use if CUDA v11 available\n",
        "!pip install wandb\n",
        "\n",
        "!echo \"Segment complete RESTART\"\n",
        "!echo \"RESTART THE RUNTIME\"\n",
        "!echo \"RESTART THE RUNTIME\"\n",
        "!echo \"RESTART THE RUNTIME\"\n",
        "!echo \"RESTART THE RUNTIME\"\n",
        "!echo \"RESTART THE RUNTIME\""
      ],
      "execution_count": 4,
      "outputs": [
        {
          "output_type": "stream",
          "text": [
            "/content\n",
            "Cloning into 'yolov5'...\n",
            "remote: Enumerating objects: 17, done.\u001b[K\n",
            "remote: Counting objects: 100% (17/17), done.\u001b[K\n",
            "remote: Compressing objects: 100% (17/17), done.\u001b[K\n",
            "remote: Total 5598 (delta 4), reused 1 (delta 0), pack-reused 5581\u001b[K\n",
            "Receiving objects: 100% (5598/5598), 8.44 MiB | 19.74 MiB/s, done.\n",
            "Resolving deltas: 100% (3818/3818), done.\n",
            "Collecting matplotlib>=3.2.2\n",
            "\u001b[?25l  Downloading https://files.pythonhosted.org/packages/83/ee/8d7e0149ecf95fae7e744c5a93f51a8c9f7a96c63691d10aed6d2c1d8735/matplotlib-3.4.0-cp37-cp37m-manylinux1_x86_64.whl (10.3MB)\n",
            "\u001b[K     |████████████████████████████████| 10.3MB 4.0MB/s \n",
            "\u001b[?25hCollecting numpy>=1.18.5\n",
            "\u001b[?25l  Downloading https://files.pythonhosted.org/packages/73/ef/8967d406f3f85018ceb5efab50431e901683188f1741ceb053efcab26c87/numpy-1.20.2-cp37-cp37m-manylinux2010_x86_64.whl (15.3MB)\n",
            "\u001b[K     |████████████████████████████████| 15.3MB 213kB/s \n",
            "\u001b[?25hCollecting opencv-python>=4.1.2\n",
            "\u001b[?25l  Downloading https://files.pythonhosted.org/packages/0f/13/192104516c4a3d92dc6b5e106ffcfbf0fe35f3c4faa49650205ff652af72/opencv_python-4.5.1.48-cp37-cp37m-manylinux2014_x86_64.whl (50.4MB)\n",
            "\u001b[K     |████████████████████████████████| 50.4MB 63kB/s \n",
            "\u001b[?25hCollecting Pillow\n",
            "\u001b[?25l  Downloading https://files.pythonhosted.org/packages/1f/6d/b719ae8e21660a6a962636896dc4b7d657ef451a3ab941516401846ac5cb/Pillow-8.1.2-cp37-cp37m-manylinux1_x86_64.whl (2.2MB)\n",
            "\u001b[K     |████████████████████████████████| 2.2MB 32.2MB/s \n",
            "\u001b[?25hCollecting PyYAML>=5.3.1\n",
            "\u001b[?25l  Downloading https://files.pythonhosted.org/packages/7a/a5/393c087efdc78091afa2af9f1378762f9821c9c1d7a22c5753fb5ac5f97a/PyYAML-5.4.1-cp37-cp37m-manylinux1_x86_64.whl (636kB)\n",
            "\u001b[K     |████████████████████████████████| 645kB 42.0MB/s \n",
            "\u001b[?25hCollecting scipy>=1.4.1\n",
            "\u001b[?25l  Downloading https://files.pythonhosted.org/packages/75/91/ee427c42957f8c4cbe477bf4f8b7f608e003a17941e509d1777e58648cb3/scipy-1.6.2-cp37-cp37m-manylinux1_x86_64.whl (27.4MB)\n",
            "\u001b[K     |████████████████████████████████| 27.4MB 111kB/s \n",
            "\u001b[?25hCollecting torch>=1.7.0\n",
            "\u001b[?25l  Downloading https://files.pythonhosted.org/packages/56/74/6fc9dee50f7c93d6b7d9644554bdc9692f3023fa5d1de779666e6bf8ae76/torch-1.8.1-cp37-cp37m-manylinux1_x86_64.whl (804.1MB)\n",
            "\u001b[K     |████████████████████████████████| 804.1MB 21kB/s \n",
            "\u001b[?25hCollecting torchvision>=0.8.1\n",
            "\u001b[?25l  Downloading https://files.pythonhosted.org/packages/93/8a/82062a33b5eb7f696bf23f8ccf04bf6fc81d1a4972740fb21c2569ada0a6/torchvision-0.9.1-cp37-cp37m-manylinux1_x86_64.whl (17.4MB)\n",
            "\u001b[K     |████████████████████████████████| 17.4MB 160kB/s \n",
            "\u001b[?25hCollecting tqdm>=4.41.0\n",
            "\u001b[?25l  Downloading https://files.pythonhosted.org/packages/f8/3e/2730d0effc282960dbff3cf91599ad0d8f3faedc8e75720fdf224b31ab24/tqdm-4.59.0-py2.py3-none-any.whl (74kB)\n",
            "\u001b[K     |████████████████████████████████| 81kB 7.8MB/s \n",
            "\u001b[?25hRequirement already up-to-date: tensorboard>=2.4.1 in /usr/local/lib/python3.7/dist-packages (from -r yolov5/requirements.txt (line 15)) (2.4.1)\n",
            "Requirement already up-to-date: seaborn>=0.11.0 in /usr/local/lib/python3.7/dist-packages (from -r yolov5/requirements.txt (line 19)) (0.11.1)\n",
            "Collecting pandas\n",
            "\u001b[?25l  Downloading https://files.pythonhosted.org/packages/f3/d4/3fe3b5bf9886912b64ef040040aec356fa48825e5a829a84c2667afdf952/pandas-1.2.3-cp37-cp37m-manylinux1_x86_64.whl (9.9MB)\n",
            "\u001b[K     |████████████████████████████████| 9.9MB 28.4MB/s \n",
            "\u001b[?25hCollecting thop\n",
            "  Downloading https://files.pythonhosted.org/packages/6c/8b/22ce44e1c71558161a8bd54471123cc796589c7ebbfc15a7e8932e522f83/thop-0.0.31.post2005241907-py3-none-any.whl\n",
            "Requirement already up-to-date: pycocotools>=2.0 in /usr/local/lib/python3.7/dist-packages (from -r yolov5/requirements.txt (line 29)) (2.0.2)\n",
            "Requirement already satisfied, skipping upgrade: kiwisolver>=1.0.1 in /usr/local/lib/python3.7/dist-packages (from matplotlib>=3.2.2->-r yolov5/requirements.txt (line 4)) (1.3.1)\n",
            "Requirement already satisfied, skipping upgrade: pyparsing>=2.2.1 in /usr/local/lib/python3.7/dist-packages (from matplotlib>=3.2.2->-r yolov5/requirements.txt (line 4)) (2.4.7)\n",
            "Requirement already satisfied, skipping upgrade: python-dateutil>=2.7 in /usr/local/lib/python3.7/dist-packages (from matplotlib>=3.2.2->-r yolov5/requirements.txt (line 4)) (2.8.1)\n",
            "Requirement already satisfied, skipping upgrade: cycler>=0.10 in /usr/local/lib/python3.7/dist-packages (from matplotlib>=3.2.2->-r yolov5/requirements.txt (line 4)) (0.10.0)\n",
            "Requirement already satisfied, skipping upgrade: typing-extensions in /usr/local/lib/python3.7/dist-packages (from torch>=1.7.0->-r yolov5/requirements.txt (line 10)) (3.7.4.3)\n",
            "Requirement already satisfied, skipping upgrade: google-auth-oauthlib<0.5,>=0.4.1 in /usr/local/lib/python3.7/dist-packages (from tensorboard>=2.4.1->-r yolov5/requirements.txt (line 15)) (0.4.3)\n",
            "Requirement already satisfied, skipping upgrade: google-auth<2,>=1.6.3 in /usr/local/lib/python3.7/dist-packages (from tensorboard>=2.4.1->-r yolov5/requirements.txt (line 15)) (1.27.1)\n",
            "Requirement already satisfied, skipping upgrade: grpcio>=1.24.3 in /usr/local/lib/python3.7/dist-packages (from tensorboard>=2.4.1->-r yolov5/requirements.txt (line 15)) (1.32.0)\n",
            "Requirement already satisfied, skipping upgrade: six>=1.10.0 in /usr/local/lib/python3.7/dist-packages (from tensorboard>=2.4.1->-r yolov5/requirements.txt (line 15)) (1.15.0)\n",
            "Requirement already satisfied, skipping upgrade: requests<3,>=2.21.0 in /usr/local/lib/python3.7/dist-packages (from tensorboard>=2.4.1->-r yolov5/requirements.txt (line 15)) (2.23.0)\n",
            "Requirement already satisfied, skipping upgrade: markdown>=2.6.8 in /usr/local/lib/python3.7/dist-packages (from tensorboard>=2.4.1->-r yolov5/requirements.txt (line 15)) (3.3.4)\n",
            "Requirement already satisfied, skipping upgrade: absl-py>=0.4 in /usr/local/lib/python3.7/dist-packages (from tensorboard>=2.4.1->-r yolov5/requirements.txt (line 15)) (0.10.0)\n",
            "Requirement already satisfied, skipping upgrade: protobuf>=3.6.0 in /usr/local/lib/python3.7/dist-packages (from tensorboard>=2.4.1->-r yolov5/requirements.txt (line 15)) (3.12.4)\n",
            "Requirement already satisfied, skipping upgrade: tensorboard-plugin-wit>=1.6.0 in /usr/local/lib/python3.7/dist-packages (from tensorboard>=2.4.1->-r yolov5/requirements.txt (line 15)) (1.8.0)\n",
            "Requirement already satisfied, skipping upgrade: werkzeug>=0.11.15 in /usr/local/lib/python3.7/dist-packages (from tensorboard>=2.4.1->-r yolov5/requirements.txt (line 15)) (1.0.1)\n",
            "Requirement already satisfied, skipping upgrade: wheel>=0.26; python_version >= \"3\" in /usr/local/lib/python3.7/dist-packages (from tensorboard>=2.4.1->-r yolov5/requirements.txt (line 15)) (0.36.2)\n",
            "Requirement already satisfied, skipping upgrade: setuptools>=41.0.0 in /usr/local/lib/python3.7/dist-packages (from tensorboard>=2.4.1->-r yolov5/requirements.txt (line 15)) (54.1.2)\n",
            "Requirement already satisfied, skipping upgrade: pytz>=2017.3 in /usr/local/lib/python3.7/dist-packages (from pandas->-r yolov5/requirements.txt (line 20)) (2018.9)\n",
            "Requirement already satisfied, skipping upgrade: cython>=0.27.3 in /usr/local/lib/python3.7/dist-packages (from pycocotools>=2.0->-r yolov5/requirements.txt (line 29)) (0.29.22)\n",
            "Requirement already satisfied, skipping upgrade: requests-oauthlib>=0.7.0 in /usr/local/lib/python3.7/dist-packages (from google-auth-oauthlib<0.5,>=0.4.1->tensorboard>=2.4.1->-r yolov5/requirements.txt (line 15)) (1.3.0)\n",
            "Requirement already satisfied, skipping upgrade: pyasn1-modules>=0.2.1 in /usr/local/lib/python3.7/dist-packages (from google-auth<2,>=1.6.3->tensorboard>=2.4.1->-r yolov5/requirements.txt (line 15)) (0.2.8)\n",
            "Requirement already satisfied, skipping upgrade: cachetools<5.0,>=2.0.0 in /usr/local/lib/python3.7/dist-packages (from google-auth<2,>=1.6.3->tensorboard>=2.4.1->-r yolov5/requirements.txt (line 15)) (4.2.1)\n",
            "Requirement already satisfied, skipping upgrade: rsa<5,>=3.1.4; python_version >= \"3.6\" in /usr/local/lib/python3.7/dist-packages (from google-auth<2,>=1.6.3->tensorboard>=2.4.1->-r yolov5/requirements.txt (line 15)) (4.7.2)\n",
            "Requirement already satisfied, skipping upgrade: certifi>=2017.4.17 in /usr/local/lib/python3.7/dist-packages (from requests<3,>=2.21.0->tensorboard>=2.4.1->-r yolov5/requirements.txt (line 15)) (2020.12.5)\n",
            "Requirement already satisfied, skipping upgrade: idna<3,>=2.5 in /usr/local/lib/python3.7/dist-packages (from requests<3,>=2.21.0->tensorboard>=2.4.1->-r yolov5/requirements.txt (line 15)) (2.10)\n",
            "Requirement already satisfied, skipping upgrade: urllib3!=1.25.0,!=1.25.1,<1.26,>=1.21.1 in /usr/local/lib/python3.7/dist-packages (from requests<3,>=2.21.0->tensorboard>=2.4.1->-r yolov5/requirements.txt (line 15)) (1.24.3)\n",
            "Requirement already satisfied, skipping upgrade: chardet<4,>=3.0.2 in /usr/local/lib/python3.7/dist-packages (from requests<3,>=2.21.0->tensorboard>=2.4.1->-r yolov5/requirements.txt (line 15)) (3.0.4)\n",
            "Requirement already satisfied, skipping upgrade: importlib-metadata; python_version < \"3.8\" in /usr/local/lib/python3.7/dist-packages (from markdown>=2.6.8->tensorboard>=2.4.1->-r yolov5/requirements.txt (line 15)) (3.7.2)\n",
            "Requirement already satisfied, skipping upgrade: oauthlib>=3.0.0 in /usr/local/lib/python3.7/dist-packages (from requests-oauthlib>=0.7.0->google-auth-oauthlib<0.5,>=0.4.1->tensorboard>=2.4.1->-r yolov5/requirements.txt (line 15)) (3.1.0)\n",
            "Requirement already satisfied, skipping upgrade: pyasn1<0.5.0,>=0.4.6 in /usr/local/lib/python3.7/dist-packages (from pyasn1-modules>=0.2.1->google-auth<2,>=1.6.3->tensorboard>=2.4.1->-r yolov5/requirements.txt (line 15)) (0.4.8)\n",
            "Requirement already satisfied, skipping upgrade: zipp>=0.5 in /usr/local/lib/python3.7/dist-packages (from importlib-metadata; python_version < \"3.8\"->markdown>=2.6.8->tensorboard>=2.4.1->-r yolov5/requirements.txt (line 15)) (3.4.1)\n",
            "\u001b[31mERROR: torchtext 0.9.0 has requirement torch==1.8.0, but you'll have torch 1.8.1 which is incompatible.\u001b[0m\n",
            "\u001b[31mERROR: tensorflow 2.4.1 has requirement numpy~=1.19.2, but you'll have numpy 1.20.2 which is incompatible.\u001b[0m\n",
            "\u001b[31mERROR: google-colab 1.0.0 has requirement pandas~=1.1.0; python_version >= \"3.0\", but you'll have pandas 1.2.3 which is incompatible.\u001b[0m\n",
            "\u001b[31mERROR: datascience 0.10.6 has requirement folium==0.2.1, but you'll have folium 0.8.3 which is incompatible.\u001b[0m\n",
            "\u001b[31mERROR: albumentations 0.1.12 has requirement imgaug<0.2.7,>=0.2.5, but you'll have imgaug 0.2.9 which is incompatible.\u001b[0m\n",
            "Installing collected packages: Pillow, numpy, matplotlib, opencv-python, PyYAML, scipy, torch, torchvision, tqdm, pandas, thop\n",
            "  Found existing installation: Pillow 7.0.0\n",
            "    Uninstalling Pillow-7.0.0:\n",
            "      Successfully uninstalled Pillow-7.0.0\n",
            "  Found existing installation: numpy 1.19.5\n",
            "    Uninstalling numpy-1.19.5:\n",
            "      Successfully uninstalled numpy-1.19.5\n",
            "  Found existing installation: matplotlib 3.2.2\n",
            "    Uninstalling matplotlib-3.2.2:\n",
            "      Successfully uninstalled matplotlib-3.2.2\n",
            "  Found existing installation: opencv-python 4.1.2.30\n",
            "    Uninstalling opencv-python-4.1.2.30:\n",
            "      Successfully uninstalled opencv-python-4.1.2.30\n",
            "  Found existing installation: PyYAML 3.13\n",
            "    Uninstalling PyYAML-3.13:\n",
            "      Successfully uninstalled PyYAML-3.13\n",
            "  Found existing installation: scipy 1.4.1\n",
            "    Uninstalling scipy-1.4.1:\n",
            "      Successfully uninstalled scipy-1.4.1\n",
            "  Found existing installation: torch 1.8.0+cu101\n",
            "    Uninstalling torch-1.8.0+cu101:\n",
            "      Successfully uninstalled torch-1.8.0+cu101\n",
            "  Found existing installation: torchvision 0.9.0+cu101\n",
            "    Uninstalling torchvision-0.9.0+cu101:\n",
            "      Successfully uninstalled torchvision-0.9.0+cu101\n",
            "  Found existing installation: tqdm 4.41.1\n",
            "    Uninstalling tqdm-4.41.1:\n",
            "      Successfully uninstalled tqdm-4.41.1\n",
            "  Found existing installation: pandas 1.1.5\n",
            "    Uninstalling pandas-1.1.5:\n",
            "      Successfully uninstalled pandas-1.1.5\n",
            "Successfully installed Pillow-8.1.2 PyYAML-5.4.1 matplotlib-3.4.0 numpy-1.20.2 opencv-python-4.5.1.48 pandas-1.2.3 scipy-1.6.2 thop-0.0.31.post2005241907 torch-1.8.1 torchvision-0.9.1 tqdm-4.59.0\n"
          ],
          "name": "stdout"
        },
        {
          "output_type": "display_data",
          "data": {
            "application/vnd.colab-display-data+json": {
              "pip_warning": {
                "packages": [
                  "PIL",
                  "matplotlib",
                  "mpl_toolkits",
                  "numpy",
                  "pandas"
                ]
              }
            }
          },
          "metadata": {
            "tags": []
          }
        },
        {
          "output_type": "stream",
          "text": [
            "Collecting wandb\n",
            "\u001b[?25l  Downloading https://files.pythonhosted.org/packages/f9/64/29b77da604e81607e35479bda8c31aabe8911c284fdad488a9030fa4cc0a/wandb-0.10.23-py2.py3-none-any.whl (2.0MB)\n",
            "\u001b[K     |████████████████████████████████| 2.0MB 4.2MB/s \n",
            "\u001b[?25hCollecting GitPython>=1.0.0\n",
            "\u001b[?25l  Downloading https://files.pythonhosted.org/packages/a6/99/98019716955ba243657daedd1de8f3a88ca1f5b75057c38e959db22fb87b/GitPython-3.1.14-py3-none-any.whl (159kB)\n",
            "\u001b[K     |████████████████████████████████| 163kB 36.6MB/s \n",
            "\u001b[?25hCollecting sentry-sdk>=0.4.0\n",
            "\u001b[?25l  Downloading https://files.pythonhosted.org/packages/f3/92/5a33be64990ba815364a8f2dd9e6f51de60d23dfddafb4f1fc5577d4dc64/sentry_sdk-1.0.0-py2.py3-none-any.whl (131kB)\n",
            "\u001b[K     |████████████████████████████████| 133kB 39.4MB/s \n",
            "\u001b[?25hRequirement already satisfied: python-dateutil>=2.6.1 in /usr/local/lib/python3.7/dist-packages (from wandb) (2.8.1)\n",
            "Collecting pathtools\n",
            "  Downloading https://files.pythonhosted.org/packages/e7/7f/470d6fcdf23f9f3518f6b0b76be9df16dcc8630ad409947f8be2eb0ed13a/pathtools-0.1.2.tar.gz\n",
            "Collecting configparser>=3.8.1\n",
            "  Downloading https://files.pythonhosted.org/packages/fd/01/ff260a18caaf4457eb028c96eeb405c4a230ca06c8ec9c1379f813caa52e/configparser-5.0.2-py3-none-any.whl\n",
            "Requirement already satisfied: Click>=7.0 in /usr/local/lib/python3.7/dist-packages (from wandb) (7.1.2)\n",
            "Requirement already satisfied: protobuf>=3.12.0 in /usr/local/lib/python3.7/dist-packages (from wandb) (3.12.4)\n",
            "Requirement already satisfied: psutil>=5.0.0 in /usr/local/lib/python3.7/dist-packages (from wandb) (5.4.8)\n",
            "Requirement already satisfied: PyYAML in /usr/local/lib/python3.7/dist-packages (from wandb) (5.4.1)\n",
            "Collecting docker-pycreds>=0.4.0\n",
            "  Downloading https://files.pythonhosted.org/packages/f5/e8/f6bd1eee09314e7e6dee49cbe2c5e22314ccdb38db16c9fc72d2fa80d054/docker_pycreds-0.4.0-py2.py3-none-any.whl\n",
            "Requirement already satisfied: promise<3,>=2.0 in /usr/local/lib/python3.7/dist-packages (from wandb) (2.3)\n",
            "Collecting subprocess32>=3.5.3\n",
            "\u001b[?25l  Downloading https://files.pythonhosted.org/packages/32/c8/564be4d12629b912ea431f1a50eb8b3b9d00f1a0b1ceff17f266be190007/subprocess32-3.5.4.tar.gz (97kB)\n",
            "\u001b[K     |████████████████████████████████| 102kB 10.7MB/s \n",
            "\u001b[?25hCollecting shortuuid>=0.5.0\n",
            "  Downloading https://files.pythonhosted.org/packages/25/a6/2ecc1daa6a304e7f1b216f0896b26156b78e7c38e1211e9b798b4716c53d/shortuuid-1.0.1-py3-none-any.whl\n",
            "Requirement already satisfied: requests<3,>=2.0.0 in /usr/local/lib/python3.7/dist-packages (from wandb) (2.23.0)\n",
            "Requirement already satisfied: six>=1.13.0 in /usr/local/lib/python3.7/dist-packages (from wandb) (1.15.0)\n",
            "Collecting gitdb<5,>=4.0.1\n",
            "\u001b[?25l  Downloading https://files.pythonhosted.org/packages/ea/e8/f414d1a4f0bbc668ed441f74f44c116d9816833a48bf81d22b697090dba8/gitdb-4.0.7-py3-none-any.whl (63kB)\n",
            "\u001b[K     |████████████████████████████████| 71kB 8.0MB/s \n",
            "\u001b[?25hRequirement already satisfied: urllib3>=1.10.0 in /usr/local/lib/python3.7/dist-packages (from sentry-sdk>=0.4.0->wandb) (1.24.3)\n",
            "Requirement already satisfied: certifi in /usr/local/lib/python3.7/dist-packages (from sentry-sdk>=0.4.0->wandb) (2020.12.5)\n",
            "Requirement already satisfied: setuptools in /usr/local/lib/python3.7/dist-packages (from protobuf>=3.12.0->wandb) (54.1.2)\n",
            "Requirement already satisfied: idna<3,>=2.5 in /usr/local/lib/python3.7/dist-packages (from requests<3,>=2.0.0->wandb) (2.10)\n",
            "Requirement already satisfied: chardet<4,>=3.0.2 in /usr/local/lib/python3.7/dist-packages (from requests<3,>=2.0.0->wandb) (3.0.4)\n",
            "Collecting smmap<5,>=3.0.1\n",
            "  Downloading https://files.pythonhosted.org/packages/68/ee/d540eb5e5996eb81c26ceffac6ee49041d473bc5125f2aa995cf51ec1cf1/smmap-4.0.0-py2.py3-none-any.whl\n",
            "Building wheels for collected packages: pathtools, subprocess32\n",
            "  Building wheel for pathtools (setup.py) ... \u001b[?25l\u001b[?25hdone\n",
            "  Created wheel for pathtools: filename=pathtools-0.1.2-cp37-none-any.whl size=8786 sha256=f97e6e69fe72a106091879e0f3b80035f3d8fb8dbd8dc4872f26dae2d4bdcc13\n",
            "  Stored in directory: /root/.cache/pip/wheels/0b/04/79/c3b0c3a0266a3cb4376da31e5bfe8bba0c489246968a68e843\n",
            "  Building wheel for subprocess32 (setup.py) ... \u001b[?25l\u001b[?25hdone\n",
            "  Created wheel for subprocess32: filename=subprocess32-3.5.4-cp37-none-any.whl size=6489 sha256=2a2561a8af9355bde1257eca4ba830578bd72931dcf5061aa4b47362b2bd58e7\n",
            "  Stored in directory: /root/.cache/pip/wheels/68/39/1a/5e402bdfdf004af1786c8b853fd92f8c4a04f22aad179654d1\n",
            "Successfully built pathtools subprocess32\n",
            "Installing collected packages: smmap, gitdb, GitPython, sentry-sdk, pathtools, configparser, docker-pycreds, subprocess32, shortuuid, wandb\n",
            "Successfully installed GitPython-3.1.14 configparser-5.0.2 docker-pycreds-0.4.0 gitdb-4.0.7 pathtools-0.1.2 sentry-sdk-1.0.0 shortuuid-1.0.1 smmap-4.0.0 subprocess32-3.5.4 wandb-0.10.23\n",
            "Segment complete RESTART\n",
            "RESTART THE RUNTIME\n",
            "RESTART THE RUNTIME\n",
            "RESTART THE RUNTIME\n",
            "RESTART THE RUNTIME\n",
            "RESTART THE RUNTIME\n"
          ],
          "name": "stdout"
        }
      ]
    },
    {
      "cell_type": "markdown",
      "metadata": {
        "id": "Upjb_W286Dk4"
      },
      "source": [
        "Update YOLOv5 if, for some reason, it's already cloned"
      ]
    },
    {
      "cell_type": "code",
      "metadata": {
        "id": "vyMobjlO537P",
        "colab": {
          "base_uri": "https://localhost:8080/"
        },
        "outputId": "a037ec2e-5550-419d-f9d3-41bd9683df30"
      },
      "source": [
        "%cd /content/yolov5\n",
        "!git pull"
      ],
      "execution_count": null,
      "outputs": [
        {
          "output_type": "stream",
          "text": [
            "/content/yolov5\n",
            "Already up to date.\n"
          ],
          "name": "stdout"
        }
      ]
    },
    {
      "cell_type": "markdown",
      "metadata": {
        "id": "dTwubH1i2es0"
      },
      "source": [
        "Check Torch environment (ensure no errors thrown)"
      ]
    },
    {
      "cell_type": "code",
      "metadata": {
        "id": "BwlF4OXt1t_M",
        "colab": {
          "base_uri": "https://localhost:8080/"
        },
        "outputId": "54d0a693-9c5f-434b-a36f-91f779a5e624"
      },
      "source": [
        "%cd /content/yolov5\n",
        "import torch\n",
        "from IPython.display import Image  # for displaying images\n",
        "from utils.google_utils import gdrive_download  # for downloading models/datasets\n",
        "\n",
        "print('torch %s %s' % (torch.__version__, torch.cuda.get_device_properties(0) if torch.cuda.is_available() else 'CPU'))"
      ],
      "execution_count": 1,
      "outputs": [
        {
          "output_type": "stream",
          "text": [
            "/content/yolov5\n",
            "torch 1.8.1+cu102 _CudaDeviceProperties(name='Tesla K80', major=3, minor=7, total_memory=11441MB, multi_processor_count=13)\n"
          ],
          "name": "stdout"
        }
      ]
    },
    {
      "cell_type": "markdown",
      "metadata": {
        "id": "EhXTjwObBUjz"
      },
      "source": [
        "Customize iPython writefile so we can write variables"
      ]
    },
    {
      "cell_type": "code",
      "metadata": {
        "id": "CAzD_ZQNBKlF",
        "colab": {
          "base_uri": "https://localhost:8080/"
        },
        "outputId": "40f482ed-6d30-4c82-a485-8a2ce91a3d0b"
      },
      "source": [
        "from IPython.core.magic import register_line_cell_magic\n",
        "\n",
        "@register_line_cell_magic\n",
        "def writetemplate(line, cell):\n",
        "    with open(line, 'w') as f:\n",
        "        f.write(cell.format(**globals()))\n",
        "!echo \"Segment complete\""
      ],
      "execution_count": 2,
      "outputs": [
        {
          "output_type": "stream",
          "text": [
            "Segment complete\n"
          ],
          "name": "stdout"
        }
      ]
    },
    {
      "cell_type": "markdown",
      "metadata": {
        "id": "N5SXLdJXEntT"
      },
      "source": [
        "# Setup training model"
      ]
    },
    {
      "cell_type": "markdown",
      "metadata": {
        "id": "GBkC2LMXeSsE"
      },
      "source": [
        "Define training parameters and make dependant paths/strings\n",
        "\n",
        "**Known good configs**\n",
        "\n",
        "yolov5x batch 18 img 640 epoch 250 w/ deepstack mod\n",
        "\n",
        "yolov5l batch 20 img 736 epoch ??? w/ deepstack mod"
      ]
    },
    {
      "cell_type": "code",
      "metadata": {
        "id": "jvESB6SWQGa8",
        "colab": {
          "base_uri": "https://localhost:8080/"
        },
        "outputId": "63579336-b630-4173-bf2e-034d2dd4880a"
      },
      "source": [
        "# Set variables above separator. Don't delete the quote marks!\n",
        "\n",
        "# Known good configs\n",
        "# yolov5x batch 18 img 640 epoch 250 \n",
        "# yolov5l batch 20 img 736 epoch 200 w/ checkpoint\n",
        "\n",
        "model_size = 'l'        # trailing end of the training model desired (s, m, l, or x)\n",
        "check = 'y'             # use a checkpoint as a starting point in the training? ('y' if yes)\n",
        "deepstack = 'y'         # training for deepstack server? ('y' is yes)\n",
        "img_size = '736'        # to what resolution to scale training images (e.g. 640) must be mult of 32\n",
        "batch_size = '12'\n",
        "epochs = '75'\n",
        "comment = 'a4u1e75'        # something to distringuish the run name, if needed (e.g. aug_dsx)\n",
        "test_img_size = '736'   # to what resolution to scale testing images (e.g. 960)  must be mult of 32\n",
        "test_conf = '0.5'       # confidence threshold for inference testing (e.g. 0.5)\n",
        "\n",
        "##########################################################################################\n",
        "\n",
        "import os.path, shutil, os\n",
        "from os import path\n",
        "\n",
        "i = 1\n",
        "j = 1\n",
        "\n",
        "#make base model path\n",
        "model_yaml = '/content/yolov5/models/yolov5' + model_size + '.yaml'\n",
        "\n",
        "if not comment: \n",
        "  #make run name if no comment entered\n",
        "  run_name = '5' + model_size + '_i' + img_size + '_b' + batch_size\n",
        "else:\n",
        "  #make run name if comment exists\n",
        "  run_name = '5' + model_size + '_i' + img_size + '_b' + batch_size + '_' + comment\n",
        "\n",
        "if deepstack == 'y':\n",
        "  run_name = run_name + '_ds'\n",
        "\n",
        "#if directory exists with current run name, start incrementing run name by 1 until unique\n",
        "if path.exists(path.join('/content/drive/MyDrive/colab_out/', run_name)):                 \n",
        "  while path.exists(path.join('/content/drive/MyDrive/colab_out/', run_name + str(i))):\n",
        "    i += 1\n",
        "  run_name = run_name + str(i)\n",
        "\n",
        "#set path to run\n",
        "run_path = '/content/drive/MyDrive/colab_out/' + run_name\n",
        "\n",
        "exp_dir = '/content/drive/MyDrive/colab_out/exp'\n",
        "\n",
        "#find next available exp directory if \"exp\" already exists\n",
        "if path.exists('/content/drive/MyDrive/colab_out/exp'):                 \n",
        "  while path.exists(path.join('/content/drive/MyDrive/colab_out/exp' + str(j))):\n",
        "    j += 1\n",
        "  exp_dir = exp_dir + str(j)\n",
        "\n",
        "#make string for inference testing output\n",
        "exp_img = path.join(exp_dir, '*.jpg')\n",
        "\n",
        "#set path to weights\n",
        "weights = run_path + '/weights/best.pt'\n",
        "\n",
        "#set checkpoint name\n",
        "if check == 'y':\n",
        "  chkpnt = 'yolov5' + model_size + '.pt'\n",
        "  #if training for deepstack, copy v3 weight file to correct path so v4 isn't downloaded\n",
        "  if deepstack == 'y':\n",
        "    chkpnt_tmp = path.join('/content/drive/MyDrive/v3_weights', chkpnt)\n",
        "    shutil.copy(chkpnt_tmp, '/content/yolov5/')\n",
        "else:\n",
        "  chkpnt = ''\n",
        "\n",
        "!echo \"This run is called $run_name and the exp folder will be $exp_dir\""
      ],
      "execution_count": 3,
      "outputs": [
        {
          "output_type": "stream",
          "text": [
            "This run is called 5l_i736_b12_a4u1e75_ds and the exp folder will be /content/drive/MyDrive/colab_out/exp\n"
          ],
          "name": "stdout"
        }
      ]
    },
    {
      "cell_type": "markdown",
      "metadata": {
        "id": "wkyZbsSYBNED"
      },
      "source": [
        "Define number of classes based on YAML from Roboflow"
      ]
    },
    {
      "cell_type": "code",
      "metadata": {
        "id": "-K6CjIyo7KzA",
        "colab": {
          "base_uri": "https://localhost:8080/"
        },
        "outputId": "bcd3760f-0e63-406b-a18a-84f16d00f70c"
      },
      "source": [
        "%cd /content/drive/MyDrive/my-dataset\n",
        "import yaml\n",
        "with open(\"data.yaml\", 'r') as stream:\n",
        "    num_classes = str(yaml.safe_load(stream)['nc'])\n",
        "!echo \"Segment complete\""
      ],
      "execution_count": 4,
      "outputs": [
        {
          "output_type": "stream",
          "text": [
            "/content/drive/MyDrive/my-dataset\n",
            "Segment complete\n"
          ],
          "name": "stdout"
        }
      ]
    },
    {
      "cell_type": "markdown",
      "metadata": {
        "id": "wPrj-wxwoSE7"
      },
      "source": [
        "Modify Roboflow YAML with correct directories"
      ]
    },
    {
      "cell_type": "code",
      "metadata": {
        "id": "sNJOamLhrJV3",
        "colab": {
          "base_uri": "https://localhost:8080/"
        },
        "outputId": "3b38ce18-be9d-4ad8-d5c2-a3bab4696b3c"
      },
      "source": [
        "%cd /content/drive/MyDrive/my-dataset\n",
        "!sed 's/\\.\\./\\/content\\/drive\\/MyDrive\\/my-dataset/' data.yaml >temp.yaml\n",
        "!mv temp.yaml data.yaml\n",
        "!echo \"Segment complete\""
      ],
      "execution_count": 5,
      "outputs": [
        {
          "output_type": "stream",
          "text": [
            "/content/drive/MyDrive/my-dataset\n",
            "Segment complete\n"
          ],
          "name": "stdout"
        }
      ]
    },
    {
      "cell_type": "markdown",
      "metadata": {
        "id": "R9DYYFMsBmIm"
      },
      "source": [
        "Output desired model size (adjust as necessary)"
      ]
    },
    {
      "cell_type": "code",
      "metadata": {
        "id": "Qc9s-rnbBt3x",
        "colab": {
          "base_uri": "https://localhost:8080/"
        },
        "outputId": "7ba21b21-2a14-42e1-d3c8-b5dca06222e3"
      },
      "source": [
        "%cat $model_yaml"
      ],
      "execution_count": 6,
      "outputs": [
        {
          "output_type": "stream",
          "text": [
            "# parameters\n",
            "nc: 80  # number of classes\n",
            "depth_multiple: 1.0  # model depth multiple\n",
            "width_multiple: 1.0  # layer channel multiple\n",
            "\n",
            "# anchors\n",
            "anchors:\n",
            "  - [10,13, 16,30, 33,23]  # P3/8\n",
            "  - [30,61, 62,45, 59,119]  # P4/16\n",
            "  - [116,90, 156,198, 373,326]  # P5/32\n",
            "\n",
            "# YOLOv5 backbone\n",
            "backbone:\n",
            "  # [from, number, module, args]\n",
            "  [[-1, 1, Focus, [64, 3]],  # 0-P1/2\n",
            "   [-1, 1, Conv, [128, 3, 2]],  # 1-P2/4\n",
            "   [-1, 3, C3, [128]],\n",
            "   [-1, 1, Conv, [256, 3, 2]],  # 3-P3/8\n",
            "   [-1, 9, C3, [256]],\n",
            "   [-1, 1, Conv, [512, 3, 2]],  # 5-P4/16\n",
            "   [-1, 9, C3, [512]],\n",
            "   [-1, 1, Conv, [1024, 3, 2]],  # 7-P5/32\n",
            "   [-1, 1, SPP, [1024, [5, 9, 13]]],\n",
            "   [-1, 3, C3, [1024, False]],  # 9\n",
            "  ]\n",
            "\n",
            "# YOLOv5 head\n",
            "head:\n",
            "  [[-1, 1, Conv, [512, 1, 1]],\n",
            "   [-1, 1, nn.Upsample, [None, 2, 'nearest']],\n",
            "   [[-1, 6], 1, Concat, [1]],  # cat backbone P4\n",
            "   [-1, 3, C3, [512, False]],  # 13\n",
            "\n",
            "   [-1, 1, Conv, [256, 1, 1]],\n",
            "   [-1, 1, nn.Upsample, [None, 2, 'nearest']],\n",
            "   [[-1, 4], 1, Concat, [1]],  # cat backbone P3\n",
            "   [-1, 3, C3, [256, False]],  # 17 (P3/8-small)\n",
            "\n",
            "   [-1, 1, Conv, [256, 3, 2]],\n",
            "   [[-1, 14], 1, Concat, [1]],  # cat head P4\n",
            "   [-1, 3, C3, [512, False]],  # 20 (P4/16-medium)\n",
            "\n",
            "   [-1, 1, Conv, [512, 3, 2]],\n",
            "   [[-1, 10], 1, Concat, [1]],  # cat head P5\n",
            "   [-1, 3, C3, [1024, False]],  # 23 (P5/32-large)\n",
            "\n",
            "   [[17, 20, 23], 1, Detect, [nc, anchors]],  # Detect(P3, P4, P5)\n",
            "  ]\n"
          ],
          "name": "stdout"
        }
      ]
    },
    {
      "cell_type": "markdown",
      "metadata": {
        "id": "mBZ6JdOGB3Ko"
      },
      "source": [
        "Create custom model using exact class size.\n",
        "\n",
        "Copy the cat output above starting at depth_multiple and replace the same below"
      ]
    },
    {
      "cell_type": "code",
      "metadata": {
        "id": "ffA7EbTCCDvX"
      },
      "source": [
        "%%writetemplate /content/yolov5/models/custom_yolov5.yaml\n",
        "\n",
        "# parameters\n",
        "nc: {num_classes}  # number of classes\n",
        "depth_multiple: 1.0  # model depth multiple\n",
        "width_multiple: 1.0  # layer channel multiple\n",
        "\n",
        "# anchors\n",
        "anchors:\n",
        "  - [10,13, 16,30, 33,23]  # P3/8\n",
        "  - [30,61, 62,45, 59,119]  # P4/16\n",
        "  - [116,90, 156,198, 373,326]  # P5/32\n",
        "\n",
        "# YOLOv5 backbone\n",
        "backbone:\n",
        "  # [from, number, module, args]\n",
        "  [[-1, 1, Focus, [64, 3]],  # 0-P1/2\n",
        "   [-1, 1, Conv, [128, 3, 2]],  # 1-P2/4\n",
        "   [-1, 3, C3, [128]],\n",
        "   [-1, 1, Conv, [256, 3, 2]],  # 3-P3/8\n",
        "   [-1, 9, C3, [256]],\n",
        "   [-1, 1, Conv, [512, 3, 2]],  # 5-P4/16\n",
        "   [-1, 9, C3, [512]],\n",
        "   [-1, 1, Conv, [1024, 3, 2]],  # 7-P5/32\n",
        "   [-1, 1, SPP, [1024, [5, 9, 13]]],\n",
        "   [-1, 3, C3, [1024, False]],  # 9\n",
        "  ]\n",
        "\n",
        "# YOLOv5 head\n",
        "head:\n",
        "  [[-1, 1, Conv, [512, 1, 1]],\n",
        "   [-1, 1, nn.Upsample, [None, 2, 'nearest']],\n",
        "   [[-1, 6], 1, Concat, [1]],  # cat backbone P4\n",
        "   [-1, 3, C3, [512, False]],  # 13\n",
        "\n",
        "   [-1, 1, Conv, [256, 1, 1]],\n",
        "   [-1, 1, nn.Upsample, [None, 2, 'nearest']],\n",
        "   [[-1, 4], 1, Concat, [1]],  # cat backbone P3\n",
        "   [-1, 3, C3, [256, False]],  # 17 (P3/8-small)\n",
        "\n",
        "   [-1, 1, Conv, [256, 3, 2]],\n",
        "   [[-1, 14], 1, Concat, [1]],  # cat head P4\n",
        "   [-1, 3, C3, [512, False]],  # 20 (P4/16-medium)\n",
        "\n",
        "   [-1, 1, Conv, [512, 3, 2]],\n",
        "   [[-1, 10], 1, Concat, [1]],  # cat head P5\n",
        "   [-1, 3, C3, [1024, False]],  # 23 (P5/32-large)\n",
        "\n",
        "   [[17, 20, 23], 1, Detect, [nc, anchors]],  # Detect(P3, P4, P5)\n",
        "  ]"
      ],
      "execution_count": 7,
      "outputs": []
    },
    {
      "cell_type": "markdown",
      "metadata": {
        "id": "pbrOUV1E-_9Z"
      },
      "source": [
        "Adjust model if training for DeepStack"
      ]
    },
    {
      "cell_type": "code",
      "metadata": {
        "id": "f0UFly1Z-Sro",
        "colab": {
          "base_uri": "https://localhost:8080/"
        },
        "outputId": "b9da31cb-9130-4944-acf5-46c9b0efcfd1"
      },
      "source": [
        "%cd /content/yolov5/models/\n",
        "!sed 's/C3/BottleneckCSP/' custom_yolov5.yaml >temp.yaml\n",
        "!mv temp.yaml custom_yolov5.yaml\n",
        "!echo \"Segment complete\""
      ],
      "execution_count": 8,
      "outputs": [
        {
          "output_type": "stream",
          "text": [
            "/content/yolov5/models\n",
            "Segment complete\n"
          ],
          "name": "stdout"
        }
      ]
    },
    {
      "cell_type": "markdown",
      "metadata": {
        "id": "u1U3o5Y-g5JF"
      },
      "source": [
        "Make sure the custom model looks OK (and exists)"
      ]
    },
    {
      "cell_type": "code",
      "metadata": {
        "id": "wnW-FsbCg2k2",
        "colab": {
          "base_uri": "https://localhost:8080/"
        },
        "outputId": "cc2261b3-1ebc-483d-c46a-51d3691d3f9a"
      },
      "source": [
        "!cat /content/yolov5/models/custom_yolov5.yaml"
      ],
      "execution_count": 9,
      "outputs": [
        {
          "output_type": "stream",
          "text": [
            "\n",
            "# parameters\n",
            "nc: 11  # number of classes\n",
            "depth_multiple: 1.0  # model depth multiple\n",
            "width_multiple: 1.0  # layer channel multiple\n",
            "\n",
            "# anchors\n",
            "anchors:\n",
            "  - [10,13, 16,30, 33,23]  # P3/8\n",
            "  - [30,61, 62,45, 59,119]  # P4/16\n",
            "  - [116,90, 156,198, 373,326]  # P5/32\n",
            "\n",
            "# YOLOv5 backbone\n",
            "backbone:\n",
            "  # [from, number, module, args]\n",
            "  [[-1, 1, Focus, [64, 3]],  # 0-P1/2\n",
            "   [-1, 1, Conv, [128, 3, 2]],  # 1-P2/4\n",
            "   [-1, 3, BottleneckCSP, [128]],\n",
            "   [-1, 1, Conv, [256, 3, 2]],  # 3-P3/8\n",
            "   [-1, 9, BottleneckCSP, [256]],\n",
            "   [-1, 1, Conv, [512, 3, 2]],  # 5-P4/16\n",
            "   [-1, 9, BottleneckCSP, [512]],\n",
            "   [-1, 1, Conv, [1024, 3, 2]],  # 7-P5/32\n",
            "   [-1, 1, SPP, [1024, [5, 9, 13]]],\n",
            "   [-1, 3, BottleneckCSP, [1024, False]],  # 9\n",
            "  ]\n",
            "\n",
            "# YOLOv5 head\n",
            "head:\n",
            "  [[-1, 1, Conv, [512, 1, 1]],\n",
            "   [-1, 1, nn.Upsample, [None, 2, 'nearest']],\n",
            "   [[-1, 6], 1, Concat, [1]],  # cat backbone P4\n",
            "   [-1, 3, BottleneckCSP, [512, False]],  # 13\n",
            "\n",
            "   [-1, 1, Conv, [256, 1, 1]],\n",
            "   [-1, 1, nn.Upsample, [None, 2, 'nearest']],\n",
            "   [[-1, 4], 1, Concat, [1]],  # cat backbone P3\n",
            "   [-1, 3, BottleneckCSP, [256, False]],  # 17 (P3/8-small)\n",
            "\n",
            "   [-1, 1, Conv, [256, 3, 2]],\n",
            "   [[-1, 14], 1, Concat, [1]],  # cat head P4\n",
            "   [-1, 3, BottleneckCSP, [512, False]],  # 20 (P4/16-medium)\n",
            "\n",
            "   [-1, 1, Conv, [512, 3, 2]],\n",
            "   [[-1, 10], 1, Concat, [1]],  # cat head P5\n",
            "   [-1, 3, BottleneckCSP, [1024, False]],  # 23 (P5/32-large)\n",
            "\n",
            "   [[17, 20, 23], 1, Detect, [nc, anchors]],  # Detect(P3, P4, P5)\n",
            "  ]"
          ],
          "name": "stdout"
        }
      ]
    },
    {
      "cell_type": "markdown",
      "metadata": {
        "id": "KmKAILtNFC0E"
      },
      "source": [
        "# Train!"
      ]
    },
    {
      "cell_type": "code",
      "metadata": {
        "id": "8ECBD4mxFF1U",
        "colab": {
          "base_uri": "https://localhost:8080/"
        },
        "outputId": "a60a4330-ad3b-42d3-852e-8c640aacca9a"
      },
      "source": [
        "%%time\n",
        "%cd /content/yolov5/\n",
        "!python train.py --batch $batch_size --img-size $img_size --epochs $epochs --data '/content/drive/MyDrive/my-dataset/data.yaml' --cfg ./models/custom_yolov5.yaml --weights '$chkpnt' --name $run_name  --project /content/drive/MyDrive/colab_out/ --cache-images"
      ],
      "execution_count": null,
      "outputs": [
        {
          "output_type": "stream",
          "text": [
            "/content/yolov5\n",
            "\u001b[34m\u001b[1mgithub: \u001b[0mup to date with https://github.com/ultralytics/yolov5 ✅\n",
            "YOLOv5 🚀 v4.0-171-g1b100cd torch 1.8.1+cu102 CUDA:0 (Tesla K80, 11441.1875MB)\n",
            "\n",
            "Namespace(adam=False, artifact_alias='latest', batch_size=12, bbox_interval=-1, bucket='', cache_images=True, cfg='./models/custom_yolov5.yaml', data='/content/drive/MyDrive/my-dataset/data.yaml', device='', entity=None, epochs=75, evolve=False, exist_ok=False, global_rank=-1, hyp='data/hyp.scratch.yaml', image_weights=False, img_size=[736, 736], linear_lr=False, local_rank=-1, multi_scale=False, name='5l_i736_b12_a4u1e75_ds', noautoanchor=False, nosave=False, notest=False, project='/content/drive/MyDrive/colab_out/', quad=False, rect=False, resume=False, save_dir='/content/drive/MyDrive/colab_out/5l_i736_b12_a4u1e75_ds', save_period=-1, single_cls=False, sync_bn=False, total_batch_size=12, upload_dataset=False, weights='yolov5l.pt', workers=8, world_size=1)\n",
            "\u001b[34m\u001b[1mtensorboard: \u001b[0mStart with 'tensorboard --logdir /content/drive/MyDrive/colab_out/', view at http://localhost:6006/\n",
            "2021-03-29 15:00:28.365392: I tensorflow/stream_executor/platform/default/dso_loader.cc:49] Successfully opened dynamic library libcudart.so.11.0\n",
            "\u001b[34m\u001b[1mhyperparameters: \u001b[0mlr0=0.01, lrf=0.2, momentum=0.937, weight_decay=0.0005, warmup_epochs=3.0, warmup_momentum=0.8, warmup_bias_lr=0.1, box=0.05, cls=0.5, cls_pw=1.0, obj=1.0, obj_pw=1.0, iou_t=0.2, anchor_t=4.0, fl_gamma=0.0, hsv_h=0.015, hsv_s=0.7, hsv_v=0.4, degrees=0.0, translate=0.1, scale=0.5, shear=0.0, perspective=0.0, flipud=0.0, fliplr=0.5, mosaic=1.0, mixup=0.0\n",
            "\u001b[34m\u001b[1mwandb\u001b[0m: (1) Create a W&B account\n",
            "\u001b[34m\u001b[1mwandb\u001b[0m: (2) Use an existing W&B account\n",
            "\u001b[34m\u001b[1mwandb\u001b[0m: (3) Don't visualize my results\n",
            "\u001b[34m\u001b[1mwandb\u001b[0m: Enter your choice: 2\n",
            "\u001b[34m\u001b[1mwandb\u001b[0m: You chose 'Use an existing W&B account'\n",
            "\u001b[34m\u001b[1mwandb\u001b[0m: You can find your API key in your browser here: https://wandb.ai/authorize\n",
            "\u001b[34m\u001b[1mwandb\u001b[0m: Paste an API key from your profile and hit enter: \n",
            "\u001b[34m\u001b[1mwandb\u001b[0m: Appending key for api.wandb.ai to your netrc file: /root/.netrc\n",
            "2021-03-29 15:00:39.356815: I tensorflow/stream_executor/platform/default/dso_loader.cc:49] Successfully opened dynamic library libcudart.so.11.0\n",
            "\u001b[34m\u001b[1mwandb\u001b[0m: Tracking run with wandb version 0.10.23\n",
            "\u001b[34m\u001b[1mwandb\u001b[0m: Syncing run \u001b[33m5l_i736_b12_a4u1e75_ds\u001b[0m\n",
            "\u001b[34m\u001b[1mwandb\u001b[0m: ⭐️ View project at \u001b[34m\u001b[4mhttps://wandb.ai/malenurse/colab_out\u001b[0m\n",
            "\u001b[34m\u001b[1mwandb\u001b[0m: 🚀 View run at \u001b[34m\u001b[4mhttps://wandb.ai/malenurse/colab_out/runs/2xeal1m8\u001b[0m\n",
            "\u001b[34m\u001b[1mwandb\u001b[0m: Run data is saved locally in /content/yolov5/wandb/run-20210329_150037-2xeal1m8\n",
            "\u001b[34m\u001b[1mwandb\u001b[0m: Run `wandb offline` to turn off syncing.\n",
            "\n",
            "\n",
            "                 from  n    params  module                                  arguments                     \n",
            "  0                -1  1      7040  models.common.Focus                     [3, 64, 3]                    \n",
            "  1                -1  1     73984  models.common.Conv                      [64, 128, 3, 2]               \n",
            "  2                -1  1    161152  models.common.BottleneckCSP             [128, 128, 3]                 \n",
            "  3                -1  1    295424  models.common.Conv                      [128, 256, 3, 2]              \n",
            "  4                -1  1   1627904  models.common.BottleneckCSP             [256, 256, 9]                 \n",
            "  5                -1  1   1180672  models.common.Conv                      [256, 512, 3, 2]              \n",
            "  6                -1  1   6499840  models.common.BottleneckCSP             [512, 512, 9]                 \n",
            "  7                -1  1   4720640  models.common.Conv                      [512, 1024, 3, 2]             \n",
            "  8                -1  1   2624512  models.common.SPP                       [1024, 1024, [5, 9, 13]]      \n",
            "  9                -1  1  10234880  models.common.BottleneckCSP             [1024, 1024, 3, False]        \n",
            " 10                -1  1    525312  models.common.Conv                      [1024, 512, 1, 1]             \n",
            " 11                -1  1         0  torch.nn.modules.upsampling.Upsample    [None, 2, 'nearest']          \n",
            " 12           [-1, 6]  1         0  models.common.Concat                    [1]                           \n",
            " 13                -1  1   2823680  models.common.BottleneckCSP             [1024, 512, 3, False]         \n",
            " 14                -1  1    131584  models.common.Conv                      [512, 256, 1, 1]              \n",
            " 15                -1  1         0  torch.nn.modules.upsampling.Upsample    [None, 2, 'nearest']          \n",
            " 16           [-1, 4]  1         0  models.common.Concat                    [1]                           \n",
            " 17                -1  1    707328  models.common.BottleneckCSP             [512, 256, 3, False]          \n",
            " 18                -1  1    590336  models.common.Conv                      [256, 256, 3, 2]              \n",
            " 19          [-1, 14]  1         0  models.common.Concat                    [1]                           \n",
            " 20                -1  1   2561536  models.common.BottleneckCSP             [512, 512, 3, False]          \n",
            " 21                -1  1   2360320  models.common.Conv                      [512, 512, 3, 2]              \n",
            " 22          [-1, 10]  1         0  models.common.Concat                    [1]                           \n",
            " 23                -1  1  10234880  models.common.BottleneckCSP             [1024, 1024, 3, False]        \n",
            " 24      [17, 20, 23]  1     86160  models.yolo.Detect                      [11, [[10, 13, 16, 30, 33, 23], [30, 61, 62, 45, 59, 119], [116, 90, 156, 198, 373, 326]], [256, 512, 1024]]\n",
            "Model Summary: 499 layers, 47447184 parameters, 47447184 gradients, 116.1 GFLOPS\n",
            "\n",
            "Transferred 650/658 items from yolov5l.pt\n",
            "Scaled weight_decay = 0.00046875\n",
            "Optimizer groups: 110 .bias, 118 conv.weight, 107 other\n",
            "\u001b[34m\u001b[1mtrain: \u001b[0mScanning '/content/drive/MyDrive/my-dataset/train/labels.cache' images and labels... 1967 found, 0 missing, 0 empty, 0 corrupted: 100%|██████████| 1967/1967 [00:00<?, ?it/s]\n",
            "\u001b[34m\u001b[1mtrain: \u001b[0mCaching images (2.1GB): 100%|██████████| 1967/1967 [02:41<00:00, 12.19it/s]\n",
            "\u001b[34m\u001b[1mval: \u001b[0mScanning '/content/drive/MyDrive/my-dataset/valid/labels.cache' images and labels... 151 found, 0 missing, 0 empty, 0 corrupted: 100%|██████████| 151/151 [00:00<?, ?it/s]\n",
            "  0%|          | 0/151 [00:00<?, ?it/s]\u001b[A\n",
            "\u001b[34m\u001b[1mval: \u001b[0mCaching images (0.0GB):   1%|          | 1/151 [00:00<01:51,  1.35it/s]\u001b[A\n",
            "\u001b[34m\u001b[1mval: \u001b[0mCaching images (0.0GB):   6%|▌         | 9/151 [00:01<00:15,  9.26it/s]\u001b[A\n",
            "\u001b[34m\u001b[1mval: \u001b[0mCaching images (0.0GB):   7%|▋         | 11/151 [00:01<00:14,  9.67it/s]\u001b[A\n",
            "\u001b[34m\u001b[1mval: \u001b[0mCaching images (0.0GB):  11%|█▏        | 17/151 [00:01<00:11, 11.87it/s]\u001b[A\n",
            "\u001b[34m\u001b[1mval: \u001b[0mCaching images (0.0GB):  13%|█▎        | 19/151 [00:01<00:11, 11.82it/s]\u001b[A\n",
            "\u001b[34m\u001b[1mval: \u001b[0mCaching images (0.0GB):  15%|█▌        | 23/151 [00:02<00:09, 13.88it/s]\u001b[A\n",
            "\u001b[34m\u001b[1mval: \u001b[0mCaching images (0.0GB):  17%|█▋        | 25/151 [00:02<00:11, 11.31it/s]\u001b[A\n",
            "\u001b[34m\u001b[1mval: \u001b[0mCaching images (0.0GB):  18%|█▊        | 27/151 [00:02<00:10, 12.16it/s]\u001b[A\n",
            "\u001b[34m\u001b[1mval: \u001b[0mCaching images (0.0GB):  20%|█▉        | 30/151 [00:02<00:08, 14.31it/s]\u001b[A\n",
            "\u001b[34m\u001b[1mval: \u001b[0mCaching images (0.0GB):  22%|██▏       | 33/151 [00:03<00:10, 10.88it/s]\u001b[A\n",
            "\u001b[34m\u001b[1mval: \u001b[0mCaching images (0.0GB):  25%|██▍       | 37/151 [00:03<00:08, 13.14it/s]\u001b[A\n",
            "\u001b[34m\u001b[1mval: \u001b[0mCaching images (0.0GB):  26%|██▋       | 40/151 [00:03<00:07, 15.55it/s]\u001b[A\n",
            "\u001b[34m\u001b[1mval: \u001b[0mCaching images (0.0GB):  28%|██▊       | 42/151 [00:03<00:10, 10.47it/s]\u001b[A\n",
            "\u001b[34m\u001b[1mval: \u001b[0mCaching images (0.0GB):  30%|███       | 46/151 [00:03<00:07, 14.46it/s]\u001b[A\n",
            "\u001b[34m\u001b[1mval: \u001b[0mCaching images (0.1GB):  32%|███▏      | 49/151 [00:04<00:09, 10.47it/s]\u001b[A\n",
            "\u001b[34m\u001b[1mval: \u001b[0mCaching images (0.1GB):  34%|███▍      | 52/151 [00:04<00:08, 11.91it/s]\u001b[A\n",
            "\u001b[34m\u001b[1mval: \u001b[0mCaching images (0.1GB):  37%|███▋      | 56/151 [00:04<00:06, 15.62it/s]\u001b[A\n",
            "\u001b[34m\u001b[1mval: \u001b[0mCaching images (0.1GB):  39%|███▉      | 59/151 [00:05<00:07, 11.97it/s]\u001b[A\n",
            "\u001b[34m\u001b[1mval: \u001b[0mCaching images (0.1GB):  40%|████      | 61/151 [00:05<00:07, 12.53it/s]\u001b[A\n",
            "\u001b[34m\u001b[1mval: \u001b[0mCaching images (0.1GB):  42%|████▏     | 63/151 [00:05<00:06, 12.83it/s]\u001b[A\n",
            "\u001b[34m\u001b[1mval: \u001b[0mCaching images (0.1GB):  43%|████▎     | 65/151 [00:05<00:08,  9.67it/s]\u001b[A\n",
            "\u001b[34m\u001b[1mval: \u001b[0mCaching images (0.1GB):  45%|████▌     | 68/151 [00:05<00:06, 12.50it/s]\u001b[A\n",
            "\u001b[34m\u001b[1mval: \u001b[0mCaching images (0.1GB):  47%|████▋     | 71/151 [00:05<00:05, 15.27it/s]\u001b[A\n",
            "\u001b[34m\u001b[1mval: \u001b[0mCaching images (0.1GB):  49%|████▉     | 74/151 [00:06<00:07, 10.72it/s]\u001b[A\n",
            "\u001b[34m\u001b[1mval: \u001b[0mCaching images (0.1GB):  50%|█████     | 76/151 [00:06<00:06, 11.46it/s]\u001b[A\n",
            "\u001b[34m\u001b[1mval: \u001b[0mCaching images (0.1GB):  53%|█████▎    | 80/151 [00:06<00:04, 15.43it/s]\u001b[A\n",
            "\u001b[34m\u001b[1mval: \u001b[0mCaching images (0.1GB):  55%|█████▍    | 83/151 [00:07<00:06,  9.98it/s]\u001b[A\n",
            "\u001b[34m\u001b[1mval: \u001b[0mCaching images (0.1GB):  58%|█████▊    | 88/151 [00:07<00:04, 14.54it/s]\u001b[A\n",
            "\u001b[34m\u001b[1mval: \u001b[0mCaching images (0.1GB):  60%|██████    | 91/151 [00:07<00:05, 10.66it/s]\u001b[A\n",
            "\u001b[34m\u001b[1mval: \u001b[0mCaching images (0.1GB):  63%|██████▎   | 95/151 [00:07<00:04, 13.62it/s]\u001b[A\n",
            "\u001b[34m\u001b[1mval: \u001b[0mCaching images (0.1GB):  65%|██████▍   | 98/151 [00:08<00:04, 10.83it/s]\u001b[A\n",
            "\u001b[34m\u001b[1mval: \u001b[0mCaching images (0.1GB):  67%|██████▋   | 101/151 [00:08<00:03, 12.57it/s]\u001b[A\n",
            "\u001b[34m\u001b[1mval: \u001b[0mCaching images (0.1GB):  68%|██████▊   | 103/151 [00:08<00:04, 11.42it/s]\u001b[A\n",
            "\u001b[34m\u001b[1mval: \u001b[0mCaching images (0.1GB):  70%|██████▉   | 105/151 [00:08<00:03, 11.67it/s]\u001b[A\n",
            "\u001b[34m\u001b[1mval: \u001b[0mCaching images (0.1GB):  71%|███████   | 107/151 [00:09<00:03, 11.95it/s]\u001b[A\n",
            "\u001b[34m\u001b[1mval: \u001b[0mCaching images (0.1GB):  73%|███████▎  | 110/151 [00:09<00:03, 11.80it/s]\u001b[A\n",
            "\u001b[34m\u001b[1mval: \u001b[0mCaching images (0.1GB):  74%|███████▍  | 112/151 [00:09<00:03, 12.29it/s]\u001b[A\n",
            "\u001b[34m\u001b[1mval: \u001b[0mCaching images (0.1GB):  75%|███████▌  | 114/151 [00:09<00:03, 10.95it/s]\u001b[A\n",
            "\u001b[34m\u001b[1mval: \u001b[0mCaching images (0.1GB):  78%|███████▊  | 118/151 [00:10<00:02, 11.89it/s]\u001b[A\n",
            "\u001b[34m\u001b[1mval: \u001b[0mCaching images (0.1GB):  79%|███████▉  | 120/151 [00:10<00:02, 12.81it/s]\u001b[A\n",
            "\u001b[34m\u001b[1mval: \u001b[0mCaching images (0.1GB):  81%|████████  | 122/151 [00:10<00:02, 12.28it/s]\u001b[A\n",
            "\u001b[34m\u001b[1mval: \u001b[0mCaching images (0.1GB):  82%|████████▏ | 124/151 [00:10<00:02, 13.15it/s]\u001b[A\n",
            "\u001b[34m\u001b[1mval: \u001b[0mCaching images (0.1GB):  83%|████████▎ | 126/151 [00:10<00:02, 12.40it/s]\u001b[A\n",
            "\u001b[34m\u001b[1mval: \u001b[0mCaching images (0.1GB):  85%|████████▍ | 128/151 [00:10<00:01, 12.15it/s]\u001b[A\n",
            "\u001b[34m\u001b[1mval: \u001b[0mCaching images (0.1GB):  86%|████████▌ | 130/151 [00:10<00:01, 12.30it/s]\u001b[A\n",
            "\u001b[34m\u001b[1mval: \u001b[0mCaching images (0.1GB):  87%|████████▋ | 132/151 [00:11<00:01, 13.65it/s]\u001b[A\n",
            "\u001b[34m\u001b[1mval: \u001b[0mCaching images (0.1GB):  89%|████████▊ | 134/151 [00:11<00:01, 11.54it/s]\u001b[A\n",
            "\u001b[34m\u001b[1mval: \u001b[0mCaching images (0.1GB):  90%|█████████ | 136/151 [00:11<00:01, 12.48it/s]\u001b[A\n",
            "\u001b[34m\u001b[1mval: \u001b[0mCaching images (0.1GB):  91%|█████████▏| 138/151 [00:11<00:01, 12.49it/s]\u001b[A\n",
            "\u001b[34m\u001b[1mval: \u001b[0mCaching images (0.2GB):  93%|█████████▎| 140/151 [00:11<00:00, 13.52it/s]\u001b[A\n",
            "\u001b[34m\u001b[1mval: \u001b[0mCaching images (0.2GB):  94%|█████████▍| 142/151 [00:11<00:00, 12.10it/s]\u001b[A\n",
            "\u001b[34m\u001b[1mval: \u001b[0mCaching images (0.2GB):  95%|█████████▌| 144/151 [00:12<00:00, 12.01it/s]\u001b[A\n",
            "\u001b[34m\u001b[1mval: \u001b[0mCaching images (0.2GB):  97%|█████████▋| 146/151 [00:12<00:00, 11.95it/s]\u001b[A\n",
            "\u001b[34m\u001b[1mval: \u001b[0mCaching images (0.2GB): 100%|██████████| 151/151 [00:12<00:00, 11.94it/s]\n",
            "Plotting labels... \n",
            "\u001b[34m\u001b[1mval: \u001b[0mScanning '/content/drive/MyDrive/my-dataset/valid/labels.cache' images and labels... 151 found, 0 missing, 0 empty, 0 corrupted: 100%|██████████| 151/151 [00:12<?, ?it/s]\n",
            "\u001b[34m\u001b[1mval: \u001b[0mScanning '/content/drive/MyDrive/my-dataset/valid/labels.cache' images and labels... 151 found, 0 missing, 0 empty, 0 corrupted: 100%|██████████| 151/151 [00:13<?, ?it/s]\n",
            "\n",
            "\u001b[34m\u001b[1mautoanchor: \u001b[0mAnalyzing anchors... anchors/target = 4.78, Best Possible Recall (BPR) = 1.0000\n",
            "Image sizes 736 train, 736 test\n",
            "Using 2 dataloader workers\n",
            "Logging results to /content/drive/MyDrive/colab_out/5l_i736_b12_a4u1e75_ds\n",
            "Starting training for 75 epochs...\n",
            "\n",
            "     Epoch   gpu_mem       box       obj       cls     total    labels  img_size\n",
            "      0/74     9.08G   0.08473   0.06288   0.06077    0.2084        80       736: 100%|██████████| 164/164 [09:00<00:00,  3.30s/it]\n",
            "               Class      Images      Labels           P           R      mAP@.5  mAP@.5:.95: 100%|██████████| 7/7 [00:17<00:00,  2.46s/it]\n",
            "                 all         151         575       0.316       0.464       0.367       0.182\n",
            "Images sizes do not match. This will causes images to be display incorrectly in the UI.\n",
            "\n",
            "     Epoch   gpu_mem       box       obj       cls     total    labels  img_size\n",
            "      1/74     9.31G   0.05565   0.04124   0.03624    0.1331        96       736: 100%|██████████| 164/164 [08:36<00:00,  3.15s/it]\n",
            "               Class      Images      Labels           P           R      mAP@.5  mAP@.5:.95: 100%|██████████| 7/7 [00:09<00:00,  1.39s/it]\n",
            "                 all         151         575       0.627       0.648       0.662       0.348\n",
            "\n",
            "     Epoch   gpu_mem       box       obj       cls     total    labels  img_size\n",
            "      2/74     9.31G   0.05445   0.03345   0.02287    0.1108        77       736: 100%|██████████| 164/164 [08:36<00:00,  3.15s/it]\n",
            "\u001b[34m\u001b[1mval: \u001b[0mScanning '/content/drive/MyDrive/my-dataset/valid/labels.cache' images and labels... 151 found, 0 missing, 0 empty, 0 corrupted: 100%|██████████| 151/151 [27:07<?, ?it/s]\n",
            "               Class      Images      Labels           P           R      mAP@.5  mAP@.5:.95: 100%|██████████| 7/7 [00:09<00:00,  1.38s/it]\n",
            "                 all         151         575       0.631       0.791        0.77       0.382\n",
            "\n",
            "     Epoch   gpu_mem       box       obj       cls     total    labels  img_size\n",
            "      3/74     9.31G   0.04994   0.02937   0.01436   0.09367        73       736: 100%|██████████| 164/164 [08:34<00:00,  3.14s/it]\n",
            "               Class      Images      Labels           P           R      mAP@.5  mAP@.5:.95: 100%|██████████| 7/7 [00:09<00:00,  1.37s/it]\n",
            "                 all         151         575       0.834       0.779       0.846       0.461\n",
            "\n",
            "     Epoch   gpu_mem       box       obj       cls     total    labels  img_size\n",
            "      4/74     9.31G   0.04666   0.02733   0.01073   0.08472        75       736: 100%|██████████| 164/164 [08:33<00:00,  3.13s/it]\n",
            "               Class      Images      Labels           P           R      mAP@.5  mAP@.5:.95: 100%|██████████| 7/7 [00:09<00:00,  1.37s/it]\n",
            "                 all         151         575       0.617         0.9       0.797       0.458\n",
            "\n",
            "     Epoch   gpu_mem       box       obj       cls     total    labels  img_size\n",
            "      5/74     9.31G   0.04395   0.02616  0.009064   0.07917        75       736:  70%|██████▉   | 114/164 [05:57<02:36,  3.13s/it]"
          ],
          "name": "stdout"
        }
      ]
    },
    {
      "cell_type": "markdown",
      "metadata": {
        "id": "3Si8WMHyG-PN"
      },
      "source": [
        "# Evaluate training"
      ]
    },
    {
      "cell_type": "markdown",
      "metadata": {
        "id": "LIC8gQ8uHLhv"
      },
      "source": [
        "Start tensorboard"
      ]
    },
    {
      "cell_type": "code",
      "metadata": {
        "id": "8hFM2Mv3AOYf"
      },
      "source": [
        "%load_ext tensorboard\n",
        "%tensorboard --logdir $run_path"
      ],
      "execution_count": null,
      "outputs": []
    },
    {
      "cell_type": "markdown",
      "metadata": {
        "id": "H0HKDUjEIn5h"
      },
      "source": [
        "# Test completed weights"
      ]
    },
    {
      "cell_type": "markdown",
      "metadata": {
        "id": "K3yWg7kKJXPk"
      },
      "source": [
        "Inference speed test"
      ]
    },
    {
      "cell_type": "code",
      "metadata": {
        "id": "9nmZZnWOgJ2S"
      },
      "source": [
        "# when we ran this, we saw .007 second inference time. That is 140 FPS on a TESLA P100!\n",
        "%cd /content/yolov5/\n",
        "!python detect.py --weights $weights --img $test_img_size --conf $test_conf --source /content/drive/MyDrive/my-dataset/test/images --project /content/drive/MyDrive/colab_out/"
      ],
      "execution_count": null,
      "outputs": []
    },
    {
      "cell_type": "markdown",
      "metadata": {
        "id": "MH9udI2cJp3N"
      },
      "source": [
        "Display inference on all test images"
      ]
    },
    {
      "cell_type": "code",
      "metadata": {
        "id": "odKEqYtTgbRc"
      },
      "source": [
        "import glob\n",
        "import os.path\n",
        "from os import path\n",
        "from IPython.display import Image, display\n",
        "\n",
        "for imageName in glob.glob(exp_img): #assuming JPG\n",
        "    display(Image(filename=imageName))\n",
        "    print(\"\\n\")"
      ],
      "execution_count": null,
      "outputs": []
    },
    {
      "cell_type": "markdown",
      "metadata": {
        "id": "0v693HyaeVJ2"
      },
      "source": [
        "# Set variables if environment lost in a runtime disconnection"
      ]
    },
    {
      "cell_type": "markdown",
      "metadata": {
        "id": "BTVVcjgcelOU"
      },
      "source": [
        "Make sure to rerun environment setup, too"
      ]
    },
    {
      "cell_type": "code",
      "metadata": {
        "id": "z_ZSWG29cEfb"
      },
      "source": [
        "run_name = '5x_i640_b18_nopre_ds' # look for first two in /content/drive/MyDrive/colab_out/\n",
        "exp_num = ''                   # leave as '' if just exp\n",
        "test_img_size = '1280'           # to what resolution to scale testing images (e.g. 960) must be mult of 32\n",
        "test_conf = '0.5'               # confidence threshold for inference testing (e.g. 0.5)\n",
        "\n",
        "#############################################################################\n",
        "\n",
        "import os.path\n",
        "from os import path\n",
        "\n",
        "run_path = '/content/drive/MyDrive/colab_out/' + run_name\n",
        "weights = run_path + '/weights/best.pt'\n",
        "exp_img = path.join('/content/drive/MyDrive/colab_out/exp' + exp_num, '*.jpg')"
      ],
      "execution_count": null,
      "outputs": []
    }
  ]
}