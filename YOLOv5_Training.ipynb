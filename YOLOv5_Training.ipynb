{
  "nbformat": 4,
  "nbformat_minor": 0,
  "metadata": {
    "accelerator": "GPU",
    "colab": {
      "name": "YOLOv5 Training.ipynb",
      "provenance": [],
      "collapsed_sections": [
        "ShKsc2g2DxKL"
      ],
      "authorship_tag": "ABX9TyNgyzqRm+QGA1sX5cOJMWNo",
      "include_colab_link": true
    },
    "kernelspec": {
      "display_name": "Python 3",
      "name": "python3"
    }
  },
  "cells": [
    {
      "cell_type": "markdown",
      "metadata": {
        "id": "view-in-github",
        "colab_type": "text"
      },
      "source": [
        "<a href=\"https://colab.research.google.com/github/MaleNurse/YOLOv5_Trainer/blob/main/YOLOv5_Training.ipynb\" target=\"_parent\"><img src=\"https://colab.research.google.com/assets/colab-badge.svg\" alt=\"Open In Colab\"/></a>"
      ]
    },
    {
      "cell_type": "markdown",
      "metadata": {
        "id": "8GEZSbEoEiZ6"
      },
      "source": [
        "# Setup environment"
      ]
    },
    {
      "cell_type": "markdown",
      "metadata": {
        "id": "ju4WizM829oI"
      },
      "source": [
        "Connect Google Drive"
      ]
    },
    {
      "cell_type": "code",
      "metadata": {
        "id": "Ce8PGyZj286w"
      },
      "source": [
        "from google.colab import drive\r\n",
        "drive.mount('/content/drive')"
      ],
      "execution_count": null,
      "outputs": []
    },
    {
      "cell_type": "markdown",
      "metadata": {
        "id": "yL1hZIdnC7Ey"
      },
      "source": [
        "Update environment"
      ]
    },
    {
      "cell_type": "code",
      "metadata": {
        "id": "KuVh0_N7-T5z"
      },
      "source": [
        "! apt update\r\n",
        "! apt upgrade\r\n",
        "! apt install libcudnn7 libcublas-dev libcublas10 libcudnn7 libcudnn7-dev libnccl-dev libnccl2 --allow-change-held-packages\r\n",
        "! echo \"Segment complete\""
      ],
      "execution_count": null,
      "outputs": []
    },
    {
      "cell_type": "markdown",
      "metadata": {
        "id": "u3w02tPW3L-E"
      },
      "source": [
        "Check GPU and Driver Version (req >=460)"
      ]
    },
    {
      "cell_type": "code",
      "metadata": {
        "id": "JtMJ8Ooh3NvG"
      },
      "source": [
        "gpu_info = !nvidia-smi\r\n",
        "gpu_info = '\\n'.join(gpu_info)\r\n",
        "if gpu_info.find('failed') >= 0:\r\n",
        "  print('Select the Runtime > \"Change runtime type\" menu to enable a GPU accelerator, ')\r\n",
        "  print('and then re-execute this cell.')\r\n",
        "else:\r\n",
        "  print(gpu_info)"
      ],
      "execution_count": null,
      "outputs": []
    },
    {
      "cell_type": "markdown",
      "metadata": {
        "id": "NjHc-JA22jwt"
      },
      "source": [
        "Install YOLOv5 and depends"
      ]
    },
    {
      "cell_type": "code",
      "metadata": {
        "id": "oSE4BClo1hjj"
      },
      "source": [
        "!git clone https://github.com/ultralytics/yolov5  # clone repo\r\n",
        "!pip install imgaug==0.2.5  # deal w/ dependency issue\r\n",
        "!pip install -U -r yolov5/requirements.txt  # install dependencies\r\n",
        "!pip install torch==1.7.1+cu101 torchvision==0.8.2+cu101 -f https://download.pytorch.org/whl/torch_stable.html # update torch to work with newer drivers\r\n",
        "!pip install wandb\r\n",
        "!echo \"Segment complete RESTART\"\r\n",
        "!echo \"RESTART THE RUNTIME\"\r\n",
        "!echo \"RESTART THE RUNTIME\"\r\n",
        "!echo \"RESTART THE RUNTIME\"\r\n",
        "!echo \"RESTART THE RUNTIME\"\r\n",
        "!echo \"RESTART THE RUNTIME\""
      ],
      "execution_count": null,
      "outputs": []
    },
    {
      "cell_type": "markdown",
      "metadata": {
        "id": "Upjb_W286Dk4"
      },
      "source": [
        "Update YOLOv5 if, for some reason, it's already cloned"
      ]
    },
    {
      "cell_type": "code",
      "metadata": {
        "id": "vyMobjlO537P"
      },
      "source": [
        "%cd /content/yolov5\r\n",
        "!git pull"
      ],
      "execution_count": null,
      "outputs": []
    },
    {
      "cell_type": "markdown",
      "metadata": {
        "id": "dTwubH1i2es0"
      },
      "source": [
        "Check Torch environment (ensure no errors thrown)"
      ]
    },
    {
      "cell_type": "code",
      "metadata": {
        "id": "BwlF4OXt1t_M"
      },
      "source": [
        "%cd /content/yolov5\r\n",
        "import torch\r\n",
        "from IPython.display import Image  # for displaying images\r\n",
        "from utils.google_utils import gdrive_download  # for downloading models/datasets\r\n",
        "\r\n",
        "print('torch %s %s' % (torch.__version__, torch.cuda.get_device_properties(0) if torch.cuda.is_available() else 'CPU'))"
      ],
      "execution_count": null,
      "outputs": []
    },
    {
      "cell_type": "markdown",
      "metadata": {
        "id": "EhXTjwObBUjz"
      },
      "source": [
        "Customize iPython writefile so we can write variables"
      ]
    },
    {
      "cell_type": "code",
      "metadata": {
        "id": "CAzD_ZQNBKlF"
      },
      "source": [
        "from IPython.core.magic import register_line_cell_magic\r\n",
        "\r\n",
        "@register_line_cell_magic\r\n",
        "def writetemplate(line, cell):\r\n",
        "    with open(line, 'w') as f:\r\n",
        "        f.write(cell.format(**globals()))\r\n",
        "!echo \"Segment complete\""
      ],
      "execution_count": null,
      "outputs": []
    },
    {
      "cell_type": "markdown",
      "metadata": {
        "id": "N5SXLdJXEntT"
      },
      "source": [
        "# Setup training model"
      ]
    },
    {
      "cell_type": "markdown",
      "metadata": {
        "id": "GBkC2LMXeSsE"
      },
      "source": [
        "Define training parameters and make dependant paths/strings\r\n",
        "\r\n",
        "**Known good configs**\r\n",
        "\r\n",
        "yolov5x batch 18 img 640 epoch 250 w/ deepstack mod\r\n",
        "\r\n",
        "yolov5l batch 20 img 736 epoch ??? w/ deepstack mod"
      ]
    },
    {
      "cell_type": "code",
      "metadata": {
        "id": "jvESB6SWQGa8"
      },
      "source": [
        "# Set variables above separator. Don't delete the quote marks!\r\n",
        "\r\n",
        "# Known good configs\r\n",
        "# yolov5x batch 18 img 640 epoch 250 \r\n",
        "# yolov5l batch 20 img 736 epoch 150 w/ checkpoint\r\n",
        "\r\n",
        "model_size = 'l'        # trailing end of the training model desired (s, m, l, or x)\r\n",
        "check = 'y'             # use a checkpoint as a starting point in the training? ('y' if yes)\r\n",
        "deepstack = 'y'         # training for deepstack server? ('y' is yes)\r\n",
        "img_size = '736'        # to what resolution to scale training images (e.g. 640) must be mult of 32\r\n",
        "batch_size = '20'\r\n",
        "epochs = '150'\r\n",
        "comment = 'aug3'        # something to distringuish the run name, if needed (e.g. aug_dsx)\r\n",
        "test_img_size = '736'   # to what resolution to scale testing images (e.g. 960)  must be mult of 32\r\n",
        "test_conf = '0.5'       # confidence threshold for inference testing (e.g. 0.5)\r\n",
        "\r\n",
        "##########################################################################################\r\n",
        "\r\n",
        "import os.path, shutil, os\r\n",
        "from os import path\r\n",
        "\r\n",
        "i = 1\r\n",
        "j = 1\r\n",
        "\r\n",
        "#make base model path\r\n",
        "model_yaml = '/content/yolov5/models/yolov5' + model_size + '.yaml'\r\n",
        "\r\n",
        "if not comment: \r\n",
        "  #make run name if no comment entered\r\n",
        "  run_name = '5' + model_size + '_i' + img_size + '_b' + batch_size\r\n",
        "else:\r\n",
        "  #make run name if comment exists\r\n",
        "  run_name = '5' + model_size + '_i' + img_size + '_b' + batch_size + '_' + comment\r\n",
        "\r\n",
        "if deepstack == 'y':\r\n",
        "  run_name = run_name + '_ds'\r\n",
        "\r\n",
        "#if directory exists with current run name, start incrementing run name by 1 until unique\r\n",
        "if path.exists(path.join('/content/drive/MyDrive/colab_out/', run_name)):                 \r\n",
        "  while path.exists(path.join('/content/drive/MyDrive/colab_out/', run_name + str(i))):\r\n",
        "    i += 1\r\n",
        "  run_name = run_name + str(i)\r\n",
        "\r\n",
        "#set path to run\r\n",
        "run_path = '/content/drive/MyDrive/colab_out/' + run_name\r\n",
        "\r\n",
        "exp_dir = '/content/drive/MyDrive/colab_out/exp'\r\n",
        "\r\n",
        "#find next available exp directory if \"exp\" already exists\r\n",
        "if path.exists('/content/drive/MyDrive/colab_out/exp'):                 \r\n",
        "  while path.exists(path.join('/content/drive/MyDrive/colab_out/exp' + str(j))):\r\n",
        "    j += 1\r\n",
        "  exp_dir = exp_dir + str(j)\r\n",
        "\r\n",
        "#make string for inference testing output\r\n",
        "exp_img = path.join(exp_dir, '*.jpg')\r\n",
        "\r\n",
        "#set path to weights\r\n",
        "weights = run_path + '/weights/best.pt'\r\n",
        "\r\n",
        "#set checkpoint name\r\n",
        "if check == 'y':\r\n",
        "  chkpnt = 'yolov5' + model_size + '.pt'\r\n",
        "  #if training for deepstack, copy v3 weight file to correct path so v4 isn't downloaded\r\n",
        "  if deepstack == 'y'\r\n",
        "    chkpnt_tmp = path.join('/content/drive/MyDrive/v3_weights', chkpnt)\r\n",
        "    shutil.copy(chkpnt_tmp, '/content/yolov5/')\r\n",
        "else:\r\n",
        "  chkpnt = ''\r\n",
        "\r\n",
        "!echo \"This run is called $run_name and the exp folder will be $exp_dir\""
      ],
      "execution_count": null,
      "outputs": []
    },
    {
      "cell_type": "code",
      "metadata": {
        "id": "ALP9BrRiC0VS"
      },
      "source": [
        "import os.path, shutil, os\r\n",
        "from os import path\r\n",
        "\r\n",
        "shutil.copy(chkpnt_tmp, '/content/yolov5/')"
      ],
      "execution_count": null,
      "outputs": []
    },
    {
      "cell_type": "markdown",
      "metadata": {
        "id": "wkyZbsSYBNED"
      },
      "source": [
        "Define number of classes based on YAML from Roboflow"
      ]
    },
    {
      "cell_type": "code",
      "metadata": {
        "id": "-K6CjIyo7KzA"
      },
      "source": [
        "%cd /content/drive/MyDrive/my-dataset\r\n",
        "import yaml\r\n",
        "with open(\"data.yaml\", 'r') as stream:\r\n",
        "    num_classes = str(yaml.safe_load(stream)['nc'])\r\n",
        "!echo \"Segment complete\""
      ],
      "execution_count": null,
      "outputs": []
    },
    {
      "cell_type": "markdown",
      "metadata": {
        "id": "wPrj-wxwoSE7"
      },
      "source": [
        "Modify Roboflow YAML with correct directories"
      ]
    },
    {
      "cell_type": "code",
      "metadata": {
        "id": "sNJOamLhrJV3"
      },
      "source": [
        "%cd /content/drive/MyDrive/my-dataset\r\n",
        "!sed 's/\\.\\./\\/content\\/drive\\/MyDrive\\/my-dataset/' data.yaml >temp.yaml\r\n",
        "!mv temp.yaml data.yaml\r\n",
        "!echo \"Segment complete\""
      ],
      "execution_count": null,
      "outputs": []
    },
    {
      "cell_type": "markdown",
      "metadata": {
        "id": "R9DYYFMsBmIm"
      },
      "source": [
        "Output desired model size (adjust as necessary)"
      ]
    },
    {
      "cell_type": "code",
      "metadata": {
        "id": "Qc9s-rnbBt3x"
      },
      "source": [
        "%cat $model_yaml"
      ],
      "execution_count": null,
      "outputs": []
    },
    {
      "cell_type": "markdown",
      "metadata": {
        "id": "mBZ6JdOGB3Ko"
      },
      "source": [
        "Create custom model using exact class size.\r\n",
        "\r\n",
        "Copy the cat output above starting at depth_multiple and replace the same below"
      ]
    },
    {
      "cell_type": "code",
      "metadata": {
        "id": "ffA7EbTCCDvX"
      },
      "source": [
        "%%writetemplate /content/yolov5/models/custom_yolov5.yaml\r\n",
        "\r\n",
        "# parameters\r\n",
        "nc: {num_classes}  # number of classes\r\n",
        "depth_multiple: 1.0  # model depth multiple\r\n",
        "width_multiple: 1.0  # layer channel multiple\r\n",
        "\r\n",
        "# anchors\r\n",
        "anchors:\r\n",
        "  - [10,13, 16,30, 33,23]  # P3/8\r\n",
        "  - [30,61, 62,45, 59,119]  # P4/16\r\n",
        "  - [116,90, 156,198, 373,326]  # P5/32\r\n",
        "\r\n",
        "# YOLOv5 backbone\r\n",
        "backbone:\r\n",
        "  # [from, number, module, args]\r\n",
        "  [[-1, 1, Focus, [64, 3]],  # 0-P1/2\r\n",
        "   [-1, 1, Conv, [128, 3, 2]],  # 1-P2/4\r\n",
        "   [-1, 3, C3, [128]],\r\n",
        "   [-1, 1, Conv, [256, 3, 2]],  # 3-P3/8\r\n",
        "   [-1, 9, C3, [256]],\r\n",
        "   [-1, 1, Conv, [512, 3, 2]],  # 5-P4/16\r\n",
        "   [-1, 9, C3, [512]],\r\n",
        "   [-1, 1, Conv, [1024, 3, 2]],  # 7-P5/32\r\n",
        "   [-1, 1, SPP, [1024, [5, 9, 13]]],\r\n",
        "   [-1, 3, C3, [1024, False]],  # 9\r\n",
        "  ]\r\n",
        "\r\n",
        "# YOLOv5 head\r\n",
        "head:\r\n",
        "  [[-1, 1, Conv, [512, 1, 1]],\r\n",
        "   [-1, 1, nn.Upsample, [None, 2, 'nearest']],\r\n",
        "   [[-1, 6], 1, Concat, [1]],  # cat backbone P4\r\n",
        "   [-1, 3, C3, [512, False]],  # 13\r\n",
        "\r\n",
        "   [-1, 1, Conv, [256, 1, 1]],\r\n",
        "   [-1, 1, nn.Upsample, [None, 2, 'nearest']],\r\n",
        "   [[-1, 4], 1, Concat, [1]],  # cat backbone P3\r\n",
        "   [-1, 3, C3, [256, False]],  # 17 (P3/8-small)\r\n",
        "\r\n",
        "   [-1, 1, Conv, [256, 3, 2]],\r\n",
        "   [[-1, 14], 1, Concat, [1]],  # cat head P4\r\n",
        "   [-1, 3, C3, [512, False]],  # 20 (P4/16-medium)\r\n",
        "\r\n",
        "   [-1, 1, Conv, [512, 3, 2]],\r\n",
        "   [[-1, 10], 1, Concat, [1]],  # cat head P5\r\n",
        "   [-1, 3, C3, [1024, False]],  # 23 (P5/32-large)\r\n",
        "\r\n",
        "   [[17, 20, 23], 1, Detect, [nc, anchors]],  # Detect(P3, P4, P5)\r\n",
        "  ]"
      ],
      "execution_count": null,
      "outputs": []
    },
    {
      "cell_type": "markdown",
      "metadata": {
        "id": "pbrOUV1E-_9Z"
      },
      "source": [
        "Adjust model if training for DeepStack"
      ]
    },
    {
      "cell_type": "code",
      "metadata": {
        "id": "f0UFly1Z-Sro"
      },
      "source": [
        "%cd /content/yolov5/models/\r\n",
        "!sed 's/C3/BottleneckCSP/' custom_yolov5.yaml >temp.yaml\r\n",
        "!mv temp.yaml custom_yolov5.yaml\r\n",
        "!echo \"Segment complete\""
      ],
      "execution_count": null,
      "outputs": []
    },
    {
      "cell_type": "markdown",
      "metadata": {
        "id": "u1U3o5Y-g5JF"
      },
      "source": [
        "Make sure the custom model looks OK (and exists)"
      ]
    },
    {
      "cell_type": "code",
      "metadata": {
        "id": "wnW-FsbCg2k2"
      },
      "source": [
        "!cat /content/yolov5/models/custom_yolov5.yaml"
      ],
      "execution_count": null,
      "outputs": []
    },
    {
      "cell_type": "markdown",
      "metadata": {
        "id": "KmKAILtNFC0E"
      },
      "source": [
        "# Train!"
      ]
    },
    {
      "cell_type": "code",
      "metadata": {
        "id": "8ECBD4mxFF1U"
      },
      "source": [
        "%%time\r\n",
        "%cd /content/yolov5/\r\n",
        "!python train.py --batch $batch_size --img-size $img_size --epochs $epochs --data '/content/drive/MyDrive/my-dataset/data.yaml' --cfg ./models/custom_yolov5.yaml --weights '$chkpnt' --name $run_name  --project /content/drive/MyDrive/colab_out/ --cache-images"
      ],
      "execution_count": null,
      "outputs": []
    },
    {
      "cell_type": "markdown",
      "metadata": {
        "id": "0v693HyaeVJ2"
      },
      "source": [
        "# Set variables if environment lost in a runtime disconnection"
      ]
    },
    {
      "cell_type": "markdown",
      "metadata": {
        "id": "BTVVcjgcelOU"
      },
      "source": [
        "Make sure to rerun environment setup, too"
      ]
    },
    {
      "cell_type": "code",
      "metadata": {
        "id": "z_ZSWG29cEfb"
      },
      "source": [
        "run_name = '5x_i640_b18_nopre_ds' # look for first two in /content/drive/MyDrive/colab_out/\r\n",
        "exp_num = ''                   # leave as '' if just exp\r\n",
        "test_img_size = '1280'           # to what resolution to scale testing images (e.g. 960) must be mult of 32\r\n",
        "test_conf = '0.5'               # confidence threshold for inference testing (e.g. 0.5)\r\n",
        "\r\n",
        "#############################################################################\r\n",
        "\r\n",
        "import os.path\r\n",
        "from os import path\r\n",
        "\r\n",
        "run_path = '/content/drive/MyDrive/colab_out/' + run_name\r\n",
        "weights = run_path + '/weights/best.pt'\r\n",
        "exp_img = path.join('/content/drive/MyDrive/colab_out/exp' + exp_num, '*.jpg')"
      ],
      "execution_count": null,
      "outputs": []
    },
    {
      "cell_type": "markdown",
      "metadata": {
        "id": "3Si8WMHyG-PN"
      },
      "source": [
        "# Evaluate training"
      ]
    },
    {
      "cell_type": "markdown",
      "metadata": {
        "id": "LIC8gQ8uHLhv"
      },
      "source": [
        "Start tensorboard"
      ]
    },
    {
      "cell_type": "code",
      "metadata": {
        "id": "8hFM2Mv3AOYf"
      },
      "source": [
        "%load_ext tensorboard\r\n",
        "%tensorboard --logdir $run_path"
      ],
      "execution_count": null,
      "outputs": []
    },
    {
      "cell_type": "markdown",
      "metadata": {
        "id": "H0HKDUjEIn5h"
      },
      "source": [
        "# Test completed weights"
      ]
    },
    {
      "cell_type": "markdown",
      "metadata": {
        "id": "K3yWg7kKJXPk"
      },
      "source": [
        "Inference speed test"
      ]
    },
    {
      "cell_type": "code",
      "metadata": {
        "id": "9nmZZnWOgJ2S"
      },
      "source": [
        "# when we ran this, we saw .007 second inference time. That is 140 FPS on a TESLA P100!\n",
        "%cd /content/yolov5/\n",
        "!python detect.py --weights $weights --img $test_img_size --conf $test_conf --source /content/drive/MyDrive/my-dataset/test/images --project /content/drive/MyDrive/colab_out/"
      ],
      "execution_count": null,
      "outputs": []
    },
    {
      "cell_type": "markdown",
      "metadata": {
        "id": "MH9udI2cJp3N"
      },
      "source": [
        "Display inference on all test images"
      ]
    },
    {
      "cell_type": "code",
      "metadata": {
        "id": "odKEqYtTgbRc"
      },
      "source": [
        "import glob\n",
        "import os.path\n",
        "from os import path\n",
        "from IPython.display import Image, display\n",
        "\n",
        "for imageName in glob.glob(exp_img): #assuming JPG\n",
        "    display(Image(filename=imageName))\n",
        "    print(\"\\n\")"
      ],
      "execution_count": null,
      "outputs": []
    }
  ]
}